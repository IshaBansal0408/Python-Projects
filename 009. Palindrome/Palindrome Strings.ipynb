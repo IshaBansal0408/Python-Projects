{
 "cells": [
  {
   "cell_type": "code",
   "execution_count": 1,
   "metadata": {},
   "outputs": [
    {
     "name": "stdout",
     "output_type": "stream",
     "text": [
      "aibohphobia\n",
      "Reuslt is:  aibohphobia\n",
      "PALINDROME\n"
     ]
    }
   ],
   "source": [
    "s = input()\n",
    "l_s=len(s)\n",
    "r_s=\"\"\n",
    "\n",
    "\n",
    "for i in range(l_s-1,-1,-1):\n",
    "    r_s+=s[i]\n",
    "\n",
    "print(\"Reuslt is: \",r_s)\n",
    "if(r_s==s):\n",
    "    print(\"PALINDROME\")\n",
    "else:\n",
    "    print(\"NOT PALINDROME\")"
   ]
  },
  {
   "cell_type": "code",
   "execution_count": null,
   "metadata": {},
   "outputs": [],
   "source": []
  }
 ],
 "metadata": {
  "kernelspec": {
   "display_name": "Python 3",
   "language": "python",
   "name": "python3"
  },
  "language_info": {
   "codemirror_mode": {
    "name": "ipython",
    "version": 3
   },
   "file_extension": ".py",
   "mimetype": "text/x-python",
   "name": "python",
   "nbconvert_exporter": "python",
   "pygments_lexer": "ipython3",
   "version": "3.8.5"
  }
 },
 "nbformat": 4,
 "nbformat_minor": 4
}
