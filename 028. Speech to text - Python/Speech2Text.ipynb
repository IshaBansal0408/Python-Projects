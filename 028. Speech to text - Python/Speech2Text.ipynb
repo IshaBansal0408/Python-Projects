{
 "cells": [
  {
   "cell_type": "code",
   "execution_count": 1,
   "metadata": {},
   "outputs": [
    {
     "data": {
      "text/plain": [
       "\"6 months and I have realised the fighting for women's rights are often become synonymous with man heating if there is one thing I know it is that this has to stop feminism by definition is the belief that men and women should have equal rights and opportunities is the salary of the economic and social policy of the success of a substance a long time ago when I was a kid I was confused sinkhole but I wanted to direct the place the way improper 14 isostasy sacralized elements of the media 15 my girlfriends started off with sports team because they didn't want to 18 18 Mai Mela friends were unable to express my feelings I decided that I was a feminist and the scenes on complicated recent research has shown me that feminism has become an unpopular\""
      ]
     },
     "execution_count": 1,
     "metadata": {},
     "output_type": "execute_result"
    }
   ],
   "source": [
    "import speech_recognition as SR\n",
    "SR_obj = SR.Recognizer()\n",
    "\n",
    "info = SR.AudioFile('speech.wav')\n",
    "with info as source:\n",
    "    SR_obj.adjust_for_ambient_noise(source)\n",
    "    audio_data = SR_obj.record(source,duration=100)\n",
    "SR_obj.recognize_google(audio_data)"
   ]
  },
  {
   "cell_type": "code",
   "execution_count": null,
   "metadata": {},
   "outputs": [],
   "source": []
  }
 ],
 "metadata": {
  "kernelspec": {
   "display_name": "Python 3",
   "language": "python",
   "name": "python3"
  },
  "language_info": {
   "codemirror_mode": {
    "name": "ipython",
    "version": 3
   },
   "file_extension": ".py",
   "mimetype": "text/x-python",
   "name": "python",
   "nbconvert_exporter": "python",
   "pygments_lexer": "ipython3",
   "version": "3.8.5"
  }
 },
 "nbformat": 4,
 "nbformat_minor": 4
}
