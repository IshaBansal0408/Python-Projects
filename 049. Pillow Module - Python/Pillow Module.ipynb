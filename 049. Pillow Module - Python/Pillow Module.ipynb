{
 "cells": [
  {
   "cell_type": "code",
   "execution_count": 1,
   "metadata": {},
   "outputs": [],
   "source": [
    "from PIL import Image\n",
    "im = Image.open(\"image1.jpg\")\n",
    "im.show()"
   ]
  },
  {
   "cell_type": "code",
   "execution_count": 2,
   "metadata": {},
   "outputs": [],
   "source": [
    "im_rotate = im.rotate(40)\n",
    "im_rotate.show()"
   ]
  },
  {
   "cell_type": "code",
   "execution_count": 3,
   "metadata": {},
   "outputs": [],
   "source": [
    "img1 = Image.open('image1.jpg')\n",
    "img1.thumbnail((200,200))\n",
    "img1.show()"
   ]
  },
  {
   "cell_type": "code",
   "execution_count": 4,
   "metadata": {},
   "outputs": [],
   "source": [
    "from PIL import ImageFilter\n",
    "img2 = Image.open('image1.jpg')\n",
    "img2.convert('RGB')\n",
    "img2.show()\n",
    "blur_img = img2.filter(ImageFilter.BLUR)\n",
    "blur_img.show()"
   ]
  },
  {
   "cell_type": "code",
   "execution_count": 5,
   "metadata": {},
   "outputs": [],
   "source": [
    "from PIL import ImageFilter\n",
    "img2 = Image.open('image1.jpg')\n",
    "img2.convert('RGB')\n",
    "blur_img = img2.filter(ImageFilter.BoxBlur(5))\n",
    "blur_img.show()"
   ]
  },
  {
   "cell_type": "code",
   "execution_count": 6,
   "metadata": {},
   "outputs": [],
   "source": [
    "from PIL import ImageFilter\n",
    "img2 = Image.open('image1.jpg')\n",
    "img2.convert('RGB')\n",
    "blur_img = img2.filter(ImageFilter.GaussianBlur(5))\n",
    "blur_img.show()"
   ]
  },
  {
   "cell_type": "code",
   "execution_count": 7,
   "metadata": {},
   "outputs": [],
   "source": [
    "from PIL import ImageDraw, ImageFont\n",
    "\n",
    "## 1. Loading the image\n",
    "img = Image.open('image1.jpg')\n",
    "\n",
    "## 2. Creating a draw object in order to draw on the image\n",
    "draw = ImageDraw.Draw(img)\n",
    "\n",
    "## 3. Changing the font style and the size of the font to make the watermark clean\n",
    "font = ImageFont.truetype('arial.ttf', 36)\n",
    "\n",
    "## 4. Drawing the text on the image : \n",
    "                # Add the x and y position values\n",
    "                # Enter the text to be drawn\n",
    "                # Set the font to font created in step 3\n",
    "draw.text((100, 100),\"My first Watermark\",font=font)\n",
    "img.show()"
   ]
  }
 ],
 "metadata": {
  "kernelspec": {
   "display_name": "Python 3",
   "language": "python",
   "name": "python3"
  },
  "language_info": {
   "codemirror_mode": {
    "name": "ipython",
    "version": 3
   },
   "file_extension": ".py",
   "mimetype": "text/x-python",
   "name": "python",
   "nbconvert_exporter": "python",
   "pygments_lexer": "ipython3",
   "version": "3.8.5"
  }
 },
 "nbformat": 4,
 "nbformat_minor": 4
}
