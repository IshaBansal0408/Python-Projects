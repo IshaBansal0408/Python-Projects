{
 "cells": [
  {
   "cell_type": "code",
   "execution_count": 5,
   "metadata": {},
   "outputs": [],
   "source": [
    "import pygame\n",
    "\n",
    "pygame.init()\n",
    "width = 1000\n",
    "height = 500\n",
    "window = pygame.display.set_mode((width,height))\n",
    "bg_img = pygame.image.load('Images/bg.png')\n",
    "\n",
    "mixer.init()\n",
    "mixer.music.load('Music File/bensound-summer_wav_music.wav')\n",
    "mixer.music.play()\n",
    "\n",
    "runing = True\n",
    "while runing:\n",
    "    window.blit(bg_img,(0,0))\n",
    "    for event in pygame.event.get():\n",
    "        if event.type == QUIT:\n",
    "            runing = False\n",
    "    pygame.display.update()\n",
    "pygame.quit()"
   ]
  },
  {
   "cell_type": "code",
   "execution_count": null,
   "metadata": {},
   "outputs": [],
   "source": []
  }
 ],
 "metadata": {
  "kernelspec": {
   "display_name": "Python 3",
   "language": "python",
   "name": "python3"
  },
  "language_info": {
   "codemirror_mode": {
    "name": "ipython",
    "version": 3
   },
   "file_extension": ".py",
   "mimetype": "text/x-python",
   "name": "python",
   "nbconvert_exporter": "python",
   "pygments_lexer": "ipython3",
   "version": "3.8.5"
  }
 },
 "nbformat": 4,
 "nbformat_minor": 4
}
