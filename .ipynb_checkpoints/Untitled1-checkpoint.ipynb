{
 "cells": [
  {
   "cell_type": "code",
   "execution_count": 1,
   "metadata": {},
   "outputs": [],
   "source": [
    "import numpy as np\n",
    "import keras\n",
    "from keras.datasets import mnist\n",
    "from keras.models import Model\n",
    "from keras.layers import Dense, Input\n",
    "from keras.layers import Conv2D, MaxPooling2D, Dropout, Flatten\n",
    "from keras import backend as k"
   ]
  },
  {
   "cell_type": "code",
   "execution_count": 2,
   "metadata": {},
   "outputs": [],
   "source": [
    "(x_train, y_train), (x_test, y_test) = mnist.load_data()"
   ]
  },
  {
   "cell_type": "code",
   "execution_count": 3,
   "metadata": {},
   "outputs": [],
   "source": [
    "img_rows, img_cols = 28, 28\n",
    "if k.image_data_format() == 'channels_first':\n",
    "    x_train = x_train.reshape(x_train.shape[0], 1, img_rows, img_cols)\n",
    "    x_test = x_test.reshape(x_test.shape[0], 1, img_rows, img_cols)\n",
    "    inpx = (1, img_rows, img_cols)\n",
    "else:\n",
    "    x_train = x_train.reshape(x_train.shape[0], img_rows, img_cols, 1) \n",
    "    x_test = x_test.reshape(x_test.shape[0], img_rows, img_cols, 1) \n",
    "    inpx = (img_rows, img_cols, 1) \n",
    "x_train = x_train.astype('float32') \n",
    "x_test = x_test.astype('float32') \n",
    "x_train /= 255\n",
    "x_test /= 255"
   ]
  },
  {
   "cell_type": "code",
   "execution_count": 4,
   "metadata": {},
   "outputs": [],
   "source": [
    "y_train = keras.utils.to_categorical(y_train) \n",
    "y_test = keras.utils.to_categorical(y_test) "
   ]
  },
  {
   "cell_type": "code",
   "execution_count": 5,
   "metadata": {},
   "outputs": [],
   "source": [
    "inpx = Input(shape=inpx) \n",
    "layer1 = Conv2D(32, kernel_size=(3, 3), activation='relu')(inpx) \n",
    "layer2 = Conv2D(64, (3, 3), activation='relu')(layer1) \n",
    "layer3 = MaxPooling2D(pool_size=(3, 3))(layer2) \n",
    "layer4 = Dropout(0.5)(layer3) \n",
    "layer5 = Flatten()(layer4) \n",
    "layer6 = Dense(250, activation='sigmoid')(layer5) \n",
    "layer7 = Dense(10, activation='softmax')(layer6) "
   ]
  },
  {
   "cell_type": "code",
   "execution_count": 6,
   "metadata": {},
   "outputs": [
    {
     "name": "stdout",
     "output_type": "stream",
     "text": [
      "Epoch 1/12\n",
      "120/120 [==============================] - 71s 582ms/step - loss: 2.5096 - accuracy: 0.0968 - val_loss: 2.4941 - val_accuracy: 0.0980\n",
      "Epoch 2/12\n",
      "120/120 [==============================] - 67s 558ms/step - loss: 2.4959 - accuracy: 0.0972 - val_loss: 2.4767 - val_accuracy: 0.0980\n",
      "Epoch 3/12\n",
      "120/120 [==============================] - 69s 574ms/step - loss: 2.4770 - accuracy: 0.0992 - val_loss: 2.4596 - val_accuracy: 0.0980\n",
      "Epoch 4/12\n",
      "120/120 [==============================] - 63s 521ms/step - loss: 2.4541 - accuracy: 0.1001 - val_loss: 2.4428 - val_accuracy: 0.0980\n",
      "Epoch 5/12\n",
      "120/120 [==============================] - 64s 530ms/step - loss: 2.4422 - accuracy: 0.0991 - val_loss: 2.4265 - val_accuracy: 0.0980\n",
      "Epoch 6/12\n",
      "120/120 [==============================] - 61s 510ms/step - loss: 2.4213 - accuracy: 0.1003 - val_loss: 2.4107 - val_accuracy: 0.0980\n",
      "Epoch 7/12\n",
      "120/120 [==============================] - 58s 480ms/step - loss: 2.4070 - accuracy: 0.1004 - val_loss: 2.3953 - val_accuracy: 0.0980\n",
      "Epoch 8/12\n",
      "120/120 [==============================] - 57s 478ms/step - loss: 2.3957 - accuracy: 0.0966 - val_loss: 2.3805 - val_accuracy: 0.0980\n",
      "Epoch 9/12\n",
      "120/120 [==============================] - 57s 473ms/step - loss: 2.3788 - accuracy: 0.0999 - val_loss: 2.3662 - val_accuracy: 0.0980\n",
      "Epoch 10/12\n",
      "120/120 [==============================] - 64s 532ms/step - loss: 2.3635 - accuracy: 0.0997 - val_loss: 2.3523 - val_accuracy: 0.0980\n",
      "Epoch 11/12\n",
      "120/120 [==============================] - 65s 540ms/step - loss: 2.3518 - accuracy: 0.0998 - val_loss: 2.3390 - val_accuracy: 0.0980\n",
      "Epoch 12/12\n",
      "120/120 [==============================] - 64s 533ms/step - loss: 2.3375 - accuracy: 0.0992 - val_loss: 2.3261 - val_accuracy: 0.0980\n"
     ]
    }
   ],
   "source": [
    "model = Model([inpx], layer7) \n",
    "model.compile(optimizer=keras.optimizers.Adadelta(), \n",
    "              loss=keras.losses.categorical_crossentropy, \n",
    "              metrics=['accuracy']) \n",
    "  \n",
    "history=model.fit(x_train, y_train, epochs=20, batch_size=500, validation_data=(x_test, y_test)) "
   ]
  },
  {
   "cell_type": "code",
   "execution_count": 9,
   "metadata": {},
   "outputs": [
    {
     "name": "stdout",
     "output_type": "stream",
     "text": [
      "loss= 2.3261170387268066\n",
      "accuracy= 0.09799999743700027\n"
     ]
    }
   ],
   "source": [
    "score = model.evaluate(x_test, y_test, verbose=0) \n",
    "print('loss=', score[0]) \n",
    "print('accuracy=', score[1])"
   ]
  },
  {
   "cell_type": "code",
   "execution_count": null,
   "metadata": {},
   "outputs": [],
   "source": []
  }
 ],
 "metadata": {
  "kernelspec": {
   "display_name": "Python 3",
   "language": "python",
   "name": "python3"
  },
  "language_info": {
   "codemirror_mode": {
    "name": "ipython",
    "version": 3
   },
   "file_extension": ".py",
   "mimetype": "text/x-python",
   "name": "python",
   "nbconvert_exporter": "python",
   "pygments_lexer": "ipython3",
   "version": "3.8.5"
  }
 },
 "nbformat": 4,
 "nbformat_minor": 4
}
