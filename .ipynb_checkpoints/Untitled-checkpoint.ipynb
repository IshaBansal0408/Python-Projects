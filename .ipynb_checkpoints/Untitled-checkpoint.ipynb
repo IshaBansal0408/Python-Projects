{
 "cells": [
  {
   "cell_type": "markdown",
   "metadata": {},
   "source": [
    "## 2. Acronyms in Python Programming\n",
    "\n",
    "https://thecleverprogrammer.com/2021/01/13/acronyms-using-python/\n",
    "\n",
    "1. What are Acronyms?\n",
    "2. Importance of Acroynms.\n",
    "3. Algorithm for checking Anagrams\n",
    "4. Code to check for Anagrams\n",
    "5. Conclusion"
   ]
  },
  {
   "cell_type": "markdown",
   "metadata": {},
   "source": [
    "## 4. Python: Live Weather Updates Project\n",
    "\n",
    "https://thecleverprogrammer.com/2021/05/21/get-live-weather-updates-using-python/\n",
    "\n",
    "1. Introduction to the project\n",
    "2. Algorithm Used\n",
    "3. Code Implementation\n",
    "4. Sample Outputs\n",
    "5. Conclusion"
   ]
  },
  {
   "cell_type": "markdown",
   "metadata": {},
   "source": [
    "## 5. Python Tkinter : Getting Information about a Country\n",
    "\n",
    "https://thecleverprogrammer.com/2021/04/12/countryinfo-in-python-tutorial/\n",
    "\n",
    "1. Introduction to the Project\n",
    "2. Creating Design of the Application\n",
    "3. Working of the application\n",
    "4. Conclusion"
   ]
  },
  {
   "cell_type": "markdown",
   "metadata": {},
   "source": [
    "## 6. Python: The Famous FizzBuzz Problem\n",
    "\n",
    "https://medium.com/@PeterPerlepes/why-fizzbuzz-is-still-relevant-38a555805935\n",
    "\n",
    "1. What is FizzBuzz Problem?\n",
    "2. Why FizzBuzz problem is important?\n",
    "3. Algorithm for FizzBuzz problem\n",
    "4. Code for FizzBuzz problem\n",
    "5. Conclusion"
   ]
  },
  {
   "cell_type": "markdown",
   "metadata": {},
   "source": [
    "## 7. Python: Radar Plot \n",
    "\n",
    "https://thecleverprogrammer.com/2021/04/06/radar-plot-using-python/\n",
    "\n",
    "1. Introduction to Radar Plots\n",
    "2. Plotting Radar Plots\n",
    "3. Conclusion"
   ]
  },
  {
   "cell_type": "markdown",
   "metadata": {},
   "source": [
    "## 8. Python: Stackplot\n",
    "\n",
    "https://www.geeksforgeeks.org/matplotlib-pyplot-stackplot-in-python/\n",
    "\n",
    "1. Introduction to Stackplots\n",
    "2. Plotting Stackplots using matplotlib\n",
    "3. Conclusion"
   ]
  },
  {
   "cell_type": "markdown",
   "metadata": {},
   "source": [
    "## 9. Visualizing Neural Networks\n",
    "\n",
    "https://reposhub.com/python/data-validation/paulgavrikov-visualkeras.html\n",
    "https://thecleverprogrammer.com/2021/06/07/visualize-a-neural-network-using-python/\n",
    "\n",
    "1. Introduction to visualkeras\n",
    "2. Implementation and Visualization of Neural Networks\n",
    "3. Sample Outputs\n",
    "4. Conclusion"
   ]
  },
  {
   "cell_type": "markdown",
   "metadata": {},
   "source": [
    "## 10. Python: OTP Verification\n",
    "\n",
    "https://thecleverprogrammer.com/2021/04/14/otp-verification-using-python/\n",
    "\n",
    "1. What is OTP Verification?\n",
    "2. Implementing OTP Verification\n",
    "3. Final Code\n",
    "4. Sample Outputs\n",
    "5. Conclusion"
   ]
  },
  {
   "cell_type": "markdown",
   "metadata": {},
   "source": [
    "## 3. Text Based Adventure Game in Python\n",
    "\n",
    "https://thecleverprogrammer.com/2021/01/15/text-based-adventure-game-with-python/\n",
    "\n",
    "3. Coding for the Adventure Game\n",
    "4. Conclusion"
   ]
  },
  {
   "cell_type": "code",
   "execution_count": 1,
   "metadata": {},
   "outputs": [],
   "source": [
    "def scene1():\n",
    "    import time\n",
    "    print(\"\"\"WELCOME TO THE ADVENTURE GAME!\n",
    "        Let's start the action! ☆-🎬-☆\n",
    "\n",
    "        Lily wakes up in her bedroom in the middle of the night. She heard a loud BAN outside the house.\n",
    "        Now she has two choices she can either stay in the room or check what the sound might be about.\n",
    "\n",
    "        Type your choice: Stay or Evaluate?\n",
    "    \"\"\")\n",
    "\n",
    "    c1 = input()\n",
    "    time.sleep(2)\n",
    "    ans = 'incorrect'\n",
    "    while(ans=='incorrect'):\n",
    "        if(c1.upper()==\"STAY\"):\n",
    "            print(\"\\nLily decides to stay in the room and ends up staying inside forever as noone seems to come to help her.\")\n",
    "            ans = 'correct'\n",
    "        elif(c1.upper()==\"EVALUATE\"):\n",
    "            print(\"Lily exits the room silently and reaches the main hall.\")\n",
    "            ans='correct'\n",
    "            scene2()\n",
    "        else:\n",
    "            print(\"ENTER THE CORRECT CHOICE! Stay or Evaluate?\")\n",
    "            c1 = input()"
   ]
  },
  {
   "cell_type": "code",
   "execution_count": 2,
   "metadata": {},
   "outputs": [],
   "source": [
    "def scene2():\n",
    "    import time\n",
    "    print(\"\"\"\n",
    "            In the main hall, she finds a strange but cute teedy bear on the floor. \n",
    "            She wanted to pick the teddy up. \n",
    "            But should she? It doesn't belong to her. (•˳̂•̆)\n",
    "\n",
    "            Type your choice: Pick or Ignore?\n",
    "\n",
    "            \"\"\")\n",
    "    time.sleep(2)\n",
    "    c1 = input()\n",
    "    ans = 'incorrect'\n",
    "    while(ans=='incorrect'):\n",
    "        if(c1.upper()==\"PICK\"):\n",
    "            print(\"\"\"\\nThe moment Lily picked up the the teddy bear. The Teddy bear starts TALKING!The bear tells Lily that she is in grave danger as there is a monster in the house.And the monster has captured her PARENTS as well!But he hugged her and told her not to get scared as he knows how to beat the moster!\"\"\")\n",
    "            time.sleep(2)\n",
    "            print(\"\"\"\\nThe bear handed lily a magical potion which can weaken the moster and make him run away!He handed her the potion and then DISAPPEARED!Lily moved forward.\"\"\")\n",
    "            ans = 'correct'\n",
    "            pick=\"True\"\n",
    "        elif(c1.upper()=='IGNORE'):\n",
    "            print(\"\"\"\\nLily decided not to pick up the bear and walked forward.\"\"\")\n",
    "            ans='correct'\n",
    "            pick=\"False\"\n",
    "        else:\n",
    "            print(\"Wrong Input! Enter pick or ignore?\")\n",
    "            c1=input()\n",
    "    time.sleep(2)\n",
    "    scene3(pick)"
   ]
  },
  {
   "cell_type": "code",
   "execution_count": 3,
   "metadata": {},
   "outputs": [],
   "source": [
    "def scene3(pick_value):\n",
    "    import time\n",
    "    print(\"\"\"\\n\\nAfter walking for a while, Lily saw the MONSTOR in front of her!\n",
    "    It had red eyes and evil looks. She got very scared! \"\"\")\n",
    "    time.sleep(2)\n",
    "    if(pick_value==\"True\"):\n",
    "        time.sleep(2)\n",
    "        print(\"\"\"But then she remembered! She had the magic portion and she threw it on the moster!\n",
    "              Well she had nothing to lose!\"\"\")\n",
    "        time.sleep(2)\n",
    "        print(\"\\n The monster SCREAMED in pain but he managed to make a portal and pushed Lily to a new world!\")\n",
    "    elif(pick_value==\"False\"):\n",
    "        print(\"The monster attacked Lily and hurt her! She was then thrown to the new world by the monster!\")"
   ]
  },
  {
   "cell_type": "code",
   "execution_count": 4,
   "metadata": {},
   "outputs": [
    {
     "name": "stdout",
     "output_type": "stream",
     "text": [
      "WELCOME TO THE ADVENTURE GAME!\n",
      "        Let's start the action! ☆-🎬-☆\n",
      "\n",
      "        Lily wakes up in her bedroom in the middle of the night. She heard a loud BAN outside the house.\n",
      "        Now she has two choices she can either stay in the room or check what the sound might be about.\n",
      "\n",
      "        Type your choice: Stay or Evaluate?\n",
      "    \n"
     ]
    },
    {
     "name": "stdin",
     "output_type": "stream",
     "text": [
      " Evaluate\n"
     ]
    },
    {
     "name": "stdout",
     "output_type": "stream",
     "text": [
      "Lily exits the room silently and reaches the main hall.\n",
      "\n",
      "            In the main hall, she finds a strange but cute teedy bear on the floor. \n",
      "            She wanted to pick the teddy up. \n",
      "            But should she? It doesn't belong to her. (•˳̂•̆)\n",
      "\n",
      "            Type your choice: Pick or Ignore?\n",
      "\n",
      "            \n"
     ]
    },
    {
     "name": "stdin",
     "output_type": "stream",
     "text": [
      " Pick\n"
     ]
    },
    {
     "name": "stdout",
     "output_type": "stream",
     "text": [
      "\n",
      "The moment Lily picked up the the teddy bear. The Teddy bear starts TALKING!The bear tells Lily that she is in grave danger as there is a monster in the house.And the monster has captured her PARENTS as well!But he hugged her and told her not to get scared as he knows how to beat the moster!\n",
      "\n",
      "The bear handed lily a magical potion which can weaken the moster and make him run away!He handed her the potion and then DISAPPEARED!Lily moved forward.\n",
      "\n",
      "\n",
      "After walking for a while, Lily saw the MONSTOR in front of her!\n",
      "    It had red eyes and evil looks. She got very scared! \n",
      "But then she remembered! She had the magic portion and she threw it on the moster!\n",
      "              Well she had nothing to lose!\n",
      "\n",
      " The monster SCREAMED in pain but he managed to make a portal and pushed Lily to a new world!\n",
      "=================================END OF CHAPTER 1=================================\n"
     ]
    }
   ],
   "source": [
    "scene1()\n",
    "print(\"\\n\\n\")\n",
    "print(\"=================================END OF CHAPTER 1=================================\")"
   ]
  },
  {
   "cell_type": "code",
   "execution_count": null,
   "metadata": {},
   "outputs": [],
   "source": []
  }
 ],
 "metadata": {
  "kernelspec": {
   "display_name": "Python 3",
   "language": "python",
   "name": "python3"
  },
  "language_info": {
   "codemirror_mode": {
    "name": "ipython",
    "version": 3
   },
   "file_extension": ".py",
   "mimetype": "text/x-python",
   "name": "python",
   "nbconvert_exporter": "python",
   "pygments_lexer": "ipython3",
   "version": "3.8.5"
  }
 },
 "nbformat": 4,
 "nbformat_minor": 4
}
