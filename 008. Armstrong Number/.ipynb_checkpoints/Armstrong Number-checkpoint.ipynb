{
 "cells": [
  {
   "cell_type": "markdown",
   "metadata": {},
   "source": [
    "# Check if a number is an Armstrong Number or not"
   ]
  },
  {
   "cell_type": "code",
   "execution_count": 1,
   "metadata": {},
   "outputs": [
    {
     "name": "stdout",
     "output_type": "stream",
     "text": [
      "153\n",
      "Armstrong Number!\n"
     ]
    }
   ],
   "source": [
    "n = input()\n",
    "n_digit = len(n)\n",
    "n=int(n)\n",
    "copy_n=n\n",
    "result = 0\n",
    "\n",
    "while(n!=0):\n",
    "    digit = n%10\n",
    "    result=result+pow(digit,n_digit)\n",
    "    n=int(n/10)\n",
    "\n",
    "if(result==copy_n):\n",
    "    print(\"Armstrong Number!\")\n",
    "else:\n",
    "    print(\"Not an Armstrong Number!\")"
   ]
  },
  {
   "cell_type": "code",
   "execution_count": null,
   "metadata": {},
   "outputs": [],
   "source": []
  }
 ],
 "metadata": {
  "kernelspec": {
   "display_name": "Python 3",
   "language": "python",
   "name": "python3"
  },
  "language_info": {
   "codemirror_mode": {
    "name": "ipython",
    "version": 3
   },
   "file_extension": ".py",
   "mimetype": "text/x-python",
   "name": "python",
   "nbconvert_exporter": "python",
   "pygments_lexer": "ipython3",
   "version": "3.8.5"
  }
 },
 "nbformat": 4,
 "nbformat_minor": 4
}
