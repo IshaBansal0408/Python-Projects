{
 "cells": [
  {
   "cell_type": "code",
   "execution_count": 1,
   "metadata": {},
   "outputs": [],
   "source": [
    "from wonderwords import RandomWord\n",
    "R_word_obj = RandomWord()\n",
    "for i in range(5):\n",
    "    x = R_word_obj.word()\n",
    "    print(\"Word \"+str(i+1)+\" : \",x)"
   ]
  },
  {
   "cell_type": "code",
   "execution_count": 2,
   "metadata": {},
   "outputs": [
    {
     "name": "stdout",
     "output_type": "stream",
     "text": [
      "Words starting with 'w' and end with 'er'\n",
      "Word 1 :  wafer\n",
      "Word 2 :  walker\n",
      "Word 3 :  wonder\n",
      "Word 4 :  wrestler\n",
      "Word 5 :  weekender\n",
      "\n",
      "Generate random Adjectives\n",
      "Word 1 :  ambiguous\n",
      "Word 2 :  gigantic\n",
      "Word 3 :  jittery\n",
      "Word 4 :  wretched\n",
      "Word 5 :  peaceful\n",
      "\n",
      "Generate random Verbs\n",
      "Word 1 :  input\n",
      "Word 2 :  receive\n",
      "Word 3 :  coordinate\n",
      "Word 4 :  qualify\n",
      "Word 5 :  intensify\n",
      "\n",
      "Generate random words having length between 10 and 20\n",
      "Word 1 :  parenthesis\n",
      "Word 2 :  mayonnaise\n",
      "Word 3 :  representative\n",
      "Word 4 :  rehabilitate\n",
      "Word 5 :  fishmonger\n"
     ]
    }
   ],
   "source": [
    "print(\"Words starting with 'w' and end with 'er'\")\n",
    "for i in range(5):\n",
    "    x = R_word_obj.word(starts_with=\"w\",ends_with=\"er\")\n",
    "    print(\"Word \"+str(i+1)+\" : \",x)\n",
    "    \n",
    "print(\"\\nGenerate random Adjectives\")\n",
    "for i in range(5):\n",
    "    x = R_word_obj.word(include_parts_of_speech=[\"adjectives\"])\n",
    "    print(\"Word \"+str(i+1)+\" : \",x)\n",
    "\n",
    "print(\"\\nGenerate random Verbs\")\n",
    "for i in range(5):\n",
    "    x = R_word_obj.word(include_parts_of_speech=[\"verbs\"])\n",
    "    print(\"Word \"+str(i+1)+\" : \",x)    \n",
    "\n",
    "print(\"\\nGenerate random words having length between 10 and 20\")\n",
    "for i in range(5):\n",
    "    x = R_word_obj.word(word_min_length=10,word_max_length=20)\n",
    "    print(\"Word \"+str(i+1)+\" : \",x)\n"
   ]
  },
  {
   "cell_type": "code",
   "execution_count": 3,
   "metadata": {},
   "outputs": [
    {
     "name": "stdout",
     "output_type": "stream",
     "text": [
      "Random Verbs:  ['generate', 'counsel', 'motivate', 'endure', 'inject', 'heal', 'launch', 'subtract', 'poke', 'refer']\n",
      "\n",
      "\n",
      "Random Adjectives:  ['abortive', 'vague', 'rich', 'numerous', 'inconclusive', 'boundless', 'trashy', 'overt', 'lively', 'redundant', 'illegal', 'disgusted', 'synonymous', 'obsolete', 'quick', 'childlike', 'peaceful', 'discreet', 'numberless', 'penitent', 'terrible', 'fantastic', 'quizzical', 'pastoral', 'mindless', 'momentous', 'kindhearted', 'wonderful', 'joyous', 'spectacular']\n"
     ]
    }
   ],
   "source": [
    "l1 = R_word_obj.random_words(10,include_parts_of_speech=[\"verbs\"])\n",
    "print(\"Random Verbs: \",l1)\n",
    "print(\"\\n\")\n",
    "l2 = R_word_obj.random_words(30,include_parts_of_speech=[\"adjectives\"])\n",
    "print(\"Random Adjectives: \",l2)"
   ]
  },
  {
   "cell_type": "code",
   "execution_count": 4,
   "metadata": {},
   "outputs": [
    {
     "name": "stdout",
     "output_type": "stream",
     "text": [
      "Sentence 1 :  The broken comradeship scrubs motor.\n",
      "Sentence 2 :  The tasteless hydraulics investigates victim.\n",
      "Sentence 3 :  The reflective tug catalogs crewmate.\n",
      "Sentence 4 :  The rampant plover misspells integration.\n",
      "Sentence 5 :  The wonderful sorrow reports hoof.\n"
     ]
    }
   ],
   "source": [
    "from wonderwords import RandomSentence\n",
    "R_sent_obj = RandomSentence()\n",
    "for i in range(5):\n",
    "    x = R_sent_obj.sentence()\n",
    "    print(\"Sentence \"+str(i+1)+\" : \",x)"
   ]
  },
  {
   "cell_type": "code",
   "execution_count": 5,
   "metadata": {},
   "outputs": [
    {
     "name": "stdout",
     "output_type": "stream",
     "text": [
      "Generate sentences with adjectives\n",
      "Sentence 1 :  The cowardly rent inventories.\n",
      "Sentence 2 :  The dusty operating trips.\n",
      "Sentence 3 :  The hollow stool publicizes.\n",
      "Sentence 4 :  The ultra pattypan pokes.\n",
      "Sentence 5 :  The likeable violin sketches.\n"
     ]
    }
   ],
   "source": [
    "print(\"Generate sentences with adjectives\")\n",
    "for i in range(5):\n",
    "    x = R_sent_obj.bare_bone_with_adjective()\n",
    "    print(\"Sentence \"+str(i+1)+\" : \",x)"
   ]
  },
  {
   "cell_type": "code",
   "execution_count": null,
   "metadata": {},
   "outputs": [],
   "source": []
  }
 ],
 "metadata": {
  "kernelspec": {
   "display_name": "Python 3",
   "language": "python",
   "name": "python3"
  },
  "language_info": {
   "codemirror_mode": {
    "name": "ipython",
    "version": 3
   },
   "file_extension": ".py",
   "mimetype": "text/x-python",
   "name": "python",
   "nbconvert_exporter": "python",
   "pygments_lexer": "ipython3",
   "version": "3.8.5"
  }
 },
 "nbformat": 4,
 "nbformat_minor": 4
}
