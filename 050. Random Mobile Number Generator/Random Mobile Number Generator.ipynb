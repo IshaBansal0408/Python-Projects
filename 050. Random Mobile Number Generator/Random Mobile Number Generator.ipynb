{
 "cells": [
  {
   "cell_type": "code",
   "execution_count": 1,
   "metadata": {},
   "outputs": [],
   "source": [
    "import random\n",
    "def generate_number():\n",
    "    list = [\"0\",\"1\",\"2\",\"3\",\"4\",\"5\",\"6\",\"7\",\"8\",\"9\"]\n",
    "    number = \"\"\n",
    "    for i in range(10):\n",
    "        number = number + random.choice(list)\n",
    "    l2.config(text = number)"
   ]
  },
  {
   "cell_type": "code",
   "execution_count": 2,
   "metadata": {},
   "outputs": [],
   "source": [
    "import tkinter as tk\n",
    "window = tk.Tk()\n",
    "window.geometry(\"600x200\")\n",
    "window.config(bg=\"#F39C12\")\n",
    "window.resizable(width=False,height=False)\n",
    "window.title('Random Mobile Number Generator')\n",
    "\n",
    "\n",
    "l1 = tk.Label(text=\"Random Mobile Number Generator\",font=(\"Arial\",20),bg=\"Black\",fg=\"White\")\n",
    "\n",
    "b1 = tk.Button(text=\"Click on me to generate a mobile number\",font=(\"Arial\",15),bg=\"#A3E4D7\",command=generate_number)\n",
    "\n",
    "l2 = tk.Label(bg=\"#F39C12\",font=(\"Arial\",30),text=\"\")\n",
    "\n",
    "l1.place(x=100,y=20)\n",
    "b1.place(x=110,y=70)\n",
    "l2.place(x=165,y=130)\n",
    "\n",
    "window.mainloop()"
   ]
  },
  {
   "cell_type": "code",
   "execution_count": null,
   "metadata": {},
   "outputs": [],
   "source": []
  }
 ],
 "metadata": {
  "kernelspec": {
   "display_name": "Python 3",
   "language": "python",
   "name": "python3"
  },
  "language_info": {
   "codemirror_mode": {
    "name": "ipython",
    "version": 3
   },
   "file_extension": ".py",
   "mimetype": "text/x-python",
   "name": "python",
   "nbconvert_exporter": "python",
   "pygments_lexer": "ipython3",
   "version": "3.8.5"
  }
 },
 "nbformat": 4,
 "nbformat_minor": 4
}
