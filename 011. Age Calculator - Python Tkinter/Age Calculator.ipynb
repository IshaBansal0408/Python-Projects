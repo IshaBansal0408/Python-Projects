{
 "cells": [
  {
   "cell_type": "markdown",
   "metadata": {},
   "source": [
    "# Age Calculator"
   ]
  },
  {
   "cell_type": "code",
   "execution_count": 1,
   "metadata": {},
   "outputs": [],
   "source": [
    "from datetime import date\n",
    "today = date.today()"
   ]
  },
  {
   "cell_type": "code",
   "execution_count": 2,
   "metadata": {},
   "outputs": [],
   "source": [
    "def exit():\n",
    "    window.destroy()\n",
    "\n",
    "def get_age():\n",
    "    d= int(e1.get())\n",
    "    m=int(e2.get())\n",
    "    y=int(e3.get())\n",
    "    age =today.year-y-((today.month, today.day)<(m,d))\n",
    "    t1.config(state='normal')\n",
    "    t1.delete('1.0', tk.END)\n",
    "    t1.insert(tk.END,age)\n",
    "    t1.config(state='disabled')"
   ]
  },
  {
   "cell_type": "code",
   "execution_count": 3,
   "metadata": {},
   "outputs": [],
   "source": [
    "import tkinter as tk\n",
    "window = tk.Tk()\n",
    "window.geometry(\"400x300\")\n",
    "window.config(bg=\"#F7DC6F\")\n",
    "window.resizable(width=False,height=False)\n",
    "window.title('Age Calculator!')\n",
    "\n",
    "l1 = tk.Label(window,text=\"The Age Calculator!\",font=(\"Arial\", 20),fg=\"black\",bg=\"#F7DC6F\")\n",
    "l2 = tk.Label(window,font=(\"Arial\",12),text=\"Enter your birthday which includes the day-month-year.\",fg=\"black\",bg=\"#F7DC6F\")\n",
    "\n",
    "l_d=tk.Label(window,text=\"Date: \",font=('Arial',12,\"bold\"),fg=\"darkgreen\",bg=\"#F7DC6F\")\n",
    "l_m=tk.Label(window,text=\"Month: \",font=('Arial',12,\"bold\"),fg=\"darkgreen\",bg=\"#F7DC6F\")\n",
    "l_y=tk.Label(window,text=\"Year: \",font=('Arial',12,\"bold\"),fg=\"darkgreen\",bg=\"#F7DC6F\")\n",
    "e1=tk.Entry(window,width=5)\n",
    "e2=tk.Entry(window,width=5)\n",
    "e3=tk.Entry(window,width=5)\n",
    "\n",
    "b1=tk.Button(window,text=\"Calculate Age!\",font=(\"Arial\",13),command=get_age)\n",
    "\n",
    "l3 = tk.Label(window,text=\"The Calculated Age is: \",font=('Arial',12,\"bold\"),fg=\"darkgreen\",bg=\"#F7DC6F\")\n",
    "t1=tk.Text(window,width=5,height=0,state=\"disabled\")\n",
    "\n",
    "b2=tk.Button(window,text=\"Exit Application!\",font=(\"Arial\",13),command=exit)\n",
    "\n",
    "l1.place(x=70,y=5)\n",
    "l2.place(x=10,y=40)\n",
    "l_d.place(x=100,y=70)\n",
    "l_m.place(x=100,y=95)\n",
    "l_y.place(x=100,y=120)\n",
    "e1.place(x=180,y=70)\n",
    "e2.place(x=180,y=95)\n",
    "e3.place(x=180,y=120)\n",
    "b1.place(x=100,y=150)\n",
    "l3.place(x=50,y=200)\n",
    "t1.place(x=240,y=203)\n",
    "b2.place(x=100,y=230)"
   ]
  },
  {
   "cell_type": "code",
   "execution_count": 4,
   "metadata": {},
   "outputs": [],
   "source": [
    "window.mainloop()"
   ]
  },
  {
   "cell_type": "markdown",
   "metadata": {},
   "source": [
    "# Sample Output\n",
    "\n",
    "<img src=\"Images/output2.png\">"
   ]
  },
  {
   "cell_type": "code",
   "execution_count": null,
   "metadata": {},
   "outputs": [],
   "source": []
  }
 ],
 "metadata": {
  "kernelspec": {
   "display_name": "Python 3",
   "language": "python",
   "name": "python3"
  },
  "language_info": {
   "codemirror_mode": {
    "name": "ipython",
    "version": 3
   },
   "file_extension": ".py",
   "mimetype": "text/x-python",
   "name": "python",
   "nbconvert_exporter": "python",
   "pygments_lexer": "ipython3",
   "version": "3.8.5"
  }
 },
 "nbformat": 4,
 "nbformat_minor": 4
}
