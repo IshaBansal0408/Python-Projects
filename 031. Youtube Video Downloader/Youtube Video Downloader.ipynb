{
 "cells": [
  {
   "cell_type": "markdown",
   "metadata": {},
   "source": [
    "# Python: YouTube Video Downloader"
   ]
  },
  {
   "cell_type": "code",
   "execution_count": 1,
   "metadata": {},
   "outputs": [],
   "source": [
    "import tkinter as tk\n",
    "from pytube import YouTube\n",
    "\n",
    "\n",
    "def Download_Video():     \n",
    "    url =YouTube(str(link.get()))\n",
    "    video = url.streams.first()\n",
    "    video.download()\n",
    "    tk.Label(window, text = 'Your Video is downloaded!', font = 'arial 15',fg=\"White\",bg=\"#EC7063\").place(x= 10 , y = 140)  \n",
    "\n",
    "window = tk.Tk()\n",
    "window.geometry(\"600x200\")\n",
    "window.config(bg=\"#EC7063\")\n",
    "window.resizable(width=False,height=False)\n",
    "window.title('YouTube Video Downloader')\n",
    "\n",
    "link = tk.StringVar()\n",
    "tk.Label(window,text = '                   Youtube Video Downloader                    ', font ='arial 20 bold',fg=\"White\",bg=\"Black\").pack()\n",
    "tk.Label(window, text = 'Paste Your YouTube Link Here:', font = 'arial 20 bold',fg=\"Black\",bg=\"#EC7063\").place(x= 5 , y = 60)\n",
    "link_enter = tk.Entry(window, width = 53,textvariable = link,font = 'arial 15 bold',bg=\"lightgreen\").place(x = 5, y = 100)\n",
    "tk.Button(window,text = 'DOWNLOAD VIDEO', font = 'arial 15 bold' ,fg=\"white\",bg = 'black', padx = 2,command=Download_Video).place(x=385 ,y = 140)\n",
    "\n",
    "window.mainloop()"
   ]
  },
  {
   "cell_type": "code",
   "execution_count": null,
   "metadata": {},
   "outputs": [],
   "source": []
  }
 ],
 "metadata": {
  "kernelspec": {
   "display_name": "Python 3",
   "language": "python",
   "name": "python3"
  },
  "language_info": {
   "codemirror_mode": {
    "name": "ipython",
    "version": 3
   },
   "file_extension": ".py",
   "mimetype": "text/x-python",
   "name": "python",
   "nbconvert_exporter": "python",
   "pygments_lexer": "ipython3",
   "version": "3.8.5"
  }
 },
 "nbformat": 4,
 "nbformat_minor": 4
}
