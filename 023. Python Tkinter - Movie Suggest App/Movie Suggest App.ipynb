{
 "cells": [
  {
   "cell_type": "code",
   "execution_count": 1,
   "metadata": {},
   "outputs": [],
   "source": [
    "import numpy as np\n",
    "import pandas as pd\n",
    "import random\n",
    "import tkinter as tk\n",
    "\n",
    "data = pd.read_csv(\"indian movies.csv\")\n",
    "data = np.array(data)\n",
    "l_movies=[]\n",
    "for i in data:\n",
    "    l_movies.append((i[1],i[2]))\n",
    "\n",
    "def suggest():\n",
    "    t1.config(state='normal')\n",
    "    t1.delete('1.0', tk.END)\n",
    "    r = random.choice(l_movies)\n",
    "    name = r[0]\n",
    "    year = r[1]\n",
    "    msg = r[0] +\"(\" + r[1] + \")\"\n",
    "    t1.insert(tk.END,msg)\n",
    "    t1.config(state='disabled')\n",
    "window = tk.Tk()\n",
    "window.geometry(\"600x200\")\n",
    "window.config(bg=\"#ABEBC6\")\n",
    "window.resizable(width=False,height=False)\n",
    "window.title('Movie Name Suggestor')\n",
    "\n",
    "l1 = tk.Label(window,text=\"Click on the button to suggest you a movie\",font=(\"Arial\",20),fg=\"Black\",bg=\"White\")\n",
    "b1 = tk.Button(window,text=\"Suggest Movie\",font=(\"Arial\",15),bg=\"darkgreen\",fg=\"white\",command=suggest)\n",
    "t1 = tk.Text(window,width=50,height=1,font=(\"Arial\",15),state='disabled')\n",
    "\n",
    "l1.place(x=30,y=10)\n",
    "b1.place(x=200,y=60)\n",
    "t1.place(x=15,y=120)\n",
    "window.mainloop()"
   ]
  },
  {
   "cell_type": "code",
   "execution_count": null,
   "metadata": {},
   "outputs": [],
   "source": []
  }
 ],
 "metadata": {
  "kernelspec": {
   "display_name": "Python 3",
   "language": "python",
   "name": "python3"
  },
  "language_info": {
   "codemirror_mode": {
    "name": "ipython",
    "version": 3
   },
   "file_extension": ".py",
   "mimetype": "text/x-python",
   "name": "python",
   "nbconvert_exporter": "python",
   "pygments_lexer": "ipython3",
   "version": "3.8.5"
  }
 },
 "nbformat": 4,
 "nbformat_minor": 4
}
