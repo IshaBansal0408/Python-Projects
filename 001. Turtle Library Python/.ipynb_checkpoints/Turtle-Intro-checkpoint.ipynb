{
 "cells": [
  {
   "cell_type": "markdown",
   "metadata": {},
   "source": [
    "# Turtle Library in Python\n",
    "\n",
    "#### Getting Started"
   ]
  },
  {
   "cell_type": "code",
   "execution_count": 1,
   "metadata": {},
   "outputs": [],
   "source": [
    "#Importing Module\n",
    "import turtle"
   ]
  },
  {
   "cell_type": "code",
   "execution_count": 2,
   "metadata": {},
   "outputs": [],
   "source": [
    "# Creating Screen\n",
    "wind = turtle.Screen()\n",
    "\n",
    "# Displaying Screen\n",
    "sc = turtle.getscreen()\n",
    "turtle.mainloop()"
   ]
  },
  {
   "cell_type": "markdown",
   "metadata": {},
   "source": [
    "#### The Output Screen\n",
    "\n",
    "The initial screen looks something like this:\n",
    "\n",
    "<img src=\"./Images/Initial_turtle_window.png\" height=20px width=\"300px\">\n",
    "\n",
    "This window is called the screen. It’s where you can view the output of your code. The little black triangular shape in the middle of the screen is called the turtle."
   ]
  },
  {
   "cell_type": "markdown",
   "metadata": {},
   "source": [
    "#### Moving the turtle on the screen"
   ]
  },
  {
   "cell_type": "code",
   "execution_count": 4,
   "metadata": {},
   "outputs": [],
   "source": [
    "import turtle\n",
    "\n",
    "# Creating Screen\n",
    "my_window = turtle.Screen()\n",
    "\n",
    "# Creating turtle to draw\n",
    "my_pen = turtle.Turtle()      \n",
    "\n",
    "# Moving Forward\n",
    "my_pen.forward(150)           \n",
    "# Turning Right\n",
    "my_pen.right(40)\n",
    "# Moving Forward\n",
    "my_pen.forward(150)\n",
    "#Moving Left\n",
    "my_pen.left(90)\n",
    "#Moving Backward\n",
    "my_pen.backward(30)\n",
    "\n",
    "# Displaying Window\n",
    "my_window.mainloop()"
   ]
  },
  {
   "cell_type": "markdown",
   "metadata": {},
   "source": [
    "#### The Output Screen\n",
    "\n",
    "<img src=\"./Images/Basic_turtle_movement_visualization.png\" height=20px width=\"300px\">"
   ]
  },
  {
   "cell_type": "markdown",
   "metadata": {},
   "source": [
    "#### Creating a Pentagon"
   ]
  },
  {
   "cell_type": "code",
   "execution_count": 6,
   "metadata": {},
   "outputs": [],
   "source": [
    "import turtle\n",
    "\n",
    "# Creating Screen\n",
    "my_window = turtle.Screen()\n",
    "\n",
    "# Creating turtle to draw\n",
    "my_pen = turtle.Turtle()      \n",
    "\n",
    "#Creating a Pentagon\n",
    "for i in range(5):\n",
    "    my_pen.forward(150)\n",
    "    my_pen.left(72)\n",
    "\n",
    "# Displaying Window\n",
    "my_window.mainloop()"
   ]
  },
  {
   "cell_type": "markdown",
   "metadata": {},
   "source": [
    "#### The Output Screen\n",
    "\n",
    "<img src=\"./Images/Making_pentagon_using_turtle.png\" height=20px width=\"300px\">"
   ]
  },
  {
   "cell_type": "markdown",
   "metadata": {},
   "source": [
    "#### Creating a Star shape"
   ]
  },
  {
   "cell_type": "code",
   "execution_count": 8,
   "metadata": {},
   "outputs": [],
   "source": [
    "import turtle\n",
    "\n",
    "# Creating Screen\n",
    "my_window = turtle.Screen()\n",
    "\n",
    "# Creating turtle to draw\n",
    "my_pen = turtle.Turtle()      \n",
    "\n",
    "#Creating a Star Shape\n",
    "for i in range(5):\n",
    "    my_pen.forward(200)\n",
    "    my_pen.right(144)\n",
    "\n",
    "# Displaying Window\n",
    "my_window.mainloop()"
   ]
  },
  {
   "cell_type": "markdown",
   "metadata": {},
   "source": [
    "#### The Output Screen\n",
    "\n",
    "<img src=\"./Images/Making_Star_using_Turtle.png\" height=20px width=\"300px\">"
   ]
  },
  {
   "cell_type": "markdown",
   "metadata": {},
   "source": [
    "#### Making color changes"
   ]
  },
  {
   "cell_type": "code",
   "execution_count": 10,
   "metadata": {},
   "outputs": [],
   "source": [
    "import turtle\n",
    "\n",
    "# Creating Screen\n",
    "my_window = turtle.Screen()\n",
    "turtle.bgcolor('black')\n",
    "\n",
    "# Creating turtle to draw\n",
    "my_pen = turtle.Turtle()\n",
    "my_pen.color('yellow')\n",
    "my_pen.forward(150)\n",
    "my_pen.color('green')\n",
    "my_pen.left(90)\n",
    "my_pen.forward(200)\n",
    "my_pen.color('orange')\n",
    "my_pen.left(90)\n",
    "my_pen.forward(150)\n",
    "my_pen.color('pink')\n",
    "my_pen.left(90)\n",
    "my_pen.forward(200)\n",
    "my_pen.right(90)\n",
    "my_pen.color('black')\n",
    "my_pen.forward(100)\n",
    "\n",
    "colors = ['red','magenta','yellow','orange','green']\n",
    "for i in range(5):\n",
    "    my_pen.color(colors[i])\n",
    "    my_pen.forward(200)\n",
    "    my_pen.right(144)\n",
    "\n",
    "# Displaying Window\n",
    "my_window.mainloop()"
   ]
  },
  {
   "cell_type": "markdown",
   "metadata": {},
   "source": [
    "#### The Output Screen\n",
    "\n",
    "<img src=\"./Images/Making_colorful_turtle_shapes.png\" height=20px width=\"300px\">"
   ]
  },
  {
   "cell_type": "code",
   "execution_count": null,
   "metadata": {},
   "outputs": [],
   "source": []
  }
 ],
 "metadata": {
  "kernelspec": {
   "display_name": "Python 3",
   "language": "python",
   "name": "python3"
  },
  "language_info": {
   "codemirror_mode": {
    "name": "ipython",
    "version": 3
   },
   "file_extension": ".py",
   "mimetype": "text/x-python",
   "name": "python",
   "nbconvert_exporter": "python",
   "pygments_lexer": "ipython3",
   "version": "3.8.5"
  }
 },
 "nbformat": 4,
 "nbformat_minor": 4
}
