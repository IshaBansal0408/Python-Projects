{
 "cells": [
  {
   "cell_type": "code",
   "execution_count": 1,
   "metadata": {},
   "outputs": [
    {
     "name": "stdin",
     "output_type": "stream",
     "text": [
      " 156\n"
     ]
    },
    {
     "name": "stdout",
     "output_type": "stream",
     "text": [
      "Harshad Number!\n"
     ]
    }
   ],
   "source": [
    "n = input()\n",
    "n=int(n)\n",
    "copy_n=n\n",
    "result = 0\n",
    "while(n!=0):\n",
    "    digit = n%10\n",
    "    result=result+ digit\n",
    "    n=int(n/10)\n",
    "if(copy_n%result==0):\n",
    "    print(\"Harshad Number!\")\n",
    "else:\n",
    "    print(\"Not an Harshad Number!\")"
   ]
  },
  {
   "cell_type": "code",
   "execution_count": null,
   "metadata": {},
   "outputs": [],
   "source": []
  }
 ],
 "metadata": {
  "kernelspec": {
   "display_name": "Python 3",
   "language": "python",
   "name": "python3"
  },
  "language_info": {
   "codemirror_mode": {
    "name": "ipython",
    "version": 3
   },
   "file_extension": ".py",
   "mimetype": "text/x-python",
   "name": "python",
   "nbconvert_exporter": "python",
   "pygments_lexer": "ipython3",
   "version": "3.8.5"
  }
 },
 "nbformat": 4,
 "nbformat_minor": 4
}
