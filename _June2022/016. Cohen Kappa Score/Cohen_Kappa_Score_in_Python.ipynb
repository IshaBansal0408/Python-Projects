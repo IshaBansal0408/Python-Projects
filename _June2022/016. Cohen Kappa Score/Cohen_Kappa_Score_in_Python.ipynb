{
  "nbformat": 4,
  "nbformat_minor": 0,
  "metadata": {
    "colab": {
      "name": "Cohen Kappa Score in Python.ipynb",
      "provenance": [],
      "collapsed_sections": []
    },
    "kernelspec": {
      "name": "python3",
      "display_name": "Python 3"
    },
    "language_info": {
      "name": "python"
    },
    "accelerator": "GPU",
    "gpuClass": "standard"
  },
  "cells": [
    {
      "cell_type": "code",
      "execution_count": 1,
      "metadata": {
        "colab": {
          "base_uri": "https://localhost:8080/"
        },
        "id": "Zr0RWrLF8KMq",
        "outputId": "89498781-6dbb-4cc7-82dc-6c7bb6f4eb33"
      },
      "outputs": [
        {
          "output_type": "stream",
          "name": "stdout",
          "text": [
            "The Cohen Kappa Score is :  0.136986301369863\n"
          ]
        }
      ],
      "source": [
        "from sklearn.metrics import cohen_kappa_score\n",
        "\n",
        "rater1 = [0, 1, 1, 0, 0, 0, 1, 1, 1, 1, 1, 1, 0, 1, 0, 1, 0, 0, 1, 0, 1]\n",
        "rater2 = [0, 0, 1, 1, 0, 1, 0, 1, 1, 0, 0, 1, 0, 1, 0, 1, 1, 0, 1, 1, 0]\n",
        "\n",
        "print(\"The Cohen Kappa Score is : \",cohen_kappa_score(rater1, rater2))"
      ]
    },
    {
      "cell_type": "code",
      "source": [
        "from sklearn.metrics import cohen_kappa_score\n",
        "\n",
        "rater1 = [0, 1, 1, 0, 2, 0, 1, 2, 1, 1, 1, 2, 0, 1, 0, 1, 0, 2, 1, 0, 1]\n",
        "rater2 = [0, 2, 1, 1, 0, 1, 2, 1, 1, 0, 0, 1, 0, 2, 0, 1, 1, 0, 1, 1, 0]\n",
        "\n",
        "print(\"The Cohen Kappa Score is : \",cohen_kappa_score(rater1, rater2))"
      ],
      "metadata": {
        "colab": {
          "base_uri": "https://localhost:8080/"
        },
        "id": "xK2OJ0YM_ev9",
        "outputId": "2f120d0a-361b-4e1a-89ee-bc10c540c0d4"
      },
      "execution_count": 2,
      "outputs": [
        {
          "output_type": "stream",
          "name": "stdout",
          "text": [
            "The Cohen Kappa Score is :  -0.07692307692307687\n"
          ]
        }
      ]
    },
    {
      "cell_type": "code",
      "source": [
        ""
      ],
      "metadata": {
        "id": "neikmlqFAHY_"
      },
      "execution_count": null,
      "outputs": []
    }
  ]
}