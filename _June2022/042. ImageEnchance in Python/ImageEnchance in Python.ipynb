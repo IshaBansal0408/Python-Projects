{
 "cells": [
  {
   "cell_type": "markdown",
   "id": "2bd4bec0",
   "metadata": {},
   "source": [
    "## Adjust Brightness"
   ]
  },
  {
   "cell_type": "code",
   "execution_count": 1,
   "id": "50ec26f5",
   "metadata": {},
   "outputs": [],
   "source": [
    "from PIL import ImageEnhance, Image\n",
    "img = Image.open('samp.jpg')\n",
    "\n",
    "curr_bri = ImageEnhance.Brightness(img)\n",
    "new_bri = 2.0\n",
    "\n",
    "enhancer = curr_bri.enhance(new_bri)\n",
    "enhancer.show()"
   ]
  },
  {
   "cell_type": "markdown",
   "id": "5b0ed74f",
   "metadata": {},
   "source": [
    "# Adjust Color"
   ]
  },
  {
   "cell_type": "code",
   "execution_count": 2,
   "id": "4b228a2c",
   "metadata": {},
   "outputs": [],
   "source": [
    "from PIL import ImageEnhance, Image\n",
    "img = Image.open('samp.jpg')\n",
    "factor = 1.0\n",
    "enhancer = ImageEnhance.Color(img)\n",
    "enhancer.enhance(factor).show()"
   ]
  },
  {
   "cell_type": "code",
   "execution_count": 3,
   "id": "bc2e44e4",
   "metadata": {},
   "outputs": [],
   "source": [
    "from PIL import ImageEnhance, Image\n",
    "img = Image.open('samp.jpg')\n",
    "factor = 0.0\n",
    "enhancer = ImageEnhance.Color(img)\n",
    "enhancer.enhance(factor).show()"
   ]
  },
  {
   "cell_type": "code",
   "execution_count": 4,
   "id": "a72ccf48",
   "metadata": {},
   "outputs": [],
   "source": [
    "from PIL import ImageEnhance, Image\n",
    "img = Image.open('samp.jpg')\n",
    "factor = -1.0\n",
    "enhancer = ImageEnhance.Color(img)\n",
    "enhancer.enhance(factor).show()"
   ]
  },
  {
   "cell_type": "markdown",
   "id": "7aa8556c",
   "metadata": {},
   "source": [
    "## Change Contrast"
   ]
  },
  {
   "cell_type": "code",
   "execution_count": 5,
   "id": "0e9d4130",
   "metadata": {},
   "outputs": [],
   "source": [
    "from PIL import ImageEnhance, Image\n",
    "img = Image.open('samp.jpg')\n",
    "factor = 3.0\n",
    "enhancer = ImageEnhance.Contrast(img)\n",
    "enhancer.enhance(factor).show()"
   ]
  },
  {
   "cell_type": "markdown",
   "id": "7996d184",
   "metadata": {},
   "source": [
    "## Make Sharper"
   ]
  },
  {
   "cell_type": "code",
   "execution_count": 6,
   "id": "171c826a",
   "metadata": {},
   "outputs": [],
   "source": [
    "from PIL import ImageEnhance, Image\n",
    "img = Image.open('samp.jpg')\n",
    "factor = 30.0\n",
    "enhancer = ImageEnhance.Sharpness(img)\n",
    "enhancer.enhance(factor).show()"
   ]
  },
  {
   "cell_type": "code",
   "execution_count": null,
   "id": "933b73d8",
   "metadata": {},
   "outputs": [],
   "source": []
  },
  {
   "cell_type": "code",
   "execution_count": null,
   "id": "5f4ff629",
   "metadata": {},
   "outputs": [],
   "source": []
  }
 ],
 "metadata": {
  "kernelspec": {
   "display_name": "Python 3 (ipykernel)",
   "language": "python",
   "name": "python3"
  },
  "language_info": {
   "codemirror_mode": {
    "name": "ipython",
    "version": 3
   },
   "file_extension": ".py",
   "mimetype": "text/x-python",
   "name": "python",
   "nbconvert_exporter": "python",
   "pygments_lexer": "ipython3",
   "version": "3.9.7"
  }
 },
 "nbformat": 4,
 "nbformat_minor": 5
}
