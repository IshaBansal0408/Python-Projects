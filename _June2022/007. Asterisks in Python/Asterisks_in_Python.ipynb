{
  "nbformat": 4,
  "nbformat_minor": 0,
  "metadata": {
    "colab": {
      "name": "Asterisks in Python",
      "provenance": [],
      "collapsed_sections": []
    },
    "kernelspec": {
      "name": "python3",
      "display_name": "Python 3"
    },
    "language_info": {
      "name": "python"
    },
    "accelerator": "GPU"
  },
  "cells": [
    {
      "cell_type": "code",
      "source": [
        "n1 = int(input(\"Enter Number 1 : \"))\n",
        "n2 = int(input(\"Enter Number 2 : \"))\n",
        "\n",
        "print(\"Multiplication\\t\",n1,\" * \",n2,\" = \",n1*n2)\n",
        "print(\"Power\\n\",n1,\" ** \",n2,\" = \",n1**n2)"
      ],
      "metadata": {
        "colab": {
          "base_uri": "https://localhost:8080/"
        },
        "id": "zMHjLBPl6TjS",
        "outputId": "fee32cdd-7592-49e9-993b-d6d0f5bf3848"
      },
      "execution_count": 2,
      "outputs": [
        {
          "output_type": "stream",
          "name": "stdout",
          "text": [
            "Enter Number 1 : 4\n",
            "Enter Number 2 : 2\n",
            "Multiplication\t 4  *  2  =  8\n",
            "Power\t 4  **  2  =  16\n"
          ]
        }
      ]
    },
    {
      "cell_type": "code",
      "source": [
        "S = [\"Ravi\",\"Sameer\",\"Saniya\",\"Sannah\",\"Ragini\",\"Mohit\"]\n",
        "\n",
        "F,*N = S\n",
        "\n",
        "print(\"First in Line is : \",F)\n",
        "print(\"People Next in Line : \", N)\n",
        "print()\n",
        "\n",
        "for i in range(1,len(S)):\n",
        "  F,*N = S[i:]\n",
        "  print(\"Now in Line is : \",F)\n",
        "  print(\"People Next in Line : \", N)\n",
        "  print()\n",
        "\n",
        "print(\"We are done for the day!\")"
      ],
      "metadata": {
        "id": "GU-n4GLNZ85k",
        "colab": {
          "base_uri": "https://localhost:8080/"
        },
        "outputId": "f5e2617b-4108-4b22-e786-d8399eee6a13"
      },
      "execution_count": 6,
      "outputs": [
        {
          "output_type": "stream",
          "name": "stdout",
          "text": [
            "First in Line is :  Ravi\n",
            "People Next in Line :  ['Sameer', 'Saniya', 'Sannah', 'Ragini', 'Mohit']\n",
            "\n",
            "Now in Line is :  Sameer\n",
            "People Next in Line :  ['Saniya', 'Sannah', 'Ragini', 'Mohit']\n",
            "\n",
            "Now in Line is :  Saniya\n",
            "People Next in Line :  ['Sannah', 'Ragini', 'Mohit']\n",
            "\n",
            "Now in Line is :  Sannah\n",
            "People Next in Line :  ['Ragini', 'Mohit']\n",
            "\n",
            "Now in Line is :  Ragini\n",
            "People Next in Line :  ['Mohit']\n",
            "\n",
            "Now in Line is :  Mohit\n",
            "People Next in Line :  []\n",
            "\n",
            "We are done for the day!\n"
          ]
        }
      ]
    },
    {
      "cell_type": "code",
      "source": [
        "lis = [1,2,3]\n",
        "tup = (\"d\",\"r\",\"f\")\n",
        "dic = {\"$\",\"#\",\"@\"}\n",
        "combined_list = [*lis, *tup, *dic]\n",
        "\n",
        "print(\"Combined List is : \",combined_list)"
      ],
      "metadata": {
        "id": "tosyoZYFZ826",
        "colab": {
          "base_uri": "https://localhost:8080/"
        },
        "outputId": "8dad4e8e-cff1-46a3-bdfd-f9705105f969"
      },
      "execution_count": 7,
      "outputs": [
        {
          "output_type": "stream",
          "name": "stdout",
          "text": [
            "Combined List is :  [1, 2, 3, 'd', 'r', 'f', '@', '$', '#']\n"
          ]
        }
      ]
    },
    {
      "cell_type": "code",
      "source": [
        "l = [2,4,5,6,5]\n",
        "\n",
        "print(*l)"
      ],
      "metadata": {
        "id": "FGDnm_UIZ80i",
        "colab": {
          "base_uri": "https://localhost:8080/"
        },
        "outputId": "9fe7322c-1a11-46cb-d4d7-d1ec35246537"
      },
      "execution_count": 9,
      "outputs": [
        {
          "output_type": "stream",
          "name": "stdout",
          "text": [
            "2 4 5 6 5\n"
          ]
        }
      ]
    },
    {
      "cell_type": "code",
      "source": [
        "def fun(*args):\n",
        "    result = 0\n",
        "    for num in args:\n",
        "        result += num\n",
        "    print(\"Multiplication of all elements is : \", result)\n",
        "      \n",
        "fun(2,5,6,2,1)\n",
        "fun(1,2,4)\n",
        "fun(4)\n",
        "fun()"
      ],
      "metadata": {
        "id": "m0nWpZYmZ8yP",
        "colab": {
          "base_uri": "https://localhost:8080/"
        },
        "outputId": "1ff01036-2ed2-4cf0-82d8-a63640e0e125"
      },
      "execution_count": 17,
      "outputs": [
        {
          "output_type": "stream",
          "name": "stdout",
          "text": [
            "Multiplication of all elements is :  16\n",
            "Multiplication of all elements is :  7\n",
            "Multiplication of all elements is :  4\n",
            "Multiplication of all elements is :  0\n"
          ]
        }
      ]
    }
  ]
}