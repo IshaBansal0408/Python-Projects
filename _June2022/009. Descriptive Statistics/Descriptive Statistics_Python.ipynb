{
  "nbformat": 4,
  "nbformat_minor": 0,
  "metadata": {
    "colab": {
      "name": "Comic Visualization Python",
      "provenance": [],
      "collapsed_sections": [
        "8ezMhUdBAGRd",
        "mI8tBLnTZbiX",
        "LM5MoUPObUbV",
        "ahcgA0bYJu2W",
        "DOLGfyAeJ-vh",
        "m5bpJ4eeDrqQ",
        "VkVobO0nEFDV",
        "3IyckHR4Emyy",
        "YxVB8UHfFHmh",
        "y2yG5lIHFnXl"
      ]
    },
    "kernelspec": {
      "name": "python3",
      "display_name": "Python 3"
    },
    "language_info": {
      "name": "python"
    },
    "accelerator": "GPU"
  },
  "cells": [
    {
      "cell_type": "markdown",
      "source": [
        "# Descriptive Statistics"
      ],
      "metadata": {
        "id": "NuKEFD3zCI_6"
      }
    },
    {
      "cell_type": "markdown",
      "source": [
        "## Creating Dataset\n",
        "\n",
        "Let us create a DataFrame and use this dataframe throughout this tutorial for all the operations in the upcoming sections."
      ],
      "metadata": {
        "id": "m5bpJ4eeDrqQ"
      }
    },
    {
      "cell_type": "code",
      "source": [
        "import pandas as pd\n",
        "import numpy as np\n",
        "import random\n",
        "\n",
        "d = {'Name':pd.Series(['Tom','James','Ricky','Vinesh','Steven','Smith','Janvi','Rashi'\n",
        "                       'Jackie','Leo','David','Gasper','Kira','Betina','Andres','Sarah']),\n",
        "      'Age':pd.Series(list(np.random.randint(20,40,size=16))),\n",
        "      'Rating':pd.Series([round(random.uniform(1.0, 5.0), 2)\tfor i in range(16)])}\n",
        "\n",
        "df = pd.DataFrame(d)\n",
        "print(df)"
      ],
      "metadata": {
        "colab": {
          "base_uri": "https://localhost:8080/"
        },
        "id": "F-Z71GkcCLvT",
        "outputId": "b2817c78-c24b-434e-bd79-a94dd400c317"
      },
      "execution_count": null,
      "outputs": [
        {
          "output_type": "stream",
          "name": "stdout",
          "text": [
            "           Name  Age  Rating\n",
            "0           Tom   32    1.82\n",
            "1         James   35    2.33\n",
            "2         Ricky   34    2.05\n",
            "3        Vinesh   34    4.96\n",
            "4        Steven   32    3.74\n",
            "5         Smith   21    2.82\n",
            "6         Janvi   37    2.24\n",
            "7   RashiJackie   35    2.76\n",
            "8           Leo   27    4.77\n",
            "9         David   24    1.12\n",
            "10       Gasper   39    2.44\n",
            "11         Kira   39    4.46\n",
            "12       Betina   22    3.21\n",
            "13       Andres   27    3.55\n",
            "14        Sarah   33    1.76\n",
            "15          NaN   21    4.65\n"
          ]
        }
      ]
    },
    {
      "cell_type": "markdown",
      "source": [
        "## Computing Mean\n",
        "\n",
        "The `arithmetic average` of some data is the average score or value and is computed by simply adding all scores and dividing by the number of scores. It uses information from every single score.\n",
        "\n",
        "Here we are using python library `pandas` to calculate most of our statistical parameters, so we don’t need to write code from scratch. Look at the code below. There are multiple types of means, such as weighted mean, trimmed mean but the code below demonstrates the most common use of mean."
      ],
      "metadata": {
        "id": "VkVobO0nEFDV"
      }
    },
    {
      "cell_type": "code",
      "source": [
        "print(df[['Age','Rating']].mean())"
      ],
      "metadata": {
        "colab": {
          "base_uri": "https://localhost:8080/"
        },
        "id": "witMiPkpCSGS",
        "outputId": "30e4790b-c411-4873-c4eb-cd6ac530af55"
      },
      "execution_count": null,
      "outputs": [
        {
          "output_type": "stream",
          "name": "stdout",
          "text": [
            "Age       30.7500\n",
            "Rating     3.0425\n",
            "dtype: float64\n"
          ]
        }
      ]
    },
    {
      "cell_type": "markdown",
      "source": [
        "## Computing Median\n",
        "\n",
        "Whenever we need to find a middle value, we go for the Median to calculate the median; we need to arrange values in ascending order. \n",
        "\n",
        "If there are odd numbers of observations present in your dataset, then the median is the simple middle value of the ascending order of a particular column.\n",
        "\n",
        "If there are even numbers of observations present, then the median value is the average of two middle values."
      ],
      "metadata": {
        "id": "3IyckHR4Emyy"
      }
    },
    {
      "cell_type": "code",
      "source": [
        "print(df[['Age','Rating']].median())"
      ],
      "metadata": {
        "colab": {
          "base_uri": "https://localhost:8080/"
        },
        "id": "m7_gSjziEYTt",
        "outputId": "c4096981-8ba1-4fff-a16e-8dc7f1ca2dfc"
      },
      "execution_count": null,
      "outputs": [
        {
          "output_type": "stream",
          "name": "stdout",
          "text": [
            "Age       32.50\n",
            "Rating     2.79\n",
            "dtype: float64\n"
          ]
        }
      ]
    },
    {
      "cell_type": "markdown",
      "source": [
        "## Computing Mode\n",
        "\n",
        "The mode is used as the value that appears more frequently in our dataset. The institution of mode is not as immediate as mean or median, but there is a clear rationale. The mode value is usually being calculated for categorical variables. We can calculate mode by simply using .mode() to the pandas data frame object. "
      ],
      "metadata": {
        "id": "YxVB8UHfFHmh"
      }
    },
    {
      "cell_type": "code",
      "source": [
        "from collections import Counter\n",
        "job_time = df['Age'].values\n",
        "data = dict(Counter(job_time))\n",
        "mode = [k for k, v in data.items() if v == max(list(data.values()))]\n",
        "print(\"Mode of the Age : \",mode)"
      ],
      "metadata": {
        "colab": {
          "base_uri": "https://localhost:8080/"
        },
        "id": "pp5Jb_gFFHPo",
        "outputId": "bf76c8ee-4b4c-499d-b2b5-247032b8201c"
      },
      "execution_count": null,
      "outputs": [
        {
          "output_type": "stream",
          "name": "stdout",
          "text": [
            "Mode of the Age :  [32, 35, 34, 21, 27, 39]\n"
          ]
        }
      ]
    },
    {
      "cell_type": "markdown",
      "source": [
        "There are multiple numbers are there is a tie between the numbers that come as an output."
      ],
      "metadata": {
        "id": "4Uw7FWndFUj7"
      }
    },
    {
      "cell_type": "markdown",
      "source": [
        "## Knowing the Spread\n",
        "\n",
        "In this, we have different concepts such as Range, Standard Deviation, Variance, Quartile. However, it mainly tells how data is spread from the center, nothing but mean median, mode.\n",
        "\n",
        "`Range` : The range is nothing but the largest value subtracted from the lowest value.\n",
        "\n",
        "`Deviation` : The deviation is calculated to know how values have deviated from the mean. We can calculate the deviation for any central measures, i.e. mean, median, mode. \n",
        "\n",
        "`Quartile` : Quartiles of distribution are the three values that split the data into four equal parts like as below where Q1 is 25th percentile, Q2 is 50th percentile, and Q3 is the 75th percentile.\n",
        "\n",
        "`Variance` :  Variance indicates how close to or far from the mean are most of the values from a particular variable, and the standard deviation of the square root of the variance gives the magnitude of the variance.\n",
        "\n",
        "`Skewness` is the measure of symmetry or, more precisely, the lack of symmetry. Whereas `kurtosis` is the measure of whether the data are heavy-tailed or light-tailed relative to normal distribution. \n",
        "\n"
      ],
      "metadata": {
        "id": "y2yG5lIHFnXl"
      }
    },
    {
      "cell_type": "code",
      "source": [
        "df[['Age','Rating']].describe(include='all')"
      ],
      "metadata": {
        "colab": {
          "base_uri": "https://localhost:8080/",
          "height": 299
        },
        "id": "REHDQocgE7To",
        "outputId": "abf9a663-0246-4a32-eeb2-c22f9ac975ff"
      },
      "execution_count": null,
      "outputs": [
        {
          "output_type": "execute_result",
          "data": {
            "text/plain": [
              "             Age     Rating\n",
              "count  16.000000  16.000000\n",
              "mean   30.750000   3.042500\n",
              "std     6.223611   1.196966\n",
              "min    21.000000   1.120000\n",
              "25%    26.250000   2.192500\n",
              "50%    32.500000   2.790000\n",
              "75%    35.000000   3.920000\n",
              "max    39.000000   4.960000"
            ],
            "text/html": [
              "\n",
              "  <div id=\"df-7fdefe5f-ee59-4ae2-9dee-93a556146856\">\n",
              "    <div class=\"colab-df-container\">\n",
              "      <div>\n",
              "<style scoped>\n",
              "    .dataframe tbody tr th:only-of-type {\n",
              "        vertical-align: middle;\n",
              "    }\n",
              "\n",
              "    .dataframe tbody tr th {\n",
              "        vertical-align: top;\n",
              "    }\n",
              "\n",
              "    .dataframe thead th {\n",
              "        text-align: right;\n",
              "    }\n",
              "</style>\n",
              "<table border=\"1\" class=\"dataframe\">\n",
              "  <thead>\n",
              "    <tr style=\"text-align: right;\">\n",
              "      <th></th>\n",
              "      <th>Age</th>\n",
              "      <th>Rating</th>\n",
              "    </tr>\n",
              "  </thead>\n",
              "  <tbody>\n",
              "    <tr>\n",
              "      <th>count</th>\n",
              "      <td>16.000000</td>\n",
              "      <td>16.000000</td>\n",
              "    </tr>\n",
              "    <tr>\n",
              "      <th>mean</th>\n",
              "      <td>30.750000</td>\n",
              "      <td>3.042500</td>\n",
              "    </tr>\n",
              "    <tr>\n",
              "      <th>std</th>\n",
              "      <td>6.223611</td>\n",
              "      <td>1.196966</td>\n",
              "    </tr>\n",
              "    <tr>\n",
              "      <th>min</th>\n",
              "      <td>21.000000</td>\n",
              "      <td>1.120000</td>\n",
              "    </tr>\n",
              "    <tr>\n",
              "      <th>25%</th>\n",
              "      <td>26.250000</td>\n",
              "      <td>2.192500</td>\n",
              "    </tr>\n",
              "    <tr>\n",
              "      <th>50%</th>\n",
              "      <td>32.500000</td>\n",
              "      <td>2.790000</td>\n",
              "    </tr>\n",
              "    <tr>\n",
              "      <th>75%</th>\n",
              "      <td>35.000000</td>\n",
              "      <td>3.920000</td>\n",
              "    </tr>\n",
              "    <tr>\n",
              "      <th>max</th>\n",
              "      <td>39.000000</td>\n",
              "      <td>4.960000</td>\n",
              "    </tr>\n",
              "  </tbody>\n",
              "</table>\n",
              "</div>\n",
              "      <button class=\"colab-df-convert\" onclick=\"convertToInteractive('df-7fdefe5f-ee59-4ae2-9dee-93a556146856')\"\n",
              "              title=\"Convert this dataframe to an interactive table.\"\n",
              "              style=\"display:none;\">\n",
              "        \n",
              "  <svg xmlns=\"http://www.w3.org/2000/svg\" height=\"24px\"viewBox=\"0 0 24 24\"\n",
              "       width=\"24px\">\n",
              "    <path d=\"M0 0h24v24H0V0z\" fill=\"none\"/>\n",
              "    <path d=\"M18.56 5.44l.94 2.06.94-2.06 2.06-.94-2.06-.94-.94-2.06-.94 2.06-2.06.94zm-11 1L8.5 8.5l.94-2.06 2.06-.94-2.06-.94L8.5 2.5l-.94 2.06-2.06.94zm10 10l.94 2.06.94-2.06 2.06-.94-2.06-.94-.94-2.06-.94 2.06-2.06.94z\"/><path d=\"M17.41 7.96l-1.37-1.37c-.4-.4-.92-.59-1.43-.59-.52 0-1.04.2-1.43.59L10.3 9.45l-7.72 7.72c-.78.78-.78 2.05 0 2.83L4 21.41c.39.39.9.59 1.41.59.51 0 1.02-.2 1.41-.59l7.78-7.78 2.81-2.81c.8-.78.8-2.07 0-2.86zM5.41 20L4 18.59l7.72-7.72 1.47 1.35L5.41 20z\"/>\n",
              "  </svg>\n",
              "      </button>\n",
              "      \n",
              "  <style>\n",
              "    .colab-df-container {\n",
              "      display:flex;\n",
              "      flex-wrap:wrap;\n",
              "      gap: 12px;\n",
              "    }\n",
              "\n",
              "    .colab-df-convert {\n",
              "      background-color: #E8F0FE;\n",
              "      border: none;\n",
              "      border-radius: 50%;\n",
              "      cursor: pointer;\n",
              "      display: none;\n",
              "      fill: #1967D2;\n",
              "      height: 32px;\n",
              "      padding: 0 0 0 0;\n",
              "      width: 32px;\n",
              "    }\n",
              "\n",
              "    .colab-df-convert:hover {\n",
              "      background-color: #E2EBFA;\n",
              "      box-shadow: 0px 1px 2px rgba(60, 64, 67, 0.3), 0px 1px 3px 1px rgba(60, 64, 67, 0.15);\n",
              "      fill: #174EA6;\n",
              "    }\n",
              "\n",
              "    [theme=dark] .colab-df-convert {\n",
              "      background-color: #3B4455;\n",
              "      fill: #D2E3FC;\n",
              "    }\n",
              "\n",
              "    [theme=dark] .colab-df-convert:hover {\n",
              "      background-color: #434B5C;\n",
              "      box-shadow: 0px 1px 3px 1px rgba(0, 0, 0, 0.15);\n",
              "      filter: drop-shadow(0px 1px 2px rgba(0, 0, 0, 0.3));\n",
              "      fill: #FFFFFF;\n",
              "    }\n",
              "  </style>\n",
              "\n",
              "      <script>\n",
              "        const buttonEl =\n",
              "          document.querySelector('#df-7fdefe5f-ee59-4ae2-9dee-93a556146856 button.colab-df-convert');\n",
              "        buttonEl.style.display =\n",
              "          google.colab.kernel.accessAllowed ? 'block' : 'none';\n",
              "\n",
              "        async function convertToInteractive(key) {\n",
              "          const element = document.querySelector('#df-7fdefe5f-ee59-4ae2-9dee-93a556146856');\n",
              "          const dataTable =\n",
              "            await google.colab.kernel.invokeFunction('convertToInteractive',\n",
              "                                                     [key], {});\n",
              "          if (!dataTable) return;\n",
              "\n",
              "          const docLinkHtml = 'Like what you see? Visit the ' +\n",
              "            '<a target=\"_blank\" href=https://colab.research.google.com/notebooks/data_table.ipynb>data table notebook</a>'\n",
              "            + ' to learn more about interactive tables.';\n",
              "          element.innerHTML = '';\n",
              "          dataTable['output_type'] = 'display_data';\n",
              "          await google.colab.output.renderOutput(dataTable, element);\n",
              "          const docLink = document.createElement('div');\n",
              "          docLink.innerHTML = docLinkHtml;\n",
              "          element.appendChild(docLink);\n",
              "        }\n",
              "      </script>\n",
              "    </div>\n",
              "  </div>\n",
              "  "
            ]
          },
          "metadata": {},
          "execution_count": 13
        }
      ]
    },
    {
      "cell_type": "code",
      "source": [
        "import matplotlib.pyplot as plt\n",
        "plt.figure(figsize=(10,5),facecolor=\"W\")\n",
        "\n",
        "plt.subplot(1,2,1)\n",
        "plt.title(\"Plot for Age Distribution\")\n",
        "plt.hist(df.Age)\n",
        "\n",
        "plt.subplot(1,2,2)\n",
        "plt.title(\"Plot for Rating Distribution\")\n",
        "plt.hist(df.Rating)\n",
        "\n",
        "plt.show()"
      ],
      "metadata": {
        "colab": {
          "base_uri": "https://localhost:8080/",
          "height": 391
        },
        "id": "vCfjZktxGTZ4",
        "outputId": "70a8cb02-60c3-43ee-c354-42a5faceaf2e"
      },
      "execution_count": null,
      "outputs": [
        {
          "output_type": "stream",
          "name": "stderr",
          "text": [
            "/usr/local/lib/python3.7/dist-packages/ipykernel_launcher.py:2: MatplotlibDeprecationWarning: Support for uppercase single-letter colors is deprecated since Matplotlib 3.1 and will be removed in 3.3; please use lowercase instead.\n",
            "  \n"
          ]
        },
        {
          "output_type": "display_data",
          "data": {
            "text/plain": [
              "<Figure size 720x360 with 2 Axes>"
            ],
            "image/png": "[encoded data removed]"
          },
          "metadata": {}
        }
      ]
    },
    {
      "cell_type": "markdown",
      "source": [
        "## Conclusion\n",
        "\n",
        "This was all about the basics of statistics, especially descriptive statistics. The above concepts of descriptive statistics help in: identifying potential data problems such as error outliers, identifying the process issues, selecting appropriate statistical tests for understanding the underlying relationship or pattern. Here we have used the pandas package to calculate all the parameters. We can also use packages like NumPy, math modules or can code it from scratch. "
      ],
      "metadata": {
        "id": "j7b5iyf1HFEY"
      }
    },
    {
      "cell_type": "code",
      "source": [
        ""
      ],
      "metadata": {
        "id": "rw4kp8F6Gh94"
      },
      "execution_count": null,
      "outputs": []
    }
  ]
}