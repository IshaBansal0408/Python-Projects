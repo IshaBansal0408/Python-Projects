{
  "cells": [
    {
      "cell_type": "markdown",
      "source": [
        "# All about Line Chart Visualization using Pygal"
      ],
      "metadata": {
        "id": "QbuUj1rwbFYj"
      }
    },
    {
      "cell_type": "code",
      "source": [
        "%%capture\n",
        "!pip install pygal"
      ],
      "metadata": {
        "id": "hluR14NYnRMd"
      },
      "execution_count": 1,
      "outputs": []
    },
    {
      "cell_type": "code",
      "source": [
        "import pygal"
      ],
      "metadata": {
        "id": "cnnPOCF6nRKa"
      },
      "execution_count": 2,
      "outputs": []
    },
    {
      "cell_type": "code",
      "source": [
        "# Create an empty Line Chart\n",
        "Line_Chart = pygal.Line()\n",
        "\n",
        "# Set title of the Line Chart\n",
        "Line_Chart.title = 'A demonstration of Line Chart using Pygal'\n",
        "\n",
        "# Set x labels/values\n",
        "Line_Chart.x_labels = map(str, range(2000, 2022)) \n",
        "\n",
        "# Adding Line Chart for each language popularity over the years\n",
        "Line_Chart.add('Python', [None, None, 0, 16.1, 22, 30, 36.9, 45.1, \n",
        "                          46.1, 42.33, 37.11, 38.5,50.78, 53.62, 55.37, \n",
        "                          60.22, 60.5, 61.68, 68.65, 79.83, 80.25, 85.44]) \n",
        "\n",
        "Line_Chart.add('Kotlin', [None, None, None, None, None, None, 0, 3.5, 10.1, \n",
        "                          23.1, 35.2,24.03, 46.53, 46.74, 47.31, 59.93,\n",
        "                          16.11, 22.94, 23.56,1.86, 16.07]) \n",
        "\n",
        "Line_Chart.add('C++', [0.99, 7.15, 8.39, 9.78, 14.0, 25.66, 33.3, 35.8, 40.11, \n",
        "                       54.92, 57.17, 60.14, 68.63, 73.11, 75.99, 79.37, 89.73, \n",
        "                       90.82, 95.71,60.66,61.43, 64.94]) \n",
        "\n",
        "Line_Chart.add('Java', [14.1, 15.8, 15.1, 8.8, 8, 10.1, 18.4, 15.1, 16.6, \n",
        "                        16.1, 17.4,19.27, 21.24, 29.29, 38.04, 43.24, \n",
        "                        54.0, 62.55,11.28, 12.08, 13.19,29.35]) \n",
        "\n",
        "# Save the plot in svg format\n",
        "Line_Chart.render_to_file('Line_Chart_Demo.svg')"
      ],
      "metadata": {
        "id": "X9pKBSpUnRHp"
      },
      "execution_count": 3,
      "outputs": []
    },
    {
      "cell_type": "code",
      "source": [
        "# Create an empty Line Chart\n",
        "Line_Chart = pygal.HorizontalLine()\n",
        "\n",
        "# Set title of the Line Chart\n",
        "Line_Chart.title = 'A Horizontal Line Chart using Pygal'\n",
        "\n",
        "# Set x labels/values\n",
        "Line_Chart.x_labels = map(str, range(2000, 2022)) \n",
        "\n",
        "# Adding Line Chart for each language popularity over the years\n",
        "Line_Chart.add('Python', [None, None, 0, 16.1, 22, 30, 36.9, 45.1, \n",
        "                          46.1, 42.33, 37.11, 38.5,50.78, 53.62, 55.37, \n",
        "                          60.22, 60.5, 61.68, 68.65, 79.83, 80.25, 85.44]) \n",
        "\n",
        "Line_Chart.add('Kotlin', [None, None, None, None, None, None, 0, 3.5, 10.1, \n",
        "                          23.1, 35.2,24.03, 46.53, 46.74, 47.31, 59.93,\n",
        "                          16.11, 22.94, 23.56,1.86, 16.07]) \n",
        "\n",
        "Line_Chart.add('C++', [0.99, 7.15, 8.39, 9.78, 14.0, 25.66, 33.3, 35.8, 40.11, \n",
        "                       54.92, 57.17, 60.14, 68.63, 73.11, 75.99, 79.37, 89.73, \n",
        "                       90.82, 95.71,60.66,61.43, 64.94]) \n",
        "\n",
        "Line_Chart.add('Java', [14.1, 15.8, 15.1, 8.8, 8, 10.1, 18.4, 15.1, 16.6, \n",
        "                        16.1, 17.4,19.27, 21.24, 29.29, 38.04, 43.24, \n",
        "                        54.0, 62.55,11.28, 12.08, 13.19,29.35]) \n",
        "\n",
        "# Save the plot in svg format\n",
        "Line_Chart.render_to_file('Horizontal_Line_Chart_Demo.svg')"
      ],
      "metadata": {
        "id": "IxjFx4yea25Y"
      },
      "execution_count": 4,
      "outputs": []
    },
    {
      "cell_type": "code",
      "source": [
        "# Create an empty Line Chart\n",
        "Line_Chart = pygal.StackedLine(fill=True)\n",
        "\n",
        "# Set title of the Line Chart\n",
        "Line_Chart.title = 'A Stacked Line Chart (Filled) using Pygal'\n",
        "\n",
        "# Set x labels/values\n",
        "Line_Chart.x_labels = map(str, range(2000, 2022)) \n",
        "\n",
        "# Adding Line Chart for each language popularity over the years\n",
        "Line_Chart.add('Python', [None, None, 0, 16.1, 22, 30, 36.9, 45.1, \n",
        "                          46.1, 42.33, 37.11, 38.5,50.78, 53.62, 55.37, \n",
        "                          60.22, 60.5, 61.68, 68.65, 79.83, 80.25, 85.44]) \n",
        "\n",
        "Line_Chart.add('Kotlin', [None, None, None, None, None, None, 0, 3.5, 10.1, \n",
        "                          23.1, 35.2,24.03, 46.53, 46.74, 47.31, 59.93,\n",
        "                          16.11, 22.94, 23.56,1.86, 16.07]) \n",
        "\n",
        "Line_Chart.add('C++', [0.99, 7.15, 8.39, 9.78, 14.0, 25.66, 33.3, 35.8, 40.11, \n",
        "                       54.92, 57.17, 60.14, 68.63, 73.11, 75.99, 79.37, 89.73, \n",
        "                       90.82, 95.71,60.66,61.43, 64.94]) \n",
        "\n",
        "Line_Chart.add('Java', [14.1, 15.8, 15.1, 8.8, 8, 10.1, 18.4, 15.1, 16.6, \n",
        "                        16.1, 17.4,19.27, 21.24, 29.29, 38.04, 43.24, \n",
        "                        54.0, 62.55,11.28, 12.08, 13.19,29.35]) \n",
        "\n",
        "# Save the plot in svg format\n",
        "Line_Chart.render_to_file('Stacked_Filled_Line_Chart_Demo.svg')"
      ],
      "metadata": {
        "id": "34CijGada22Z"
      },
      "execution_count": 5,
      "outputs": []
    },
    {
      "cell_type": "code",
      "source": [
        ""
      ],
      "metadata": {
        "id": "5PJKdBNEa2zk"
      },
      "execution_count": 5,
      "outputs": []
    }
  ],
  "metadata": {
    "accelerator": "GPU",
    "colab": {
      "collapsed_sections": [],
      "name": "Line Chart Visualization using Pygal",
      "provenance": []
    },
    "gpuClass": "standard",
    "kernelspec": {
      "display_name": "Python 3",
      "name": "python3"
    },
    "language_info": {
      "name": "python"
    }
  },
  "nbformat": 4,
  "nbformat_minor": 0
}