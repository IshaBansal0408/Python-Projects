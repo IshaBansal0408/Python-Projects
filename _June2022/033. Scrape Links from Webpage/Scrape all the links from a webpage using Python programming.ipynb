{
 "cells": [
  {
   "cell_type": "code",
   "execution_count": 3,
   "id": "d2696c64",
   "metadata": {},
   "outputs": [
    {
     "name": "stdout",
     "output_type": "stream",
     "text": [
      "Enter Link: https://www.askpython.com/author/isha\n",
      "\n",
      "The Links Extracted from the webpage are as follows : \n",
      "\n",
      "#content\n",
      "https://www.askpython.com/\n",
      "https://www.askpython.com\n",
      "https://www.askpython.com/python-course-for-beginners\n",
      "https://www.askpython.com/python-programming\n",
      "https://www.askpython.com/python/diagnose-fever-in-python\n",
      "https://www.askpython.com/python/diagnose-fever-in-python\n",
      "https://www.askpython.com/python/examples/regression-splines\n",
      "https://www.askpython.com/python/examples/regression-splines\n",
      "https://www.askpython.com/python-modules/feature-matching-in-images-opencv\n",
      "https://www.askpython.com/python-modules/feature-matching-in-images-opencv\n",
      "https://www.askpython.com/python-modules/image-pose-detection-mediapipe\n",
      "https://www.askpython.com/python-modules/image-pose-detection-mediapipe\n",
      "https://www.askpython.com/python/examples/python-captcha-generator\n",
      "https://www.askpython.com/python/examples/python-captcha-generator\n",
      "https://www.askpython.com/python-modules/ascii-art\n",
      "https://www.askpython.com/python-modules/ascii-art\n",
      "https://www.askpython.com/python/examples/drawing-car-using-turtle-in-python\n",
      "https://www.askpython.com/python/examples/drawing-car-using-turtle-in-python\n",
      "https://www.askpython.com/python/examples/drawing-a-fish-in-python-turtle\n",
      "https://www.askpython.com/python/examples/drawing-a-fish-in-python-turtle\n",
      "https://www.askpython.com/python/examples/violin-plots-in-python\n",
      "https://www.askpython.com/python/examples/violin-plots-in-python\n",
      "https://www.askpython.com/python/examples/lollipop-charts-in-python\n",
      "https://www.askpython.com/python/examples/lollipop-charts-in-python\n",
      "https://www.askpython.com/author/isha/page/2\n",
      "https://www.askpython.com/author/isha/page/18\n",
      "https://www.askpython.com/author/isha/page/2\n",
      "https://www.askpython.com/python/ultimate-guide-insider-threat-risks-prevention\n",
      "https://www.askpython.com/python/beginners-tutorial-to-train-a-classifier-model-semi-supervised-learning-ssl\n",
      "https://www.askpython.com/python/examples/when-to-use-colon-python\n",
      "https://www.askpython.com/python/examples/animating-data-in-python\n",
      "https://www.askpython.com/python/gamstop-api-worth-the-wait-for-open-use\n",
      "https://www.askpython.com/python/algorithmic-trading-with-python\n",
      "https://www.askpython.com/python-modules/matplotlib/resize-plots-and-subplots\n",
      "https://www.askpython.com/python/diagnose-fever-in-python\n",
      "https://www.askpython.com/python-modules/state-machines-python\n",
      "https://www.askpython.com/python-modules/tkinter/tkinter-create-oval\n",
      "https://www.journaldev.com/\n",
      "https://golangdocs.com/\n",
      "https://www.vm-help.com/\n",
      "https://linuxfordevices.com/\n",
      "https://mysqlcode.com/\n",
      "https://codeforgeek.com/\n",
      "https://www.askpython.com/privacy-policy\n",
      "https://www.askpython.com/terms-and-conditions\n",
      "https://www.askpython.com/contact-me\n",
      "https://www.askpython.com/about\n"
     ]
    }
   ],
   "source": [
    "import requests as rq\n",
    "from bs4 import BeautifulSoup\n",
    "\n",
    "url = input(\"Enter Link: \")\n",
    "if (\"https\" or \"http\") in url:\n",
    "    data = rq.get(url)\n",
    "else:\n",
    "    data = rq.get(\"https://\" + url)\n",
    "\n",
    "soup = BeautifulSoup(data.text, \"html.parser\")\n",
    "links = []\n",
    "for link in soup.find_all(\"a\"):\n",
    "    links.append(link.get(\"href\"))\n",
    "\n",
    "print(\"\\nThe Links Extracted from the webpage are as follows : \\n\")\n",
    "for i in links:\n",
    "    print(i)"
   ]
  },
  {
   "cell_type": "code",
   "execution_count": null,
   "id": "2e259b31",
   "metadata": {},
   "outputs": [],
   "source": []
  }
 ],
 "metadata": {
  "kernelspec": {
   "display_name": "Python 3 (ipykernel)",
   "language": "python",
   "name": "python3"
  },
  "language_info": {
   "codemirror_mode": {
    "name": "ipython",
    "version": 3
   },
   "file_extension": ".py",
   "mimetype": "text/x-python",
   "name": "python",
   "nbconvert_exporter": "python",
   "pygments_lexer": "ipython3",
   "version": "3.9.7"
  }
 },
 "nbformat": 4,
 "nbformat_minor": 5
}
