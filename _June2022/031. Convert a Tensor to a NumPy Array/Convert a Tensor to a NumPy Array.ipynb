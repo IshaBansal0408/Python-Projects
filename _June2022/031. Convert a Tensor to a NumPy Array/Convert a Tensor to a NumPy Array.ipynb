{
 "cells": [
  {
   "cell_type": "code",
   "execution_count": 1,
   "id": "6af33c72",
   "metadata": {},
   "outputs": [
    {
     "name": "stdout",
     "output_type": "stream",
     "text": [
      "The Shape of the Tensor is :  (3, 3, 3)\n",
      "\n",
      "The Tensor is: \n",
      " [[[  1   4   7]\n",
      "  [  2   5   8]\n",
      "  [  3   6   9]]\n",
      "\n",
      " [[ 10  40  70]\n",
      "  [ 20  50  80]\n",
      "  [ 30  60  90]]\n",
      "\n",
      " [[100 400 700]\n",
      "  [200 500 800]\n",
      "  [300 600 900]]]\n"
     ]
    }
   ],
   "source": [
    "from numpy import array\n",
    "sample_Tensor = array([\n",
    "  [[1,4,7],      [2,5,8],      [3,6,9]],\n",
    "  [[10,40,70],   [20,50,80],   [30,60,90]],\n",
    "  [[100,400,700],[200,500,800],[300,600,900]],\n",
    "  ])\n",
    "print(\"The Shape of the Tensor is : \",sample_Tensor.shape)\n",
    "print(\"\\nThe Tensor is: \\n\",sample_Tensor)"
   ]
  },
  {
   "cell_type": "code",
   "execution_count": 2,
   "id": "5667120e",
   "metadata": {},
   "outputs": [
    {
     "name": "stdout",
     "output_type": "stream",
     "text": [
      "The Tensor is :  tensor([7.8200, 7.1000, 6.9000, 9.4000, 1.5300])\n",
      "Conversion Successful!!\n",
      "\n",
      "The Converted array is :  [7.82 7.1  6.9  9.4  1.53]\n"
     ]
    }
   ],
   "source": [
    "import torch\n",
    "import numpy\n",
    "\n",
    "temp_tensor = torch.tensor([7.82,7.1,6.9,9.4,1.53])\n",
    "print(\"The Tensor is : \",temp_tensor)\n",
    " \n",
    "temp_tensor_2_array = temp_tensor.numpy()\n",
    "print(\"Conversion Successful!!\\n\")\n",
    "\n",
    "print(\"The Converted array is : \",temp_tensor_2_array)"
   ]
  },
  {
   "cell_type": "code",
   "execution_count": 3,
   "id": "0babdc89",
   "metadata": {},
   "outputs": [
    {
     "name": "stdout",
     "output_type": "stream",
     "text": [
      "The Tensor is :  tensor([[7.8200, 7.1000, 6.9000, 9.4000, 1.5300],\n",
      "        [8.2000, 8.3000, 2.4000, 9.4000, 2.3000]])\n",
      "Conversion Successful!!\n",
      "\n",
      "The Converted array is :  [[7.82 7.1  6.9  9.4  1.53]\n",
      " [8.2  8.3  2.4  9.4  2.3 ]]\n"
     ]
    }
   ],
   "source": [
    "import torch\n",
    "import numpy\n",
    "\n",
    "temp_tensor = torch.tensor([[7.82,7.1,6.9,9.4,1.53],\n",
    "                           [8.2,8.3,2.4,9.4,2.3]])\n",
    "print(\"The Tensor is : \",temp_tensor)\n",
    " \n",
    "temp_tensor_2_array = temp_tensor.numpy()\n",
    "print(\"Conversion Successful!!\\n\")\n",
    "\n",
    "print(\"The Converted array is : \",temp_tensor_2_array)"
   ]
  },
  {
   "cell_type": "code",
   "execution_count": 4,
   "id": "8e7b5606",
   "metadata": {},
   "outputs": [
    {
     "name": "stdout",
     "output_type": "stream",
     "text": [
      "The tensor is :  tf.Tensor(\n",
      "[[ 400  132]\n",
      " [ 763 8724]], shape=(2, 2), dtype=int32)\n",
      "\n",
      "The array is :  [[ 400  132]\n",
      " [ 763 8724]]\n"
     ]
    }
   ],
   "source": [
    "import tensorflow as tf\n",
    " \n",
    "values = tf.constant([[400,132],[763,8724]])                 \n",
    "tensor = tf.add(values, 1)\n",
    "print(\"The tensor is : \",values)\n",
    "print(\"\\nThe array is : \",values.numpy())"
   ]
  },
  {
   "cell_type": "code",
   "execution_count": null,
   "id": "d9cc118c",
   "metadata": {},
   "outputs": [],
   "source": []
  }
 ],
 "metadata": {
  "kernelspec": {
   "display_name": "Python 3 (ipykernel)",
   "language": "python",
   "name": "python3"
  },
  "language_info": {
   "codemirror_mode": {
    "name": "ipython",
    "version": 3
   },
   "file_extension": ".py",
   "mimetype": "text/x-python",
   "name": "python",
   "nbconvert_exporter": "python",
   "pygments_lexer": "ipython3",
   "version": "3.9.7"
  }
 },
 "nbformat": 4,
 "nbformat_minor": 5
}
