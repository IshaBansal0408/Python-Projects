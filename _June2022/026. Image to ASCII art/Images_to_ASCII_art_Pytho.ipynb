{
  "nbformat": 4,
  "nbformat_minor": 0,
  "metadata": {
    "colab": {
      "name": "Images to ASCII art Pytho",
      "provenance": [],
      "collapsed_sections": []
    },
    "kernelspec": {
      "name": "python3",
      "display_name": "Python 3"
    },
    "language_info": {
      "name": "python"
    },
    "accelerator": "GPU",
    "gpuClass": "standard"
  },
  "cells": [
    {
      "cell_type": "code",
      "source": [
        "import PIL.Image\n",
        " \n",
        "img_flag = True\n",
        "path = input(\"Enter the path to the image field : \\n\")\n",
        " \n",
        "try:\n",
        "  img = PIL.Image.open(path)\n",
        "  img_flag = True\n",
        "except:\n",
        "  print(path, \"Unable to find image \")"
      ],
      "metadata": {
        "colab": {
          "base_uri": "https://localhost:8080/"
        },
        "id": "u834BoPxK2k9",
        "outputId": "5127170d-c0b9-425f-c6ba-b92011e78cf2"
      },
      "execution_count": null,
      "outputs": [
        {
          "name": "stdout",
          "output_type": "stream",
          "text": [
            "Enter the path to the image field : \n",
            "Sam_Img_2.jpg\n"
          ]
        }
      ]
    },
    {
      "cell_type": "code",
      "source": [
        "width, height = img.size\n",
        "aspect_ratio = height/width\n",
        "new_width = 120\n",
        "new_height = aspect_ratio * new_width * 0.55\n",
        "img = img.resize((new_width, int(new_height)))"
      ],
      "metadata": {
        "id": "uhq00b2fK2bZ"
      },
      "execution_count": null,
      "outputs": []
    },
    {
      "cell_type": "code",
      "source": [
        "img = img.convert('L')"
      ],
      "metadata": {
        "id": "0Q1po8NdK2Y2"
      },
      "execution_count": null,
      "outputs": []
    },
    {
      "cell_type": "code",
      "source": [
        "chars = [\"@\", \"S\", \"%\", \"#\", \"*\", \"P\", \"+\", \"Y\", \"A\", \",\", \".\"]"
      ],
      "metadata": {
        "id": "7RGi79_qK2WY"
      },
      "execution_count": null,
      "outputs": []
    },
    {
      "cell_type": "code",
      "source": [
        "pixels = img.getdata()\n",
        "new_pixels = [chars[pixel//25] for pixel in pixels]\n",
        "new_pixels = ''.join(new_pixels)\n",
        "\n",
        "new_pixels_count = len(new_pixels)\n",
        "ascii_image = [new_pixels[index:index + new_width] for index in range(0, new_pixels_count, new_width)]\n",
        "ascii_image = \"\\n\".join(ascii_image)\n",
        "print(ascii_image)\n",
        "\n",
        "with open(\"sample_ascii_image.txt\", \"w\") as f:\n",
        " f.write(ascii_image)"
      ],
      "metadata": {
        "colab": {
          "base_uri": "https://localhost:8080/"
        },
        "id": "QugrO4TVK2Ta",
        "outputId": "e247f02a-a57b-472e-a56e-b2101d58a4d3"
      },
      "execution_count": null,
      "outputs": [
        {
          "output_type": "stream",
          "name": "stdout",
          "text": [
            ",............................,+%SS%%*A..........................,,,,,,,,,,,A,AY*%%S@SP,,,,,,AAAAAAAAA,,,,,,,,,,,,,,,,,,,\n",
            "............................A#SSSSSSS#+.........................,,,,,,,,AAAAAPSSSS%SSS*A,,AAAAAAAAAAAA,,,,,,,,,,,,,,,,,,\n",
            "...........................,#S%###%%SSS*,.......................,,,,,,,AAAA+#SS%###*#%S*AAAAAYYYYYAAAAA,,,,,,,,,,,,,,,,,\n",
            "...........................+S##*#####%SS%+,......................,,,,,AAAY*%SS###*****#%+YYYY+++++YYYAAA,,,,,,,,,,,,,,,,\n",
            "..........................,*#****######%SS#+A....................,,,AAY+*%SS%####***#PP#*++++PPPPP++YAAA,,,,,,,,,,,,,,,,\n",
            "..........................A*++P**###%###%%S@%+A..........,,,..,,,,,Y*+%@SS%#*####***PP+P#PPP*****PP+YYAA,,,,,,..,,,,,,,,\n",
            "..........................Y+A+P***#####*P*#%SS*A,,,,,A,,,AAA,AAY+YY*SS@S#*PPP**###**P+YY**#####***P+YYAA,,,,,,...,,,,,,,\n",
            "..........................YYAY+*#%#**P++YY+P%%S%#**P**PY+**PP*#SS%%SSS%*PYYYY+P*%S%*P+YYP*######**P++YAAA,,,,,,..,,,,,,,\n",
            ".........................,Y+AY+P#SS#PYYYYYY+*%S@SS@@@%%%%SSSSS@@@S%%S%#*+YYYYY+*%S#*P+YY+P#####***PP+YYAA,,,,,,,.,.,,,,,\n",
            ",.......................,,Y+YY++P##*P+YYYYY+*%%S@S@@@S%%%@@SSS@@@SS@S%#*+YYY+++P*#*PP+YYY*#####****P+YYAAA,,,,,,...,,,,,\n",
            ",,,,,,,.................,Y+YYY+PP#%*++YY++P*%SS@@SSSSS%S@@@S%%SSS@S@@SS%*+++++PP*#*PP+YY+*###******P++YYAA,,,,,,....,,,,\n",
            ",,,,,,,,,,..............,YPYY++PP#SS*++++P#%S%###%%%S%%%S@@S%%%SS%%%%%%%%#*P+++P***PP++Y+*#********PP+YYAAA,,,,,...,.,,,\n",
            ",,,,,,,,,,,,,,,,,......,,YP+Y++PP*%SS#PP*####**#%%#%##%SSSS%SSSS%%S%%#********###*PPP+YYY*#********PP++YYAA,,,,,,..,,,,,\n",
            ",,,,,,,,,,,,,,,,.......,,Y+YYY+PPP*#%S%####*#%##%##***#SSS%%SS%#**####%#*###%%%#**PPP+YY+P#***PPPPPPP++YYAAA,,,,,,,,,,,,\n",
            ",,,,,,,,,,,,,,,,,,,,.,,,A+P+YY+P*PP*#%#***######**#****#SSS%%####***######***####****P++P*##*PPPPPPPP++YYYAAA,,,,,,,,,,,\n",
            ",,,,,,,,,,,,,,,,,,,,,,,AP#*PPP****###*******#**PP*#P*###%SS%###***P*P***PPPPPPP*######*PPP##PPPPP+++++++YYYAAAA,,,,,,,,,\n",
            ",,,,,,,,,,,,,,,,,,,,,,,A*#***#####**PPPPP****PPP*****#%%%%S%####*PP**PP**PP+++++PP#%%%###SS#P+++++++++++++YYYAAAAAA,,,,,\n",
            ",,,,,,,,,,,,,,,,,,,,,,,A+#%%#%%#*PPPPP+PPP*****PP***#%#%%%%%###%#**P*PP***P++++PPPP*#%S%SS@%*P++++++++PPP++++YYYYAAAAAA,\n",
            ",,,,,,,,,,,,,,,,,,,,,,AY*%SSS%%*PPPPPPP***PP**PPPPP*#%%%#%%########*P+PP**PPPP+++PPP*#%SSSS%*P++++++++PPPPPPP++++YYYYAAA\n",
            ",,,,,,,,,,,,,,,,,,,,,,A+#%SSS%***********#***PPP++PPP###*#%#%##****P+++**PPP**PPPPP***#%%###*PP++++++PPPP*****PPPP+++YYY\n",
            ",,,,,,,,,,,,,,,,,,,,,AYP*#%S%****PPPPP**#####**P+Y++++*#*##%#*#*P+++YYP**P**##*PP*PPP**#%S####PP+++++PPP***######**PPP++\n",
            ".,,,,,,,,,,,,,,.,,,,,AY+*%S#*P*******######*PP*P+++Y++P##****#*PY++YYY+PP**###****PPPP**#%%###*PP++++PPP**####%%%%###**P\n",
            "....,,..,,..,,,,,,,,,,AP#%*PP*****###*##*P+YYYY++++Y++*###****%P+PYYYY+YAAYP**####**PPPP**%%%%#*PP+++PPP**###%%%%%%%%###\n",
            ".............,,,.,,,,A+#%#PP**P****###***P*###%#%+AA++***PP***##++YYYP***P++PPP**PP*PPPPP*#%S%#*PP+++PPP**####%%%%%%%%%#\n",
            ".............,,,.,,,A+*%%#*P*******%%%%*+YPSS**#S%+YA+PP++PPPP**+YAAP#**%@*Y+P***PPPP**PPP*%%%%%*PP+PPP****#####%%%%%%##\n",
            "............,....,,,A+#%S#******#*##*#*P+AAY#SS@@@%*YY+PP+PPPP++YY+*@@%%%*A,YP**#******PPP*%%#%%#*PPPPPP****#####%%%####\n",
            ".................,,AP#%SS%*##**####***P+PYAAA+**#%%*YY++PPPPP+++Y+#%%#%*+AAAY+YP***##**P**#%%##%%#*PPPPPP*****#########*\n",
            "................,,AY+PP##########%#*P++PP+YAYAAYY+*+YY+PPP**P++YA+PPYAAAAAAAYYYY+*##*****#######%#*P++PPPP****######***P\n",
            "................,,,YY+P**##**%#####*+YY+PPYAYYY+Y+++YY+PP**#*P+YYYYYYYYAAAYYYYY++*##**#***###*P*#%#*PPPPPPP***###****PP+\n",
            "................,,AY+++++****#***PP*+YY+PPP+Y++P+++++Y++PP***P+YYYYYYY+YYY+++YYYPPPPP*#**##*P++P*#%%#*PPPPP*******PPP+++\n",
            "..............,,,,,AAAAA+***PPP+++Y+PYAYY+P+++P++++++Y+++P**P++YYYY+YY++Y+Y+YYY+P+YY+PP*##***P++P*#%%###*****PPPP++++YYY\n",
            "................,,,,,AA+PPP***+YAYYY+YAAAYYY++Y+++++YY++PPPPPP++YYYYYY+YYYAAAAYYYAAYY+P*#*PPP++P***#%%%%%%%#*P+++YYYYYAA\n",
            "..................,,AYYPPP**P+YAAAAYYYAAAAAAAAY++++YYY+PP*PPPPP+YYYYYYYAAAAAAAYYAAAAY+**###*+++PP**##%%%###**+YYYYAAAAAA\n",
            ".................,,A,AY+PP**P+++YAAAYYAAAAAA,AY+Y+YYY+P****P**PP+YAYYYYA,,,,AAYAA,,AY+P*###*PP+++P*##**#%%%#P+YAAAAAA,,,\n",
            ".................,,,AYY++P****+YYAAYYYYYAAAAAAYYYYAAY+P********P+YAAAAYA,,,AA,AAA,AAY*#*PPPPPPP++++*######%%#*+AA,,,,,,,\n",
            "..................,,AY+++PP***PP+YYYYYYYYYYAAYYAAAAAY+P***PPPPPP+YAAAAAAAAAA,,AAAAAYP*#**P+++Y+++YYP####******+YAA,,,,,,\n",
            "..................,,YYYY++P*###**P++YYYY+YYYYYYAAAAYYAYPP*####*P+AAAAAAAAAAAAAAAAY++*###*PP+PPY+YYY+###**##*###*P+YA,,,,\n",
            ".................,,,AY+PP*#%%#**PPPP+YYYYAY++YYYAAA,A+%@@@@@@@@@SP,,AAAAYYAYYYYYY+*##%%%#*P++PP++Y++*##*##%%######*PPPPP\n",
            "..................,,YP****####*P++++YYYYYAY*#P+YAAAA+S@@@@@@@@@@@@+,AAY++YAAY+++P***#%%####****P++++*#***#%#%%%####***##\n",
            "..................,A+*******#**++YYYYAAYYYY*S%+YYAAAPS@@@@S@@S@@@@*,AAY*#+AAAYYY+++P*##%##%%%#**PPPP***P*%%%SS%%######**\n",
            "..................,AP*#********P+YYYAAAYYYY+P#PYYYYA+%@@@@@@@@@@@SYAAYP%*YAAAAY+++P***#%##%%%#PP********##%%S@@@%#######\n",
            "..................,A**PP**PP****P+YYYAAYYYYYYP#YYYYYYPS@@@@@@@@@@*AAAYP+AAAAAA+PPPP**P*****###***##*####%%%###%SSS%#####\n",
            "...................,YAY+++PPPPP*PP+YYAAYYYYYYY++YYYYYYP%@@@@@S@S*YAAY++AAAAAAY+P******PP**PP*PP##%%#*##%%SSSS%%%SSSS%%#*\n",
            "....................,,AA+P++++PPPP+YYAAYYYYYYYY+YY+++P*#%SSS%##*P+YYY+YAAAAAY+************P*####%S%***#%S%%%%SSSS%%SSS%#\n",
            ".....................,,A+P**PPPPPP+++++YY+Y+Y+++++++P*%SS@@@@SS#*P+++YYAAAAY+PP***PPPPP*###*%SSS#*#***P#S@S%%SSSSSS%##*#\n",
            "......................,,AY+P**PPPPPPPP+YY+Y+Y+++++++++PP**#***P+++YY++YAAAY+PPPPP+++PP**##%SS%S%%P+P+PPP#%S%%%%%%SS@S%#*\n",
            ".......................,,,AP***PP++++++P++++Y+++++++P++++YYY+++++YYY+++YYY++P*PP++++PPP*##%SS%%%%*+Y++PPP###**###%SSSS%#\n",
            ".........................,AYP##*P++YY+PP+++++++++++++++PPP++++++YYY+Y++++++++PP+PP+PPPPP#%%%%##%%*P++++PP*########%SS%%%\n",
            ".........................,AAP%%#*PP+++P++++P++++++++++++P+++++++YYY++YY++PPPP**P**PPP**#%%%%%%%%#**P+++PP*###**####%S@S%\n"
          ]
        }
      ]
    },
    {
      "cell_type": "code",
      "source": [
        ""
      ],
      "metadata": {
        "id": "3VGt9RuvEMIP"
      },
      "execution_count": null,
      "outputs": []
    }
  ]
}