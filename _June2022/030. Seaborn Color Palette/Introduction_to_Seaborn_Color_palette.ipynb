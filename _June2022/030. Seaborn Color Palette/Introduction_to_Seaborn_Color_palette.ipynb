{
  "nbformat": 4,
  "nbformat_minor": 0,
  "metadata": {
    "colab": {
      "name": "Introduction to Seaborn - Color palette",
      "provenance": [],
      "collapsed_sections": []
    },
    "kernelspec": {
      "name": "python3",
      "display_name": "Python 3"
    },
    "language_info": {
      "name": "python"
    },
    "accelerator": "GPU",
    "gpuClass": "standard"
  },
  "cells": [
    {
      "cell_type": "code",
      "source": [
        "import matplotlib.pyplot as plt\n",
        "import seaborn as sns\n",
        "plt.style.use('seaborn')"
      ],
      "metadata": {
        "id": "Adfm4ZPkJQqM"
      },
      "execution_count": 1,
      "outputs": []
    },
    {
      "cell_type": "code",
      "source": [
        "print(\"\\t\\t\\tQUALITATIVE COLOR PALETTES\")\n",
        "\n",
        "print(\"=========================================================================\")\n",
        "\n",
        "print(\"\\t\\t\\tSET 1 Color Palette\")\n",
        "qualitative_colors = sns.color_palette(\"Set1\", 10)\n",
        "sns.palplot(qualitative_colors)\n",
        "plt.show()\n",
        "\n",
        "print(\"\\t\\t\\tSET 2 Color Palette\")\n",
        "qualitative_colors = sns.color_palette(\"Set2\", 10)\n",
        "sns.palplot(qualitative_colors)\n",
        "plt.show()\n",
        "\n",
        "print(\"\\t\\t\\tSET 3 Color Palette\")\n",
        "qualitative_colors = sns.color_palette(\"Set3\", 10)\n",
        "sns.palplot(qualitative_colors)\n",
        "plt.show()\n",
        "\n",
        "print(\"=========================================================================\")\n",
        "\n",
        "print(\"\\t\\t\\tPastel Color Palette\")\n",
        "qualitative_colors = sns.color_palette(\"pastel\", 10)\n",
        "sns.palplot(qualitative_colors)\n",
        "plt.show()\n",
        "\n",
        "print(\"\\t\\t\\tMuted Color Palette\")\n",
        "qualitative_colors = sns.color_palette(\"muted\", 10)\n",
        "sns.palplot(qualitative_colors)\n",
        "plt.show()\n",
        "\n",
        "print(\"\\t\\t\\tDeep Color Palette\")\n",
        "qualitative_colors = sns.color_palette(\"deep\", 10)\n",
        "sns.palplot(qualitative_colors)\n",
        "plt.show()\n",
        "\n",
        "print(\"=========================================================================\")\n",
        "\n",
        "print(\"\\t\\t\\tColorBlind Color Palette\")\n",
        "qualitative_colors = sns.color_palette(\"colorblind\", 10)\n",
        "sns.palplot(qualitative_colors)\n",
        "plt.show()\n",
        "\n",
        "print(\"\\t\\t\\tBright Color Palette\")\n",
        "qualitative_colors = sns.color_palette(\"bright\", 10)\n",
        "sns.palplot(qualitative_colors)\n",
        "plt.show()\n",
        "\n",
        "print(\"\\t\\t\\tDark Color Palette\")\n",
        "qualitative_colors = sns.color_palette(\"dark\", 10)\n",
        "sns.palplot(qualitative_colors)\n",
        "plt.show()\n",
        "\n",
        "print(\"=========================================================================\")\n",
        "\n",
        "print(\"\\t\\t\\tPaired Color Palette\")\n",
        "qualitative_colors = sns.color_palette(\"Paired\", 10)\n",
        "sns.palplot(qualitative_colors)\n",
        "plt.show()\n",
        "\n",
        "print(\"\\t\\t\\tHLS Color Palette\")\n",
        "qualitative_colors = sns.color_palette(\"hls\", 10)\n",
        "sns.palplot(qualitative_colors)\n",
        "plt.show()\n",
        "\n",
        "print(\"=========================================================================\")"
      ],
      "metadata": {
        "id": "llTkTBwCJQa9",
        "colab": {
          "base_uri": "https://localhost:8080/",
          "height": 1000
        },
        "outputId": "66d76bfa-b151-43ee-ac13-bd4cc9bef685"
      },
      "execution_count": 2,
      "outputs": [
        {
          "output_type": "stream",
          "name": "stdout",
          "text": [
            "\t\t\tQUALITATIVE COLOR PALETTES\n",
            "=========================================================================\n",
            "\t\t\tSET 1 Color Palette\n"
          ]
        },
        {
          "output_type": "display_data",
          "data": {
            "text/plain": [
              "<Figure size 720x72 with 1 Axes>"
            ],
            "image/png": "[encoded data removed]"
          },
          "metadata": {
            "needs_background": "light"
          }
        },
        {
          "output_type": "stream",
          "name": "stdout",
          "text": [
            "\t\t\tSET 2 Color Palette\n"
          ]
        },
        {
          "output_type": "display_data",
          "data": {
            "text/plain": [
              "<Figure size 720x72 with 1 Axes>"
            ],
            "image/png": "[encoded data removed]"
          },
          "metadata": {
            "needs_background": "light"
          }
        },
        {
          "output_type": "stream",
          "name": "stdout",
          "text": [
            "\t\t\tSET 3 Color Palette\n"
          ]
        },
        {
          "output_type": "display_data",
          "data": {
            "text/plain": [
              "<Figure size 720x72 with 1 Axes>"
            ],
            "image/png": "[encoded data removed]"
          },
          "metadata": {
            "needs_background": "light"
          }
        },
        {
          "output_type": "stream",
          "name": "stdout",
          "text": [
            "=========================================================================\n",
            "\t\t\tPastel Color Palette\n"
          ]
        },
        {
          "output_type": "display_data",
          "data": {
            "text/plain": [
              "<Figure size 720x72 with 1 Axes>"
            ],
            "image/png": "[encoded data removed]"
          },
          "metadata": {
            "needs_background": "light"
          }
        },
        {
          "output_type": "stream",
          "name": "stdout",
          "text": [
            "\t\t\tMuted Color Palette\n"
          ]
        },
        {
          "output_type": "display_data",
          "data": {
            "text/plain": [
              "<Figure size 720x72 with 1 Axes>"
            ],
            "image/png": "[encoded data removed]"
          },
          "metadata": {
            "needs_background": "light"
          }
        },
        {
          "output_type": "stream",
          "name": "stdout",
          "text": [
            "\t\t\tDeep Color Palette\n"
          ]
        },
        {
          "output_type": "display_data",
          "data": {
            "text/plain": [
              "<Figure size 720x72 with 1 Axes>"
            ],
            "image/png": "[encoded data removed]"
          },
          "metadata": {
            "needs_background": "light"
          }
        },
        {
          "output_type": "stream",
          "name": "stdout",
          "text": [
            "=========================================================================\n",
            "\t\t\tColorBlind Color Palette\n"
          ]
        },
        {
          "output_type": "display_data",
          "data": {
            "text/plain": [
              "<Figure size 720x72 with 1 Axes>"
            ],
            "image/png": "[encoded data removed]"
          },
          "metadata": {
            "needs_background": "light"
          }
        },
        {
          "output_type": "stream",
          "name": "stdout",
          "text": [
            "\t\t\tBright Color Palette\n"
          ]
        },
        {
          "output_type": "display_data",
          "data": {
            "text/plain": [
              "<Figure size 720x72 with 1 Axes>"
            ],
            "image/png": "[encoded data removed]"
          },
          "metadata": {
            "needs_background": "light"
          }
        },
        {
          "output_type": "stream",
          "name": "stdout",
          "text": [
            "\t\t\tDark Color Palette\n"
          ]
        },
        {
          "output_type": "display_data",
          "data": {
            "text/plain": [
              "<Figure size 720x72 with 1 Axes>"
            ],
            "image/png": "[encoded data removed]"
          },
          "metadata": {
            "needs_background": "light"
          }
        },
        {
          "output_type": "stream",
          "name": "stdout",
          "text": [
            "=========================================================================\n",
            "\t\t\tPaired Color Palette\n"
          ]
        },
        {
          "output_type": "display_data",
          "data": {
            "text/plain": [
              "<Figure size 720x72 with 1 Axes>"
            ],
            "image/png": "[encoded data removed]"
          },
          "metadata": {
            "needs_background": "light"
          }
        },
        {
          "output_type": "stream",
          "name": "stdout",
          "text": [
            "\t\t\tHLS Color Palette\n"
          ]
        },
        {
          "output_type": "display_data",
          "data": {
            "text/plain": [
              "<Figure size 720x72 with 1 Axes>"
            ],
            "image/png": "[encoded data removed]"
          },
          "metadata": {
            "needs_background": "light"
          }
        },
        {
          "output_type": "stream",
          "name": "stdout",
          "text": [
            "=========================================================================\n"
          ]
        }
      ]
    },
    {
      "cell_type": "code",
      "source": [
        "print(\"\\t\\t\\tSEQUENTIAL COLOR PALETTES\")\n",
        "\n",
        "print(\"=========================================================================\")\n",
        "\n",
        "print(\"\\t\\t\\tROCKET Color Palette\")\n",
        "sns.palplot(sns.color_palette(\"rocket\", 10))\n",
        "plt.show()\n",
        "\n",
        "print(\"\\t\\t\\tMAKO Color Palette\")\n",
        "sns.palplot(sns.color_palette(\"mako\", 10))\n",
        "plt.show()\n",
        "\n",
        "print(\"\\t\\t\\tFLARE Color Palette\")\n",
        "sns.palplot(sns.color_palette(\"flare\", 10))\n",
        "plt.show()\n",
        "\n",
        "print(\"\\t\\t\\tCREST Color Palette\")\n",
        "sns.palplot(sns.color_palette(\"crest\", 10))\n",
        "plt.show()\n",
        "\n",
        "print(\"=========================================================================\")"
      ],
      "metadata": {
        "colab": {
          "base_uri": "https://localhost:8080/",
          "height": 417
        },
        "id": "YTKmCA6BLu3F",
        "outputId": "ccd04f11-531f-446b-fb8d-4421a0f43c91"
      },
      "execution_count": 3,
      "outputs": [
        {
          "output_type": "stream",
          "name": "stdout",
          "text": [
            "\t\t\tSEQUENTIAL COLOR PALETTES\n",
            "=========================================================================\n",
            "\t\t\tROCKET Color Palette\n"
          ]
        },
        {
          "output_type": "display_data",
          "data": {
            "text/plain": [
              "<Figure size 720x72 with 1 Axes>"
            ],
            "image/png": "[encoded data removed]"
          },
          "metadata": {
            "needs_background": "light"
          }
        },
        {
          "output_type": "stream",
          "name": "stdout",
          "text": [
            "\t\t\tMAKO Color Palette\n"
          ]
        },
        {
          "output_type": "display_data",
          "data": {
            "text/plain": [
              "<Figure size 720x72 with 1 Axes>"
            ],
            "image/png": "[encoded data removed]"
          },
          "metadata": {
            "needs_background": "light"
          }
        },
        {
          "output_type": "stream",
          "name": "stdout",
          "text": [
            "\t\t\tFLARE Color Palette\n"
          ]
        },
        {
          "output_type": "display_data",
          "data": {
            "text/plain": [
              "<Figure size 720x72 with 1 Axes>"
            ],
            "image/png": "[encoded data removed]"
          },
          "metadata": {
            "needs_background": "light"
          }
        },
        {
          "output_type": "stream",
          "name": "stdout",
          "text": [
            "\t\t\tCREST Color Palette\n"
          ]
        },
        {
          "output_type": "display_data",
          "data": {
            "text/plain": [
              "<Figure size 720x72 with 1 Axes>"
            ],
            "image/png": "[encoded data removed]"
          },
          "metadata": {
            "needs_background": "light"
          }
        },
        {
          "output_type": "stream",
          "name": "stdout",
          "text": [
            "=========================================================================\n"
          ]
        }
      ]
    },
    {
      "cell_type": "code",
      "source": [
        "print(\"\\t\\t\\tDIVERGING COLOR PALETTES\")\n",
        "\n",
        "print(\"=========================================================================\")\n",
        "\n",
        "print(\"\\t\\t\\tVLAG Color Palette\")\n",
        "sns.palplot(sns.color_palette(\"vlag\", 10))\n",
        "plt.show()\n",
        "\n",
        "print(\"\\t\\t\\tMAKO Color Palette\")\n",
        "sns.palplot(sns.color_palette(\"mako\", 10))\n",
        "plt.show()\n",
        "\n",
        "print(\"\\t\\t\\tICEFIRE Color Palette\")\n",
        "sns.palplot(sns.color_palette(\"icefire\", 10))\n",
        "plt.show()\n",
        "\n",
        "print(\"\\t\\t\\tSPECTRAL Color Palette\")\n",
        "sns.palplot(sns.color_palette(\"Spectral\", 10))\n",
        "plt.show()\n",
        "\n",
        "print(\"\\t\\t\\tCOOLWARM Color Palette\")\n",
        "sns.palplot(sns.color_palette(\"coolwarm\", 10))\n",
        "plt.show()\n",
        "\n",
        "print(\"=========================================================================\")"
      ],
      "metadata": {
        "id": "ui1IbUAfW5In",
        "colab": {
          "base_uri": "https://localhost:8080/",
          "height": 503
        },
        "outputId": "42641747-a40c-43fa-f20a-931c500cb55b"
      },
      "execution_count": 4,
      "outputs": [
        {
          "output_type": "stream",
          "name": "stdout",
          "text": [
            "\t\t\tDIVERGING COLOR PALETTES\n",
            "=========================================================================\n",
            "\t\t\tVLAG Color Palette\n"
          ]
        },
        {
          "output_type": "display_data",
          "data": {
            "text/plain": [
              "<Figure size 720x72 with 1 Axes>"
            ],
            "image/png": "[encoded data removed]"
          },
          "metadata": {
            "needs_background": "light"
          }
        },
        {
          "output_type": "stream",
          "name": "stdout",
          "text": [
            "\t\t\tMAKO Color Palette\n"
          ]
        },
        {
          "output_type": "display_data",
          "data": {
            "text/plain": [
              "<Figure size 720x72 with 1 Axes>"
            ],
            "image/png": "[encoded data removed]"
          },
          "metadata": {
            "needs_background": "light"
          }
        },
        {
          "output_type": "stream",
          "name": "stdout",
          "text": [
            "\t\t\tICEFIRE Color Palette\n"
          ]
        },
        {
          "output_type": "display_data",
          "data": {
            "text/plain": [
              "<Figure size 720x72 with 1 Axes>"
            ],
            "image/png": "[encoded data removed]"
          },
          "metadata": {
            "needs_background": "light"
          }
        },
        {
          "output_type": "stream",
          "name": "stdout",
          "text": [
            "\t\t\tSPECTRAL Color Palette\n"
          ]
        },
        {
          "output_type": "display_data",
          "data": {
            "text/plain": [
              "<Figure size 720x72 with 1 Axes>"
            ],
            "image/png": "[encoded data removed]"
          },
          "metadata": {
            "needs_background": "light"
          }
        },
        {
          "output_type": "stream",
          "name": "stdout",
          "text": [
            "\t\t\tCOOLWARM Color Palette\n"
          ]
        },
        {
          "output_type": "display_data",
          "data": {
            "text/plain": [
              "<Figure size 720x72 with 1 Axes>"
            ],
            "image/png": "[encoded data removed]"
          },
          "metadata": {
            "needs_background": "light"
          }
        },
        {
          "output_type": "stream",
          "name": "stdout",
          "text": [
            "=========================================================================\n"
          ]
        }
      ]
    },
    {
      "cell_type": "code",
      "source": [
        ""
      ],
      "metadata": {
        "id": "UYwjelW-RZkL"
      },
      "execution_count": 4,
      "outputs": []
    }
  ]
}