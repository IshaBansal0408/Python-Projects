{
  "nbformat": 4,
  "nbformat_minor": 0,
  "metadata": {
    "colab": {
      "name": "Intro to Functools in Python",
      "provenance": [],
      "collapsed_sections": [
        "_oD0voqppjjh",
        "ZF4hKwRPphRw",
        "A6b1HQGopnAg",
        "wOyVQdlbppWM",
        "xvwz6vqypwjY"
      ]
    },
    "kernelspec": {
      "name": "python3",
      "display_name": "Python 3"
    },
    "language_info": {
      "name": "python"
    },
    "accelerator": "GPU"
  },
  "cells": [
    {
      "cell_type": "markdown",
      "source": [
        "## Change Python version"
      ],
      "metadata": {
        "id": "_oD0voqppjjh"
      }
    },
    {
      "cell_type": "code",
      "source": [
        "!python --version"
      ],
      "metadata": {
        "colab": {
          "base_uri": "https://localhost:8080/"
        },
        "id": "WGF_5mc_pbP5",
        "outputId": "bf9ba040-4a22-4099-bb6a-05c9d33c5d61"
      },
      "execution_count": 1,
      "outputs": [
        {
          "output_type": "stream",
          "name": "stdout",
          "text": [
            "Python 3.7.13\n"
          ]
        }
      ]
    },
    {
      "cell_type": "code",
      "source": [
        "%%capture\n",
        "!wget -O mini.sh https://repo.anaconda.com/miniconda/Miniconda3-py39_4.9.2-Linux-x86_64.sh\n",
        "!chmod +x mini.sh\n",
        "!bash ./mini.sh -b -f -p /usr/local\n",
        "!conda install -q -y jupyter\n",
        "!conda install -q -y google-colab -c conda-forge\n",
        "!python -m ipykernel install --name \"py38\" --user"
      ],
      "metadata": {
        "id": "6ndR0JY6pBQL"
      },
      "execution_count": 2,
      "outputs": []
    },
    {
      "cell_type": "code",
      "source": [
        "!python --version"
      ],
      "metadata": {
        "colab": {
          "base_uri": "https://localhost:8080/"
        },
        "id": "tBXEpkdipBK_",
        "outputId": "cc5629d7-6aac-4506-d758-8d3a03b76345"
      },
      "execution_count": 3,
      "outputs": [
        {
          "output_type": "stream",
          "name": "stdout",
          "text": [
            "Python 3.9.1\n"
          ]
        }
      ]
    },
    {
      "cell_type": "markdown",
      "source": [
        "## Reduce Function"
      ],
      "metadata": {
        "id": "ZF4hKwRPphRw"
      }
    },
    {
      "cell_type": "code",
      "source": [
        "from functools import reduce\n",
        "\n",
        "# Take input of the list\n",
        "\n",
        "inp_list = list(map(int,input(\"Enter all the elements separated by space : \").split()))\n",
        "print(\"List entered is as follows : \",inp_list)\n",
        "\n",
        "# Multiply all the elements of the list\n",
        "square_elements = reduce(lambda a,b: a*b, inp_list)\n",
        "print(\"\\nResult of multiplying the elements of the list : \",square_elements)"
      ],
      "metadata": {
        "colab": {
          "base_uri": "https://localhost:8080/"
        },
        "id": "ooet0FYFXRIy",
        "outputId": "c310e1d1-9ad9-4edc-ab7b-70efa2a804c3"
      },
      "execution_count": 4,
      "outputs": [
        {
          "output_type": "stream",
          "name": "stdout",
          "text": [
            "Enter all the elements separated by space : 1 3 6\n",
            "List entered is as follows :  [1, 3, 6]\n",
            "\n",
            "Result of multiplying the elements of the list :  18\n"
          ]
        }
      ]
    },
    {
      "cell_type": "markdown",
      "source": [
        "## Lru_cache Function"
      ],
      "metadata": {
        "id": "A6b1HQGopnAg"
      }
    },
    {
      "cell_type": "code",
      "source": [
        "from functools import lru_cache\n",
        "\n",
        "#function without lru_cache\n",
        "def factorial_nolru(n):\n",
        "    if n <= 1:\n",
        "        return 1\n",
        "    return n * factorial_nolru(n-1)\n",
        "\n",
        "print(\"Results without LRU : \\n\")\n",
        "%timeit factorial_nolru(5)\n",
        "\n",
        "@lru_cache(maxsize=None)\n",
        "def factorial_lru(n):\n",
        "    if n <= 1:\n",
        "        return 1\n",
        "    return n * factorial_lru(n-1)\n",
        "\n",
        "print(\"\\nResults with LRU : \\n\")\n",
        "%timeit factorial_lru(10)\n"
      ],
      "metadata": {
        "colab": {
          "base_uri": "https://localhost:8080/"
        },
        "id": "xlxVRHrXYWFF",
        "outputId": "27088522-ed01-44cc-aab2-75db2cbf7014"
      },
      "execution_count": 5,
      "outputs": [
        {
          "output_type": "stream",
          "name": "stdout",
          "text": [
            "Results without LRU : \n",
            "\n",
            "1000000 loops, best of 5: 580 ns per loop\n",
            "\n",
            "Results with LRU : \n",
            "\n",
            "The slowest run took 73.53 times longer than the fastest. This could mean that an intermediate result is being cached.\n",
            "10000000 loops, best of 5: 73.4 ns per loop\n"
          ]
        }
      ]
    },
    {
      "cell_type": "markdown",
      "source": [
        "## Partial Function\n"
      ],
      "metadata": {
        "id": "wOyVQdlbppWM"
      }
    },
    {
      "cell_type": "code",
      "source": [
        "from functools import partial\n",
        "from operator import *\n",
        "\n",
        "# partial (<function> , <first input parameter>)\n",
        "add_10_number = partial(add,10)\n",
        "\n",
        "# calling the function\n",
        "print(\"After adding to the number : \",add_10_number(4))\n"
      ],
      "metadata": {
        "colab": {
          "base_uri": "https://localhost:8080/"
        },
        "id": "X4cEMT5FYWAJ",
        "outputId": "42615218-0277-46e4-889b-ee1210eee385"
      },
      "execution_count": 8,
      "outputs": [
        {
          "output_type": "stream",
          "name": "stdout",
          "text": [
            "After adding to the number :  14\n"
          ]
        }
      ]
    },
    {
      "cell_type": "markdown",
      "source": [
        "## Partialmethod Function"
      ],
      "metadata": {
        "id": "xvwz6vqypwjY"
      }
    },
    {
      "cell_type": "code",
      "source": [
        "from functools import partialmethod\n",
        "\n",
        "class Car:\n",
        "    def __init__(self):\n",
        "        self.type = \"Car\"\n",
        "    def _set_type(self, type):\n",
        "        self.type = type\n",
        "    set_Truck = partialmethod(_set_type, type=\"Truck\")\n",
        "    set_Bike = partialmethod(_set_type, type=\"Bike\")\n",
        "\n",
        "C = Car()\n",
        "print(f'The default Type is {C.type}')\n",
        "C.set_Truck()\n",
        "print(f'The new Type is {C.type}')\n",
        "C.set_Bike()\n",
        "print(f'The latest Type is {C.type}')"
      ],
      "metadata": {
        "colab": {
          "base_uri": "https://localhost:8080/"
        },
        "id": "sxsVDwFkpwAt",
        "outputId": "37bf015e-410a-43d8-cd07-3960800bb58e"
      },
      "execution_count": 8,
      "outputs": [
        {
          "output_type": "stream",
          "name": "stdout",
          "text": [
            "The default Type is Car\n",
            "The new Type is Truck\n",
            "The latest Type is Bike\n"
          ]
        }
      ]
    },
    {
      "cell_type": "markdown",
      "source": [
        "## Singledispatch Function"
      ],
      "metadata": {
        "id": "nctCWi3-6pIF"
      }
    },
    {
      "cell_type": "code",
      "source": [
        "from functools import singledispatch\n",
        "\n",
        "@singledispatch\n",
        "def divide_anb(a:int,b:int)->float:\n",
        "    return a/b\n",
        "\n",
        "print(\"The Result is : \",divide_anb(10,2))\n",
        "print(\"The Result is : \",divide_anb(783,2))"
      ],
      "metadata": {
        "colab": {
          "base_uri": "https://localhost:8080/"
        },
        "id": "CJ70Jog-5a9l",
        "outputId": "6869a258-ac77-4c0e-d19b-67b6615edc5b"
      },
      "execution_count": 11,
      "outputs": [
        {
          "output_type": "stream",
          "name": "stdout",
          "text": [
            "The Result is :  5.0\n",
            "The Result is :  391.5\n"
          ]
        }
      ]
    }
  ]
}