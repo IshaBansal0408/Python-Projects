{
  "nbformat": 4,
  "nbformat_minor": 0,
  "metadata": {
    "colab": {
      "name": "Handling Unbalanced Dataset.ipynb",
      "provenance": [],
      "collapsed_sections": []
    },
    "kernelspec": {
      "name": "python3",
      "display_name": "Python 3"
    },
    "language_info": {
      "name": "python"
    }
  },
  "cells": [
    {
      "cell_type": "code",
      "execution_count": 1,
      "metadata": {
        "id": "X7Yd-HXoOaGa"
      },
      "outputs": [],
      "source": [
        "from sklearn import datasets\n",
        "import numpy as np\n",
        " \n",
        "bc = datasets.load_breast_cancer(as_frame=True)\n",
        "X = bc.data\n",
        "y = bc.target\n",
        " \n",
        "X_imb = np.vstack((X[y == 1], X[y == 0][:30]))\n",
        "y_imb = np.hstack((y[y == 1], y[y == 0][:30]))"
      ]
    },
    {
      "cell_type": "code",
      "source": [
        "from sklearn.model_selection import train_test_split\n",
        "X_train, X_test, y_train, y_test = train_test_split(X_imb, y_imb, \n",
        "                                                    test_size=0.2, \n",
        "                                                    random_state=1, \n",
        "                                                    stratify=y_imb)"
      ],
      "metadata": {
        "id": "nmFz8pSQOdTm"
      },
      "execution_count": 2,
      "outputs": []
    },
    {
      "cell_type": "code",
      "source": [
        "from sklearn.preprocessing import StandardScaler\n",
        "from sklearn.pipeline import make_pipeline\n",
        "from sklearn.linear_model import LogisticRegression\n",
        "\n",
        "pipeline = make_pipeline(StandardScaler(), \n",
        "                         LogisticRegression(random_state=1, class_weight={0:3, 1:1}))"
      ],
      "metadata": {
        "id": "KZP-vyBGPE_x"
      },
      "execution_count": 3,
      "outputs": []
    },
    {
      "cell_type": "code",
      "source": [
        "from scipy.stats import expon\n",
        "from sklearn.model_selection import RandomizedSearchCV\n",
        "\n",
        "param_distributions = [{'logisticregression__C': expon(scale=100)}]\n",
        "rs = RandomizedSearchCV(estimator=pipeline, \n",
        "                        param_distributions = param_distributions, \n",
        "                        cv = 10, \n",
        "                        scoring = 'accuracy', \n",
        "                        refit = True, n_jobs = 1,\n",
        "                        random_state=1)"
      ],
      "metadata": {
        "id": "rWkfJEXdP8CS"
      },
      "execution_count": 4,
      "outputs": []
    },
    {
      "cell_type": "code",
      "source": [
        "rs.fit(X_train, y_train)\n",
        "print('Best Score for the model is :', rs.best_score_, '\\nBest Params are the following :', rs.best_params_)\n",
        "print('Test Accuracy for the model is : %0.3f' % rs.score(X_test, y_test))"
      ],
      "metadata": {
        "colab": {
          "base_uri": "https://localhost:8080/"
        },
        "id": "1rET9ToFQU5N",
        "outputId": "7f4995ff-4f74-44a4-ca8b-00790b96a62f"
      },
      "execution_count": 5,
      "outputs": [
        {
          "output_type": "stream",
          "name": "stdout",
          "text": [
            "Best Score for the model is : 0.9903225806451612 \n",
            "Best Params are the following : {'logisticregression__C': 0.011438135864308592}\n",
            "Test Accuracy for the model is : 0.987\n"
          ]
        }
      ]
    },
    {
      "cell_type": "code",
      "source": [
        ""
      ],
      "metadata": {
        "id": "A7ic-8q8RGf1"
      },
      "execution_count": 5,
      "outputs": []
    }
  ]
}