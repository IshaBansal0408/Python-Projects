{
 "cells": [
  {
   "cell_type": "markdown",
   "metadata": {},
   "source": [
    "# Celsius to Fahrenheit Converter"
   ]
  },
  {
   "cell_type": "code",
   "execution_count": 1,
   "metadata": {},
   "outputs": [],
   "source": [
    "def exit():\n",
    "    window.destroy()\n",
    "\n",
    "def convert():\n",
    "    c = int(e1.get())\n",
    "    f = ((c*9)/(5))+32\n",
    "    t1.config(state='normal')\n",
    "    t1.delete('1.0', tk.END)\n",
    "    t1.insert(tk.END,f)\n",
    "    t1.config(state='disabled')"
   ]
  },
  {
   "cell_type": "code",
   "execution_count": 2,
   "metadata": {},
   "outputs": [],
   "source": [
    "import tkinter as tk\n",
    "window = tk.Tk()\n",
    "window.geometry(\"300x250\")\n",
    "window.config(bg=\"#A569BD\")\n",
    "window.resizable(width=False,height=False)\n",
    "window.title('Celsius to Fahrenheit Converter!')\n",
    "\n",
    "l1 = tk.Label(window,text=\"Celsius to Fahrenheit Converter\",font=(\"Arial\", 15),fg=\"white\",bg=\"black\")\n",
    "l2= tk.Label(window,text=\"Enter temperature in Celsius: \",font=(\"Arial\", 10,\"bold\"),fg=\"white\",bg=\"#A569BD\")\n",
    "l3= tk.Label(window,text=\"Temperature in Fahrenheit is: \",font=(\"Arial\", 10,\"bold\"),fg=\"white\",bg=\"#A569BD\")\n",
    "\n",
    "empty_l1 = tk.Label(window,bg=\"#A569BD\")\n",
    "empty_l2 = tk.Label(window,bg=\"#A569BD\")\n",
    "\n",
    "e1= tk.Entry(window,font=('Arial',10))\n",
    "\n",
    "btn1 = tk.Button(window,text=\"Convert to Fahrenheit!\",font=(\"Arial\", 10),command=convert)\n",
    "btn2 = tk.Button(window,text=\"Exit application\",font=(\"Arial\", 10),command=exit)\n",
    "\n",
    "t1=tk.Text(window,state=\"disabled\",width=15,height=0)\n",
    "\n",
    "l1.pack()\n",
    "l2.pack()\n",
    "e1.pack()\n",
    "empty_l1.pack()\n",
    "btn1.pack()\n",
    "l3.pack()\n",
    "t1.pack()\n",
    "empty_l2.pack()\n",
    "btn2.pack()"
   ]
  },
  {
   "cell_type": "code",
   "execution_count": 3,
   "metadata": {},
   "outputs": [],
   "source": [
    "window.mainloop()"
   ]
  },
  {
   "cell_type": "markdown",
   "metadata": {},
   "source": [
    "# Sample Output\n",
    "\n",
    "<img src=\"images/output1.png\">"
   ]
  },
  {
   "cell_type": "code",
   "execution_count": null,
   "metadata": {},
   "outputs": [],
   "source": []
  }
 ],
 "metadata": {
  "kernelspec": {
   "display_name": "Python 3",
   "language": "python",
   "name": "python3"
  },
  "language_info": {
   "codemirror_mode": {
    "name": "ipython",
    "version": 3
   },
   "file_extension": ".py",
   "mimetype": "text/x-python",
   "name": "python",
   "nbconvert_exporter": "python",
   "pygments_lexer": "ipython3",
   "version": "3.8.5"
  }
 },
 "nbformat": 4,
 "nbformat_minor": 4
}
