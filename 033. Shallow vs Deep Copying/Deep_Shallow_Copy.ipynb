{
 "cells": [
  {
   "cell_type": "code",
   "execution_count": 1,
   "metadata": {},
   "outputs": [
    {
     "name": "stdout",
     "output_type": "stream",
     "text": [
      "list 1:  [[10, 20, 30], [40, 50, 60], [70, 80, 90]]\n",
      "list 2:  [[10, 20, 30], [40, 50, 60], [70, 80, 90]]\n",
      "\n",
      "new list 1:  [[10, 20, 30], [40, 50, 60], [70, 80, 90], ['new']]\n",
      "new list 2:  [[10, 20, 30], [40, 50, 60], [70, 80, 90]]\n",
      "\n",
      "new list 1:  [[10, 20, 30], [40, 50, 60], [70, 'change', 90], ['new']]\n",
      "new list 2:  [[10, 20, 30], [40, 50, 60], [70, 'change', 90]]\n"
     ]
    }
   ],
   "source": [
    "l1 = [[10,20,30],[40,50,60],[70,80,90]]\n",
    "l2 = list(l1)\n",
    "print(\"list 1: \",l1)\n",
    "print(\"list 2: \",l2)\n",
    "print()\n",
    "l1.append(['new'])\n",
    "print(\"new list 1: \",l1)\n",
    "print(\"new list 2: \",l2)\n",
    "print()\n",
    "l1[2][1] = 'change'\n",
    "print(\"new list 1: \",l1)\n",
    "print(\"new list 2: \",l2)"
   ]
  },
  {
   "cell_type": "code",
   "execution_count": 2,
   "metadata": {},
   "outputs": [
    {
     "name": "stdout",
     "output_type": "stream",
     "text": [
      "list 1:  [[10, 20, 30], [40, 50, 60], [70, 80, 90]]\n",
      "list 2:  [[10, 20, 30], [40, 50, 60], [70, 80, 90]]\n",
      "new list 1:  [[10, 20, 30], [40, 50, 60], [70, 'change', 90]]\n",
      "new list 2:  [[10, 20, 30], [40, 50, 60], [70, 80, 90]]\n"
     ]
    }
   ],
   "source": [
    "import copy\n",
    "l1 = [[10,20,30],[40,50,60],[70,80,90]]\n",
    "l2 = copy.deepcopy(l1)\n",
    "print(\"list 1: \",l1)\n",
    "print(\"list 2: \",l2)\n",
    "\n",
    "l1[2][1] = 'change'\n",
    "print(\"new list 1: \",l1)\n",
    "print(\"new list 2: \",l2)"
   ]
  },
  {
   "cell_type": "code",
   "execution_count": 3,
   "metadata": {},
   "outputs": [
    {
     "name": "stdout",
     "output_type": "stream",
     "text": [
      "list 1:  [[10, 20, 30], [40, 50, 60], [70, 80, 90]]\n",
      "list 2:  [[10, 20, 30], [40, 50, 60], [70, 80, 90]]\n",
      "\n",
      "new list 1:  [[10, 20, 30], [40, 50, 60], [70, 80, 90], ['new']]\n",
      "new list 2:  [[10, 20, 30], [40, 50, 60], [70, 80, 90]]\n",
      "\n",
      "new list 1:  [[10, 20, 30], [40, 50, 60], [70, 'change', 90], ['new']]\n",
      "new list 2:  [[10, 20, 30], [40, 50, 60], [70, 'change', 90]]\n"
     ]
    }
   ],
   "source": [
    "import copy\n",
    "l1 = [[10,20,30],[40,50,60],[70,80,90]]\n",
    "l2 = copy.copy(l1)\n",
    "print(\"list 1: \",l1)\n",
    "print(\"list 2: \",l2)\n",
    "print()\n",
    "l1.append(['new'])\n",
    "print(\"new list 1: \",l1)\n",
    "print(\"new list 2: \",l2)\n",
    "print()\n",
    "l1[2][1] = 'change'\n",
    "print(\"new list 1: \",l1)\n",
    "print(\"new list 2: \",l2)"
   ]
  },
  {
   "cell_type": "code",
   "execution_count": null,
   "metadata": {},
   "outputs": [],
   "source": []
  }
 ],
 "metadata": {
  "kernelspec": {
   "display_name": "Python 3",
   "language": "python",
   "name": "python3"
  },
  "language_info": {
   "codemirror_mode": {
    "name": "ipython",
    "version": 3
   },
   "file_extension": ".py",
   "mimetype": "text/x-python",
   "name": "python",
   "nbconvert_exporter": "python",
   "pygments_lexer": "ipython3",
   "version": "3.8.5"
  }
 },
 "nbformat": 4,
 "nbformat_minor": 4
}
