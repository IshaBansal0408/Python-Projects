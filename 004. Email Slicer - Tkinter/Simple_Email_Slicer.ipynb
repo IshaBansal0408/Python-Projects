{
 "cells": [
  {
   "cell_type": "markdown",
   "metadata": {},
   "source": [
    "# A Simple Email Slicer"
   ]
  },
  {
   "cell_type": "code",
   "execution_count": null,
   "metadata": {},
   "outputs": [],
   "source": [
    "import tkinter as tk\n",
    "window = tk.Tk()\n",
    "window.geometry(\"480x440\")\n",
    "window.config(bg=\"#BE361A\")\n",
    "window.resizable(width=False,height=False)\n",
    "window.title('Simple Email Slicer')\n",
    "\n",
    "def result():\n",
    "    try:\n",
    "        email=entry.get()\n",
    "        inp_email = email.strip()\n",
    "        username = inp_email[0:inp_email.index('@')]\n",
    "        domain = inp_email[inp_email.index('@') + 1:]\n",
    "        text_box.delete('1.0', tk.END)\n",
    "        msg = 'Email entered was: {}\\nYour email username is {}\\nAnd your email domain server is {}'\n",
    "        msg_formatted = msg.format(email,username,domain)\n",
    "        text_box.insert(tk.END,msg_formatted)\n",
    "        entry.delete(0, 'end')\n",
    "    except:\n",
    "        text_box.delete('1.0', tk.END)\n",
    "        text_box.insert(tk.END,\"ERROR!\")\n",
    "\n",
    "def reset_all():\n",
    "    text_box.delete('1.0', tk.END)\n",
    "    entry.delete(0, 'end')\n",
    "\n",
    "# Labels\n",
    "greeting = tk.Label(text=\"Welcome to A Simple Email Slicer!\",font=(12),foreground=\"white\",background=\"black\")\n",
    "Info = tk. Label(foreground= \"white\",background=\"#BE361A\",font=(10),text=\"Enter your email id click the done button!\\n The application will extract your username and domain name.\")\n",
    "entry_label = tk.Label(foreground= \"white\",font=(10),background=\"black\",text=\"Enter Your Email Id: \")\n",
    "result_label = tk.Label(font=(10),foreground= \"white\",background=\"black\",text=\"The results are as follows:\")\n",
    "empty_label0=tk.Label(background=\"#BE361A\")\n",
    "empty_label1=tk.Label(background=\"#BE361A\")\n",
    "empty_label2=tk.Label(background=\"#BE361A\")\n",
    "empty_label3=tk.Label(background=\"#BE361A\")\n",
    "empty_label4=tk.Label(background=\"#BE361A\")\n",
    "empty_label5=tk.Label(background=\"#BE361A\")\n",
    "\n",
    "#Entry\n",
    "e1=tk.StringVar()\n",
    "entry = tk.Entry(font=(11),width=50,justify='center',textvariable=e1)\n",
    "\n",
    "#Buttons\n",
    "button = tk.Button(text=\"Done!\",command=result,font=(11))\n",
    "reset=tk.Button(text=\"Reset!\",command=reset_all,font=(11))\n",
    "\n",
    "#Result\n",
    "text_box = tk.Text(height=5,width=50)\n",
    "\n",
    "#Packing Everything Together\n",
    "empty_label0.pack()\n",
    "greeting.pack()\n",
    "Info.pack()\n",
    "empty_label1.pack()\n",
    "entry_label.pack()\n",
    "empty_label4.pack()\n",
    "entry.pack()\n",
    "empty_label2.pack()\n",
    "button.pack()\n",
    "empty_label5.pack()\n",
    "reset.pack()\n",
    "empty_label3.pack()\n",
    "result_label.pack()\n",
    "text_box.pack()\n",
    "\n",
    "window.mainloop()"
   ]
  },
  {
   "cell_type": "code",
   "execution_count": null,
   "metadata": {},
   "outputs": [],
   "source": []
  }
 ],
 "metadata": {
  "kernelspec": {
   "display_name": "Python 3",
   "language": "python",
   "name": "python3"
  },
  "language_info": {
   "codemirror_mode": {
    "name": "ipython",
    "version": 3
   },
   "file_extension": ".py",
   "mimetype": "text/x-python",
   "name": "python",
   "nbconvert_exporter": "python",
   "pygments_lexer": "ipython3",
   "version": "3.8.5"
  }
 },
 "nbformat": 4,
 "nbformat_minor": 4
}
