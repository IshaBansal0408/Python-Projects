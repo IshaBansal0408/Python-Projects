{
 "cells": [
  {
   "cell_type": "code",
   "execution_count": 1,
   "metadata": {},
   "outputs": [],
   "source": [
    "from tkinter import *\n",
    "from gtts import gTTS\n",
    "from playsound import playsound\n",
    "\n",
    "def Text_to_speech():\n",
    "    Message = entry_field.get()\n",
    "    speech = gTTS(text = Message)\n",
    "    speech.save('data.mp3')\n",
    "    playsound('data.mp3')\n",
    "\n",
    "def Exit():\n",
    "    window.destroy()\n",
    "\n",
    "def Reset():\n",
    "    Msg.set(\"\")\n",
    "    \n",
    "window = Tk()\n",
    "window.geometry(\"350x300\") \n",
    "window.configure(bg='#FAD7A0')\n",
    "window.title(\"TEXT TO SPEECH\")\n",
    " \n",
    "Label(window, text = \"        TEXT TO SPEECH        \", font = \"arial 20 bold\", bg='black',fg=\"white\").pack()\n",
    "Msg = StringVar()\n",
    "Label(window,text =\"Enter Your Text Here: \", font = 'arial 20 bold', fg ='darkgreen').place(x=5,y=60)\n",
    "\n",
    "entry_field = Entry(window, textvariable = Msg ,width ='30',font = 'arial 15 bold',bg=\"lightgreen\")\n",
    "entry_field.place(x=5,y=100)\n",
    "\n",
    "Button(window, text = \"PLAY TEXT\", font = 'arial 15 bold' , command = Text_to_speech ,width = '20',bg = 'orchid',fg=\"white\").place(x=35,y=140)\n",
    "Button(window, font = 'arial 15 bold',text = 'RESET APPLICATION', width = '20' , command = Reset,bg = 'darkgreen',fg=\"white\").place(x=35 , y = 190)\n",
    "Button(window, font = 'arial 15 bold',text = 'EXIT APPLICATION', width = '20' , command = Exit, bg = 'red',fg=\"white\").place(x=35 , y = 240)\n",
    "\n",
    "window.mainloop()"
   ]
  },
  {
   "cell_type": "code",
   "execution_count": null,
   "metadata": {},
   "outputs": [],
   "source": []
  }
 ],
 "metadata": {
  "kernelspec": {
   "display_name": "Python 3",
   "language": "python",
   "name": "python3"
  },
  "language_info": {
   "codemirror_mode": {
    "name": "ipython",
    "version": 3
   },
   "file_extension": ".py",
   "mimetype": "text/x-python",
   "name": "python",
   "nbconvert_exporter": "python",
   "pygments_lexer": "ipython3",
   "version": "3.8.5"
  }
 },
 "nbformat": 4,
 "nbformat_minor": 4
}
