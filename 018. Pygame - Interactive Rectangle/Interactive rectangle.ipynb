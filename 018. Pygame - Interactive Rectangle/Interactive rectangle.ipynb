{
 "cells": [
  {
   "cell_type": "code",
   "execution_count": 1,
   "metadata": {},
   "outputs": [
    {
     "name": "stdout",
     "output_type": "stream",
     "text": [
      "pygame 2.0.1 (SDL 2.0.14, Python 3.8.5)\n",
      "Hello from the pygame community. https://www.pygame.org/contribute.html\n"
     ]
    }
   ],
   "source": [
    "import pygame\n",
    "from pygame.locals import *\n",
    "from pygame import mixer\n",
    "\n",
    "pygame.init()\n",
    "\n",
    "#window attributes\n",
    "width = 500\n",
    "height = 500\n",
    "window = pygame.display.set_mode((width,height))\n",
    "bg_img = pygame.image.load('Image Files/bg.png')\n",
    "bg_img = pygame.transform.scale(bg_img,(width,height))\n",
    "\n",
    "#square attributes\n",
    "x=y=50\n",
    "color = \"red\"\n",
    "\n",
    "#music addition\n",
    "mixer.init()\n",
    "mixer.music.load('Music File/Littleidea - wav music file.wav')\n",
    "pygame.mixer.music.set_volume(0.05)\n",
    "mixer.music.play()\n",
    "\n",
    "#the running loop\n",
    "runing = True\n",
    "while runing:\n",
    "    \n",
    "    #add background img\n",
    "    window.blit(bg_img,(0,0))\n",
    "    \n",
    "    #handling events\n",
    "    for event in pygame.event.get():\n",
    "        #closing window function\n",
    "        if event.type == QUIT:\n",
    "            runing = False\n",
    "    \n",
    "    #add the square\n",
    "    pygame.draw.rect(window, color, pygame.Rect(x, y, 60, 60))\n",
    "    \n",
    "    #moving square on pressing keys\n",
    "    key = pygame.key.get_pressed()\n",
    "    if key[pygame.K_UP]: \n",
    "        y -= 2\n",
    "    if key[pygame.K_DOWN]: \n",
    "        y += 2\n",
    "    if key[pygame.K_LEFT]: \n",
    "        x -= 2\n",
    "    if key[pygame.K_RIGHT]: \n",
    "        x += 2\n",
    "    \n",
    "    #update display\n",
    "    pygame.display.update()\n",
    "\n",
    "#quit pygame\n",
    "pygame.quit()"
   ]
  },
  {
   "cell_type": "code",
   "execution_count": null,
   "metadata": {},
   "outputs": [],
   "source": []
  }
 ],
 "metadata": {
  "kernelspec": {
   "display_name": "Python 3",
   "language": "python",
   "name": "python3"
  },
  "language_info": {
   "codemirror_mode": {
    "name": "ipython",
    "version": 3
   },
   "file_extension": ".py",
   "mimetype": "text/x-python",
   "name": "python",
   "nbconvert_exporter": "python",
   "pygments_lexer": "ipython3",
   "version": "3.8.5"
  }
 },
 "nbformat": 4,
 "nbformat_minor": 4
}
