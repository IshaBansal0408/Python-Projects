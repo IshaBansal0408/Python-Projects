{
 "cells": [
  {
   "cell_type": "code",
   "execution_count": 1,
   "metadata": {},
   "outputs": [
    {
     "name": "stdout",
     "output_type": "stream",
     "text": [
      "['Bharathi Kannamma', 'Sancergues', 'Live in Gdańsk', 'Allery Sandy', 'Ronald (disambiguation)']\n"
     ]
    }
   ],
   "source": [
    "import wikipedia \n",
    "print(wikipedia.random(pages=5))"
   ]
  },
  {
   "cell_type": "code",
   "execution_count": 2,
   "metadata": {},
   "outputs": [
    {
     "name": "stdout",
     "output_type": "stream",
     "text": [
      "Frank Johnson (c. 1789 – 1871) was an American popular fiddle player and brass band leader based in North Carolina, near Wilmington, United States, for most of the nineteenth century. Although largely forgotten by history books and often confused with composer Francis \"Frank\" Johnson, he helped define the sound of African-American fiddle and brass-band music in the mid-19th century.\n",
      "\n",
      "\n",
      "== Personal life ==\n",
      "Johnson was born into slavery circa 1789, in North Carolina, and became a free man sometime before 1830. He showed a talent for music early on and established himself as a popular fiddle player for dances. Using money he earned from performances, he bought the freedom of himself, his wife and his children.\n",
      "A contemporary account of Johnson while performing at a \"pic nic\" describes him: \"To say that he is handsome would not be strictly true, and still, when he is living so full of music that his features follow the changes of his tune, it is fair to say he looks very 'becoming'.\"He was buried in Pine Forest Cemetery, Wilmington, after a well-attended funeral: \"the largest, we think, that has ever occurred in this city, it being estimated that there were at least two thousand persons in the procession, including the colored fire companies in uniform, with standards draped in mourning, the colored Masonic fraternity in regalia, etc., the whole preceded by a brass band.\"\n",
      "\n",
      "\n",
      "== Career ==\n",
      "Johnson assembled his freed sons and various nephews into an eponymous brass band by 1830. The band consisted of about 15 members. Johnson himself played many instruments, but was known for his mastery of the fiddle, clarinet, and cornet. The Frank Johnson Band was popular with white planters and often played for state fairs, picnics, cotillions, college commencement balls (e.g., at Chapel Hill, North Carolina), and political rallies (but only for Democrats).\n"
     ]
    }
   ],
   "source": [
    "s1 = wikipedia.summary('Frank Johnson (musician)',sentences=50) \n",
    "print(s1) "
   ]
  },
  {
   "cell_type": "code",
   "execution_count": 3,
   "metadata": {},
   "outputs": [
    {
     "name": "stdout",
     "output_type": "stream",
     "text": [
      "<WikipediaPage 'Yarwil'>\n"
     ]
    }
   ],
   "source": [
    "page_obj = wikipedia.page('Yarwil')\n",
    "print(page_obj)"
   ]
  },
  {
   "cell_type": "code",
   "execution_count": 4,
   "metadata": {},
   "outputs": [
    {
     "name": "stdout",
     "output_type": "stream",
     "text": [
      "TITLE OF THE PAGE:\n",
      " Yarwil\n",
      "\n",
      "\n",
      "\n",
      "CATEGORIES OF THE PAGE CHOOSEN:\n",
      " ['All stub articles', 'Articles with short description', 'Companies based in Bærum', 'Norwegian company stubs', 'Short description matches Wikidata', 'Technology companies of Norway', 'Use dmy dates from January 2014']\n",
      "\n",
      "\n",
      "\n",
      "CONTENTS OF THE PAGE INCLUDE:\n",
      " Yarwil AS is a joint venture between Yara International and Wilhelmsen Maritime Services. The Norwegian registered company provides systems for reduction of NOx emissions from ship engines. The technology is based on the Selective Catalytic Reduction (SCR) method using Urea as a reactant. This method can reduce NOx emissions from ships by as much as 95%.\n",
      "The company was established as a reaction to the increased focus by the global community on emissions to air from the maritime industry.  New IMO regulations, MEPC 58, are in place, which demand a reduction in NOx emissions from ships globally of 20% by 2011 and 80% by 2016.\n",
      "There are several different technologies available for the reduction of NOx, however the Selective Catalytic Reduction method is the only known technology that can reach the 2016 target of 80%.\n",
      "Yarwil was registered on 22 August 2007 and has its headquarters at Lysaker just outside Oslo in Norway.On 21 October 2013 a press release was issued by Yara International stating they had acquired full ownership of Yarwil and that the company would become part of their NOxCare initiative as of 1 January 2014.\n",
      "\n",
      "\n",
      "== References ==\n",
      "\n",
      "\n",
      "== External links ==\n",
      "Acticle about Yarwil in Emissions Worldview\n",
      "Article about Yarwil by Lloyd's List\n",
      "Article on NOx reduction by Bellona\n",
      "NOxCare.com\n"
     ]
    }
   ],
   "source": [
    "print(\"TITLE OF THE PAGE:\\n\",page_obj.original_title)\n",
    "print(\"\\n\\n\")\n",
    "print(\"CATEGORIES OF THE PAGE CHOOSEN:\\n\",page_obj.categories)\n",
    "print(\"\\n\\n\")\n",
    "print(\"CONTENTS OF THE PAGE INCLUDE:\\n\",page_obj.content)"
   ]
  },
  {
   "cell_type": "code",
   "execution_count": 5,
   "metadata": {},
   "outputs": [
    {
     "name": "stdout",
     "output_type": "stream",
     "text": [
      "Mickey Mouse [mikɛ maus] (en anglais : [ˈmɪki maʊs] ) est un personnage de fiction américain appartenant à l'univers Disney, apparaissant principalement dans des dessins animés, dans des bandes dessinées et des jeux vidéo. Véritable ambassadeur de la Walt Disney Company, il est présent dans la plupart des secteurs d'activité de la société, que ce soit l'animation, la télévision, les parcs d'attractions ou les produits de consommation. Mickey est utilisé comme un vecteur de communication et ses qualités doivent respecter la morale prônée par « Disney », que ce soit par Walt ou par l'entreprise elle-même. Mickey Mouse est connu et reconnu dans le monde entier, sa célèbre silhouette formée de trois cercles étant devenue indissociable de la marque Disney.\n",
      "Mickey a été créé en 1928, après que Walt Disney eut dû laisser son premier personnage créé avec Ub Iwerks, Oswald le lapin chanceux, à son producteur.\n"
     ]
    }
   ],
   "source": [
    "wikipedia.set_lang(\"fr\")\n",
    "print(wikipedia.summary('Mickey',sentences=\"5\"))"
   ]
  },
  {
   "cell_type": "code",
   "execution_count": null,
   "metadata": {},
   "outputs": [],
   "source": []
  }
 ],
 "metadata": {
  "kernelspec": {
   "display_name": "Python 3",
   "language": "python",
   "name": "python3"
  },
  "language_info": {
   "codemirror_mode": {
    "name": "ipython",
    "version": 3
   },
   "file_extension": ".py",
   "mimetype": "text/x-python",
   "name": "python",
   "nbconvert_exporter": "python",
   "pygments_lexer": "ipython3",
   "version": "3.8.5"
  }
 },
 "nbformat": 4,
 "nbformat_minor": 4
}
