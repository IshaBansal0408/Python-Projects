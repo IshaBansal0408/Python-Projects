{
 "cells": [
  {
   "cell_type": "markdown",
   "metadata": {},
   "source": [
    "# A fun game using Pygame!\n",
    "\n",
    "Hi there! Today I am going to teach you how to make a fun game using pygame module in python. Are you ready? Awesome! Let's begin!\n",
    "\n",
    "## Indroduction to the Game\n",
    "The game that we are going to build today will have different platforms for the character to stay on. \n",
    "\n",
    "It will have little enemies for the player to dodge and also some coins to reward the player on reaching a particular place!\n",
    "\n",
    "The game's got multiple levels for that there's a little gate or a door at the end of each level and when the player reaches the door, the player moves along to the next level.\n",
    "\n",
    "Now let's move right into building the game!"
   ]
  },
  {
   "cell_type": "markdown",
   "metadata": {},
   "source": [
    "### STEP 1 : IMPORTING MODULES\n",
    "\n",
    "Now as always we would start off with importing the modules we need. For the smooth and successfully working of the game we will be importing `pygame` and all functions from  `pygame.locals`. \n",
    "\n",
    "The code for the same is shown below"
   ]
  },
  {
   "cell_type": "raw",
   "metadata": {},
   "source": [
    "import pygame\n",
    "from pygame.locals import *"
   ]
  },
  {
   "cell_type": "markdown",
   "metadata": {},
   "source": [
    "### Step 2: Start off by creating a screen\n",
    "\n",
    "To create a screen we will first **initialize pygame**. The next thing that is needed is to create variables to set width and height of the game window. For now let's keep both width and height as 500.\n",
    "\n",
    "To create a window object using pygame function named `display.set_mode` and pass the height and width of the game window.\n",
    "\n",
    "Along with this let's also set the name of the game as the caption using the `set_caption` function. I will name my game as **The Jump Master**.\n",
    "\n",
    "The code for the same is shown below:"
   ]
  },
  {
   "cell_type": "raw",
   "metadata": {},
   "source": [
    "pygame.init()\n",
    "width,height = 500,500\n",
    "window = pygame.display.set_mode((width,height))\n",
    "pygame.display.set_caption(\"The Jump Master!\")"
   ]
  },
  {
   "cell_type": "markdown",
   "metadata": {},
   "source": [
    "But this code will only display the game for some seconds and then it closes itself. So we need to add a way for the game to run and close after a particular action is performed.\n",
    "\n",
    "For the same we will make a game loop which performs all the functionalities of the game and close the after an action is performed.\n",
    "\n",
    "Let me show you the code first."
   ]
  },
  {
   "cell_type": "raw",
   "metadata": {},
   "source": [
    "runing = True\n",
    "while runing:\n",
    "    for event in pygame.event.get():\n",
    "        if event.type == pygame.QUIT:\n",
    "            running = False\n",
    "pygame.quit()"
   ]
  },
  {
   "cell_type": "markdown",
   "metadata": {},
   "source": [
    "In the code we created a running variable which is set `True` by default. The application runs as long as the running variable stays True.\n",
    "\n",
    "To set the end game logic we will be keeping track of all the events and check the type of the event happening in the game. If the event type is pressing of `X` button on the screen, we set the running value as False.\n",
    "\n",
    "After the whole game we quit the pygame we initialized earlier."
   ]
  },
  {
   "cell_type": "markdown",
   "metadata": {},
   "source": [
    "So now that my window is ready, I have to insert a background image for my game. \n",
    "\n",
    "You can choose whatever image you want and adjust the height and width of the gaming screen accordingly.\n",
    "\n",
    "Now the loading of images is done before the running loop because we don't want the images to load again and again but instead we want all the elements to lead all at the beginning.\n",
    "\n",
    "To add an image all we need to do is use the function named `image.load` and add the path of the image as the parameter. \n",
    "\n",
    "We will also be sizing the image to make sure it fits in out screen size. And for that we will be using `transform.scale` function and pass our original image along with the scaling size i.e. the screen dimensions.\n",
    "\n",
    "And in order to place the image we have to put a `blit` function inside the running loop. The `blit` function will take the image variable and the coordinates of the image. But the image will still not be displayed. \n",
    "\n",
    "Why? Beacuse we haven't actually **updated** our screen design which is a major step in Pygame applications. So after all the events are handled and all the images are loaded we will add an `display.update` function to update the screen.\n",
    "\n",
    "The code to do all that I have just covered is mentioned below."
   ]
  },
  {
   "cell_type": "raw",
   "metadata": {},
   "source": [
    "bg_img = pygame.image.load('Images/bg.jpg')\n",
    "bg_img = pygame.transform.scale(bg_img,(width,height))\n",
    "\n",
    "runing = True\n",
    "while runing:\n",
    "    window.blit(bg_img,(0,0))\n",
    "    for event in pygame.event.get():\n",
    "        if event.type == QUIT:\n",
    "            runing = False\n",
    "    pygame.display.update()"
   ]
  },
  {
   "cell_type": "markdown",
   "metadata": {},
   "source": [
    "After we made these changes we will end up with a screen shown below. (Your background image or window shape may differ)\n",
    "\n",
    "<img src=\"Images/screen001_the jump master.png\">\n",
    "\n",
    "An important thing here is to keep in mind the order of the `blit` functions to make that if we are putting something above the background image it is put after the background image."
   ]
  },
  {
   "cell_type": "markdown",
   "metadata": {},
   "source": [
    "### 3. Adding some kind of levelling to the map\n",
    "\n",
    "At this moment we have nothing except for a simple background but we need to have different steps/levels for the player to move up on.\n",
    "\n",
    "For the same we will be creating a grid system and then define the postion of each grid block. Basically defining the image type of the grid block. If you want it to be a grass block or just air or something else.\n",
    "\n",
    "#### 1. CREATE A GRID ON THE GAME WINDOW\n",
    "\n",
    "To create the grid we first set the **size of each grid** and then create a fu...."
   ]
  },
  {
   "cell_type": "code",
   "execution_count": 9,
   "metadata": {},
   "outputs": [],
   "source": [
    "# Importing Modules\n",
    "import pygame\n",
    "from pygame.locals import *\n",
    "\n",
    "# Initialize pygame\n",
    "pygame.init()\n",
    "\n",
    "# Setting window dimensions\n",
    "width = 500\n",
    "height = 500\n",
    "window = pygame.display.set_mode((width,height))\n",
    "pygame.display.set_caption(\"The Jump Master!\")\n",
    "\n",
    "# Loading images and objects in the game\n",
    "bg_img = pygame.image.load('Images/bg.jpg')\n",
    "bg_img = pygame.transform.scale(bg_img,(width,height))\n",
    "\n",
    "\n",
    "\n",
    "# Running game\n",
    "runing = True\n",
    "while runing:\n",
    "    window.blit(bg_img,(0,0))\n",
    "    for event in pygame.event.get():\n",
    "        if event.type == QUIT:\n",
    "            runing = False\n",
    "    pygame.display.update()\n",
    "\n",
    "# Quit the pygame initialized\n",
    "pygame.quit()"
   ]
  },
  {
   "cell_type": "code",
   "execution_count": null,
   "metadata": {},
   "outputs": [],
   "source": []
  }
 ],
 "metadata": {
  "kernelspec": {
   "display_name": "Python 3",
   "language": "python",
   "name": "python3"
  },
  "language_info": {
   "codemirror_mode": {
    "name": "ipython",
    "version": 3
   },
   "file_extension": ".py",
   "mimetype": "text/x-python",
   "name": "python",
   "nbconvert_exporter": "python",
   "pygments_lexer": "ipython3",
   "version": "3.8.5"
  }
 },
 "nbformat": 4,
 "nbformat_minor": 4
}
