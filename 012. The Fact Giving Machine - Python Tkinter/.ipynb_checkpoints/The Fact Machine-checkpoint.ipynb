{
 "cells": [
  {
   "cell_type": "markdown",
   "metadata": {},
   "source": [
    "# The Fact Machine: Python Tkinter"
   ]
  },
  {
   "cell_type": "code",
   "execution_count": 1,
   "metadata": {},
   "outputs": [],
   "source": [
    "import randfacts"
   ]
  },
  {
   "cell_type": "code",
   "execution_count": 2,
   "metadata": {},
   "outputs": [],
   "source": [
    "def get_fact():\n",
    "    t1.config(state='normal')\n",
    "    t1.delete('1.0', tk.END)\n",
    "    f = randfacts.getFact(False)\n",
    "    t1.insert(tk.END,f)\n",
    "    t1.config(state='disabled')\n",
    "    \n",
    "def exit():\n",
    "    window.destroy()"
   ]
  },
  {
   "cell_type": "code",
   "execution_count": 3,
   "metadata": {},
   "outputs": [],
   "source": [
    "import tkinter as tk\n",
    "window = tk.Tk()\n",
    "window.geometry(\"700x250\")\n",
    "window.config(bg=\"#E67E22\")\n",
    "window.resizable(width=False,height=False)\n",
    "window.title('FACT MACHINE')\n",
    "\n",
    "l1 = tk.Label(window,text=\"Welcome to the Fact Machine!\",font=(\"Arial\", 25),fg=\"Black\",bg=\"White\")\n",
    "l2= tk.Label(window,text=\"Click on the 'Get new Fact!' button to get a fact!\",font=(\"Arial\", 15,\"bold\"),fg=\"darkgreen\",bg=\"#E67E22\")\n",
    "btn1 = tk.Button(window,text=\"Get new Fact!\",font=(\"Arial\", 15),command=get_fact)\n",
    "btn2 = tk.Button(window,text=\"Exit application\",font=(\"Arial\", 15),command=exit)\n",
    "t1 = tk.Text(window,width=60,height=2,font=(\"Arial\",15),state='disabled',bg=\"lightgreen\")\n",
    "\n",
    "l1.pack()\n",
    "l2.pack()\n",
    "btn1.pack()\n",
    "t1.pack()\n",
    "btn2.pack()"
   ]
  },
  {
   "cell_type": "code",
   "execution_count": 4,
   "metadata": {},
   "outputs": [],
   "source": [
    "window.mainloop()"
   ]
  },
  {
   "cell_type": "markdown",
   "metadata": {},
   "source": [
    "# Sample Output\n",
    "\n",
    "<img src=\"Images/output1.png\">"
   ]
  },
  {
   "cell_type": "code",
   "execution_count": null,
   "metadata": {},
   "outputs": [],
   "source": []
  }
 ],
 "metadata": {
  "kernelspec": {
   "display_name": "Python 3",
   "language": "python",
   "name": "python3"
  },
  "language_info": {
   "codemirror_mode": {
    "name": "ipython",
    "version": 3
   },
   "file_extension": ".py",
   "mimetype": "text/x-python",
   "name": "python",
   "nbconvert_exporter": "python",
   "pygments_lexer": "ipython3",
   "version": "3.8.5"
  }
 },
 "nbformat": 4,
 "nbformat_minor": 4
}
