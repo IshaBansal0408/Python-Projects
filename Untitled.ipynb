{
 "cells": [
  {
   "cell_type": "markdown",
   "metadata": {},
   "source": [
    "## 2. Acronyms in Python Programming\n",
    "\n",
    "https://thecleverprogrammer.com/2021/01/13/acronyms-using-python/\n",
    "\n",
    "1. What are Acronyms?\n",
    "2. Importance of Acroynms.\n",
    "3. Algorithm for checking Anagrams\n",
    "4. Code to check for Anagrams\n",
    "5. Conclusion"
   ]
  },
  {
   "cell_type": "markdown",
   "metadata": {},
   "source": [
    "## 3. Text Based Adventure Game in Python\n",
    "\n",
    "https://thecleverprogrammer.com/2021/01/15/text-based-adventure-game-with-python/\n",
    "\n",
    "1. What are Text Based Adventure Game.\n",
    "2. Story chosen for the Game\n",
    "3. Coding for the Adventure Game\n",
    "4. Conclusion"
   ]
  },
  {
   "cell_type": "markdown",
   "metadata": {},
   "source": [
    "## 4. Python: Live Weather Updates Project\n",
    "\n",
    "https://thecleverprogrammer.com/2021/05/21/get-live-weather-updates-using-python/\n",
    "\n",
    "1. Introduction to the project\n",
    "2. Algorithm Used\n",
    "3. Code Implementation\n",
    "4. Sample Outputs\n",
    "5. Conclusion"
   ]
  },
  {
   "cell_type": "markdown",
   "metadata": {},
   "source": [
    "## 5. Python Tkinter : Getting Information about a Country\n",
    "\n",
    "https://thecleverprogrammer.com/2021/04/12/countryinfo-in-python-tutorial/\n",
    "\n",
    "1. Introduction to the Project\n",
    "2. Creating Design of the Application\n",
    "3. Working of the application\n",
    "4. Conclusion"
   ]
  },
  {
   "cell_type": "markdown",
   "metadata": {},
   "source": [
    "## 6. Python: The Famous FizzBuzz Problem\n",
    "\n",
    "https://medium.com/@PeterPerlepes/why-fizzbuzz-is-still-relevant-38a555805935\n",
    "\n",
    "1. What is FizzBuzz Problem?\n",
    "2. Why FizzBuzz problem is important?\n",
    "3. Algorithm for FizzBuzz problem\n",
    "4. Code for FizzBuzz problem\n",
    "5. Conclusion"
   ]
  },
  {
   "cell_type": "markdown",
   "metadata": {},
   "source": [
    "## 7. Python: Radar Plot \n",
    "\n",
    "https://thecleverprogrammer.com/2021/04/06/radar-plot-using-python/\n",
    "\n",
    "1. Introduction to Radar Plots\n",
    "2. Plotting Radar Plots\n",
    "3. Conclusion"
   ]
  },
  {
   "cell_type": "markdown",
   "metadata": {},
   "source": [
    "## 8. Python: Stackplot\n",
    "\n",
    "https://www.geeksforgeeks.org/matplotlib-pyplot-stackplot-in-python/\n",
    "\n",
    "1. Introduction to Stackplots\n",
    "2. Plotting Stackplots using matplotlib\n",
    "3. Conclusion"
   ]
  },
  {
   "cell_type": "markdown",
   "metadata": {},
   "source": [
    "## 9. Visualizing Neural Networks\n",
    "\n",
    "https://reposhub.com/python/data-validation/paulgavrikov-visualkeras.html\n",
    "https://thecleverprogrammer.com/2021/06/07/visualize-a-neural-network-using-python/\n",
    "\n",
    "1. Introduction to visualkeras\n",
    "2. Implementation and Visualization of Neural Networks\n",
    "3. Sample Outputs\n",
    "4. Conclusion"
   ]
  },
  {
   "cell_type": "markdown",
   "metadata": {},
   "source": [
    "## 10. Python: OTP Verification\n",
    "\n",
    "https://thecleverprogrammer.com/2021/04/14/otp-verification-using-python/\n",
    "\n",
    "1. What is OTP Verification?\n",
    "2. Implementing OTP Verification\n",
    "3. Final Code\n",
    "4. Sample Outputs\n",
    "5. Conclusion"
   ]
  },
  {
   "cell_type": "code",
   "execution_count": null,
   "metadata": {},
   "outputs": [],
   "source": []
  }
 ],
 "metadata": {
  "kernelspec": {
   "display_name": "Python 3",
   "language": "python",
   "name": "python3"
  },
  "language_info": {
   "codemirror_mode": {
    "name": "ipython",
    "version": 3
   },
   "file_extension": ".py",
   "mimetype": "text/x-python",
   "name": "python",
   "nbconvert_exporter": "python",
   "pygments_lexer": "ipython3",
   "version": "3.8.5"
  }
 },
 "nbformat": 4,
 "nbformat_minor": 4
}
