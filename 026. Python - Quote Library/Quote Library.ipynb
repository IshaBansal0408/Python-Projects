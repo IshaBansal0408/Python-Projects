{
 "cells": [
  {
   "cell_type": "code",
   "execution_count": 1,
   "metadata": {},
   "outputs": [
    {
     "name": "stdout",
     "output_type": "stream",
     "text": [
      "Keyword Generated:  termly\n",
      "\n",
      "Quote Generated:  I am coming to terms with the fact that loving someone requires a leap of faith, and that a soft landing is never guaranteed.\n"
     ]
    }
   ],
   "source": [
    "from random_word import RandomWords\n",
    "from quote import quote\n",
    " \n",
    "r = RandomWords()\n",
    "w = r.get_random_word()\n",
    "print(\"Keyword Generated: \",w)\n",
    " \n",
    "res = quote(w, limit=1)\n",
    "for i in range(len(res)):\n",
    "    print(\"\\nQuote Generated: \",res[i]['quote'])"
   ]
  },
  {
   "cell_type": "code",
   "execution_count": null,
   "metadata": {},
   "outputs": [],
   "source": []
  }
 ],
 "metadata": {
  "kernelspec": {
   "display_name": "Python 3",
   "language": "python",
   "name": "python3"
  },
  "language_info": {
   "codemirror_mode": {
    "name": "ipython",
    "version": 3
   },
   "file_extension": ".py",
   "mimetype": "text/x-python",
   "name": "python",
   "nbconvert_exporter": "python",
   "pygments_lexer": "ipython3",
   "version": "3.8.5"
  }
 },
 "nbformat": 4,
 "nbformat_minor": 4
}
