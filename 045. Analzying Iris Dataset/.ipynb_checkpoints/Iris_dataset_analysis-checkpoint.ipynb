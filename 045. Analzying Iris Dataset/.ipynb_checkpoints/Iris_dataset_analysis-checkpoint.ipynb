{
 "cells": [
  {
   "cell_type": "code",
   "execution_count": 1,
   "metadata": {},
   "outputs": [],
   "source": [
    "import numpy as np\n",
    "import pandas as pd\n",
    "import matplotlib.pyplot as plt"
   ]
  },
  {
   "cell_type": "code",
   "execution_count": 2,
   "metadata": {},
   "outputs": [],
   "source": [
    "data = pd.read_csv('Iris.csv')\n",
    "data_points = data.iloc[:, 1:5]\n",
    "labels = data.iloc[:, 5]"
   ]
  },
  {
   "cell_type": "code",
   "execution_count": 3,
   "metadata": {},
   "outputs": [],
   "source": [
    "from sklearn.model_selection import train_test_split\n",
    "x_train,x_test,y_train,y_test = train_test_split(data_points,labels,test_size=0.2)"
   ]
  },
  {
   "cell_type": "code",
   "execution_count": 4,
   "metadata": {},
   "outputs": [],
   "source": [
    "from sklearn.preprocessing import StandardScaler\n",
    "from sklearn.model_selection import cross_val_score\n",
    "Standard_obj = StandardScaler()\n",
    "Standard_obj.fit(x_train)\n",
    "x_train_std = Standard_obj.transform(x_train)\n",
    "x_test_std = Standard_obj.transform(x_test)"
   ]
  },
  {
   "cell_type": "code",
   "execution_count": 5,
   "metadata": {},
   "outputs": [
    {
     "name": "stdout",
     "output_type": "stream",
     "text": [
      "Training data accuracy 97.50\n",
      "Testing data accuracy 93.33\n"
     ]
    }
   ],
   "source": [
    "from sklearn.svm import SVC\n",
    "svm = SVC(kernel='rbf', random_state=0, gamma=.10, C=1.0)\n",
    "svm.fit(x_train_std, y_train)\n",
    "print('Training data accuracy {:.2f}'.format(svm.score(x_train_std, y_train)*100))\n",
    "print('Testing data accuracy {:.2f}'.format(svm.score(x_test_std, y_test)*100))"
   ]
  },
  {
   "cell_type": "code",
   "execution_count": 6,
   "metadata": {},
   "outputs": [
    {
     "name": "stdout",
     "output_type": "stream",
     "text": [
      "Training data accuracy 97.50\n",
      "Testing data accuracy 86.67\n"
     ]
    }
   ],
   "source": [
    "from sklearn.neighbors import KNeighborsClassifier\n",
    "knn = KNeighborsClassifier(n_neighbors = 7, p = 2, metric='minkowski')\n",
    "knn.fit(x_train_std,y_train)\n",
    "print('Training data accuracy {:.2f}'.format(knn.score(x_train_std, y_train)*100))\n",
    "print('Testing data accuracy {:.2f}'.format(knn.score(x_test_std, y_test)*100))"
   ]
  },
  {
   "cell_type": "code",
   "execution_count": 7,
   "metadata": {},
   "outputs": [
    {
     "name": "stdout",
     "output_type": "stream",
     "text": [
      "Training data accuracy 100.00\n",
      "Testing data accuracy 90.00\n"
     ]
    }
   ],
   "source": [
    "from sklearn import tree\n",
    "decision_tree = tree.DecisionTreeClassifier(criterion='gini')\n",
    "decision_tree.fit(x_train_std, y_train)\n",
    "print('Training data accuracy {:.2f}'.format(decision_tree.score(x_train_std, y_train)*100))\n",
    "print('Testing data accuracy {:.2f}'.format(decision_tree.score(x_test_std, y_test)*100))"
   ]
  },
  {
   "cell_type": "code",
   "execution_count": 8,
   "metadata": {},
   "outputs": [
    {
     "name": "stdout",
     "output_type": "stream",
     "text": [
      "Training data accuracy 100.00\n",
      "Testing data accuracy 93.33\n"
     ]
    }
   ],
   "source": [
    "from sklearn.ensemble import RandomForestClassifier\n",
    "random_forest = RandomForestClassifier()\n",
    "random_forest.fit(x_train_std, y_train)\n",
    "print('Training data accuracy {:.2f}'.format(random_forest.score(x_train_std, y_train)*100))\n",
    "print('Testing data accuracy {:.2f}'.format(random_forest.score(x_test_std, y_test)*100))"
   ]
  },
  {
   "cell_type": "code",
   "execution_count": null,
   "metadata": {},
   "outputs": [],
   "source": []
  }
 ],
 "metadata": {
  "kernelspec": {
   "display_name": "Python 3",
   "language": "python",
   "name": "python3"
  },
  "language_info": {
   "codemirror_mode": {
    "name": "ipython",
    "version": 3
   },
   "file_extension": ".py",
   "mimetype": "text/x-python",
   "name": "python",
   "nbconvert_exporter": "python",
   "pygments_lexer": "ipython3",
   "version": "3.8.5"
  }
 },
 "nbformat": 4,
 "nbformat_minor": 4
}
