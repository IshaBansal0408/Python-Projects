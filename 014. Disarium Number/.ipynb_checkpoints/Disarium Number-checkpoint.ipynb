{
 "cells": [
  {
   "cell_type": "code",
   "execution_count": 4,
   "metadata": {},
   "outputs": [
    {
     "name": "stdin",
     "output_type": "stream",
     "text": [
      " 175\n"
     ]
    },
    {
     "name": "stdout",
     "output_type": "stream",
     "text": [
      "125\n",
      "174\n",
      "175\n",
      "Disarium Number!\n"
     ]
    }
   ],
   "source": [
    "n = input()\n",
    "len_n = len(n)\n",
    "n=int(n)\n",
    "copy_n=n\n",
    "result = 0\n",
    "i = len_n\n",
    "while(n!=0):\n",
    "    digit = n%10\n",
    "    result=result+pow(digit,i)\n",
    "    n=int(n/10)\n",
    "    i = i - 1\n",
    "if(result==copy_n):\n",
    "    print(\"Disarium Number!\")\n",
    "else:\n",
    "    print(\"Not an Disarium Number!\")"
   ]
  },
  {
   "cell_type": "code",
   "execution_count": null,
   "metadata": {},
   "outputs": [],
   "source": []
  }
 ],
 "metadata": {
  "kernelspec": {
   "display_name": "Python 3",
   "language": "python",
   "name": "python3"
  },
  "language_info": {
   "codemirror_mode": {
    "name": "ipython",
    "version": 3
   },
   "file_extension": ".py",
   "mimetype": "text/x-python",
   "name": "python",
   "nbconvert_exporter": "python",
   "pygments_lexer": "ipython3",
   "version": "3.8.5"
  }
 },
 "nbformat": 4,
 "nbformat_minor": 4
}
