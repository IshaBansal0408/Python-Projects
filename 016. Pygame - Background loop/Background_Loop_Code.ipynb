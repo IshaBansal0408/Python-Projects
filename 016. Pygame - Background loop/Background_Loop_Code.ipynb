{
 "cells": [
  {
   "cell_type": "code",
   "execution_count": 1,
   "metadata": {},
   "outputs": [
    {
     "name": "stdout",
     "output_type": "stream",
     "text": [
      "pygame 2.0.1 (SDL 2.0.14, Python 3.8.5)\n",
      "Hello from the pygame community. https://www.pygame.org/contribute.html\n"
     ]
    }
   ],
   "source": [
    "import pygame\n",
    "from pygame.locals import *\n",
    "pygame.init()\n",
    "width = 1000\n",
    "height = 500\n",
    "window = pygame.display.set_mode((width,height))\n",
    "bg_img = pygame.image.load('Images/bg.jpg')\n",
    "bg_img = pygame.transform.scale(bg_img,(width,height))\n",
    "\n",
    "i = 0\n",
    "\n",
    "runing = True\n",
    "while runing:\n",
    "    window.fill((0,0,0))\n",
    "    window.blit(bg_img,(i,0))\n",
    "    window.blit(bg_img,(width+i,0))\n",
    "    if (i==-width):\n",
    "        window.blit(bg_img,(width+i,0))\n",
    "        i=0\n",
    "    i-=1\n",
    "    for event in pygame.event.get():\n",
    "        if event.type == QUIT:\n",
    "            runing = False\n",
    "    pygame.display.update()\n",
    "pygame.quit()"
   ]
  },
  {
   "cell_type": "code",
   "execution_count": null,
   "metadata": {},
   "outputs": [],
   "source": []
  }
 ],
 "metadata": {
  "kernelspec": {
   "display_name": "Python 3",
   "language": "python",
   "name": "python3"
  },
  "language_info": {
   "codemirror_mode": {
    "name": "ipython",
    "version": 3
   },
   "file_extension": ".py",
   "mimetype": "text/x-python",
   "name": "python",
   "nbconvert_exporter": "python",
   "pygments_lexer": "ipython3",
   "version": "3.8.5"
  }
 },
 "nbformat": 4,
 "nbformat_minor": 4
}
