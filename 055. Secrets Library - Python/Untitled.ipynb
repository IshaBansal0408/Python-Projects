{
 "cells": [
  {
   "cell_type": "code",
   "execution_count": 1,
   "metadata": {},
   "outputs": [
    {
     "name": "stdout",
     "output_type": "stream",
     "text": [
      "sAtTaD1Q0F\n"
     ]
    }
   ],
   "source": [
    "import secrets\n",
    "import string\n",
    "  \n",
    "alphabet = string.ascii_letters + string.digits\n",
    "password = ''.join(secrets.choice(alphabet) for i in range(10))\n",
    "  \n",
    "print(password)"
   ]
  },
  {
   "cell_type": "code",
   "execution_count": 2,
   "metadata": {},
   "outputs": [
    {
     "name": "stdout",
     "output_type": "stream",
     "text": [
      "18\n"
     ]
    }
   ],
   "source": [
    "import secrets\n",
    "  \n",
    "passwd = secrets.randbelow(20)\n",
    "print(passwd)"
   ]
  },
  {
   "cell_type": "code",
   "execution_count": 3,
   "metadata": {},
   "outputs": [
    {
     "name": "stdout",
     "output_type": "stream",
     "text": [
      "56\n"
     ]
    }
   ],
   "source": [
    "import secrets\n",
    "  \n",
    "passwd = secrets.randbits(7)\n",
    "print(passwd)"
   ]
  },
  {
   "cell_type": "code",
   "execution_count": 4,
   "metadata": {},
   "outputs": [
    {
     "name": "stdout",
     "output_type": "stream",
     "text": [
      "e451d499c43d6488376aeda68e21d72f\n",
      "024a92f9c07aa24d09\n"
     ]
    }
   ],
   "source": [
    "\n",
    "import secrets\n",
    "  \n",
    "token1 = secrets.token_hex(16)\n",
    "token2 = secrets.token_hex(9)\n",
    "  \n",
    "print(token1)\n",
    "print(token2)"
   ]
  },
  {
   "cell_type": "code",
   "execution_count": 5,
   "metadata": {},
   "outputs": [
    {
     "name": "stdout",
     "output_type": "stream",
     "text": [
      "https://mydomain.com/reset=C8HC4YSFciIgwGFQVk1VNZ33JVaoF9bqer29hzxY9KU\n"
     ]
    }
   ],
   "source": [
    "import secrets\n",
    "\n",
    "url = 'https://mydomain.com/reset=' + secrets.token_urlsafe()\n",
    "print(url)\n"
   ]
  },
  {
   "cell_type": "markdown",
   "metadata": {},
   "source": [
    "# References\n",
    "\n",
    "https://www.geeksforgeeks.org/secrets-python-module-generate-secure-random-numbers/\n",
    "https://dev.to/1blademaster/the-python-secrets-module-1c3"
   ]
  },
  {
   "cell_type": "code",
   "execution_count": null,
   "metadata": {},
   "outputs": [],
   "source": []
  }
 ],
 "metadata": {
  "kernelspec": {
   "display_name": "Python 3",
   "language": "python",
   "name": "python3"
  },
  "language_info": {
   "codemirror_mode": {
    "name": "ipython",
    "version": 3
   },
   "file_extension": ".py",
   "mimetype": "text/x-python",
   "name": "python",
   "nbconvert_exporter": "python",
   "pygments_lexer": "ipython3",
   "version": "3.8.5"
  }
 },
 "nbformat": 4,
 "nbformat_minor": 4
}
