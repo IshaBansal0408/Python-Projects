{
 "cells": [
  {
   "cell_type": "markdown",
   "metadata": {},
   "source": [
    "# A brief Introduction to Cryptograpghy in Python\n",
    "\n",
    "1. What is Cryptograpghy?\n",
    "2. Why is Cryptography important?\n",
    "3. Implementing Cryptography in Python\n",
    "4. Conclusion"
   ]
  },
  {
   "cell_type": "code",
   "execution_count": 1,
   "metadata": {},
   "outputs": [],
   "source": [
    "from cryptography.fernet import Fernet\n",
    "key = Fernet.generate_key()\n",
    "cipher_suite = Fernet(key)\n",
    "cipher_text = cipher_suite.encrypt(b\"I am a secret! I will get encrypted into something you will never understand\")\n",
    "plain_text = cipher_suite.decrypt(cipher_text)"
   ]
  },
  {
   "cell_type": "code",
   "execution_count": 2,
   "metadata": {},
   "outputs": [
    {
     "name": "stdout",
     "output_type": "stream",
     "text": [
      "The Encrypted text is:  b'gAAAAABgsSrnZRaDQbApvKL_xiXfCXHV_70u5eXZKDqYIkMKwxochYNy0lmVrvPFtQWya22MZh92rimscuA5VBuoN-B5YfCRHvpBYhKsbIiuPuz-CklJ-EFyZtZ_S7TRe-b9VSoee03Z8jkxwQpR8FatZ1XWA7xZvm5WpGSQFZkN8w7Ix8riyOo='\n",
      "\n",
      "The Decrypted text is:  b'I am a secret! I will get encrypted into something you will never understand'\n"
     ]
    }
   ],
   "source": [
    "print(\"The Encrypted text is: \", cipher_text)\n",
    "print(\"\\nThe Decrypted text is: \",plain_text)"
   ]
  },
  {
   "cell_type": "code",
   "execution_count": null,
   "metadata": {},
   "outputs": [],
   "source": []
  }
 ],
 "metadata": {
  "kernelspec": {
   "display_name": "Python 3",
   "language": "python",
   "name": "python3"
  },
  "language_info": {
   "codemirror_mode": {
    "name": "ipython",
    "version": 3
   },
   "file_extension": ".py",
   "mimetype": "text/x-python",
   "name": "python",
   "nbconvert_exporter": "python",
   "pygments_lexer": "ipython3",
   "version": "3.8.5"
  }
 },
 "nbformat": 4,
 "nbformat_minor": 4
}
