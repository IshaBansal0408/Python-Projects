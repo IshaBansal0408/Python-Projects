{
 "cells": [
  {
   "cell_type": "code",
   "execution_count": 1,
   "metadata": {},
   "outputs": [],
   "source": [
    "from tkinter import *\n",
    "import datetime\n",
    "import time\n",
    "import winsound\n",
    "\n",
    "def Alarm(set_alarm_timer):\n",
    "    while True:\n",
    "        time.sleep(1)\n",
    "        actual_time = datetime.datetime.now()\n",
    "        cur_time = actual_time.strftime(\"%H:%M:%S\")\n",
    "        cur_date = actual_time.strftime(\"%d/%m/%Y\")\n",
    "        msg=\"Current Time: \"+str(cur_time)\n",
    "        print(msg)\n",
    "        if cur_time == set_alarm_timer:\n",
    "            winsound.PlaySound(\"Music.wav\",winsound.SND_ASYNC)\n",
    "            break\n",
    "\n",
    "def get_alarm_time():\n",
    "    alarm_set_time = f\"{hour.get()}:{min.get()}:{sec.get()}\"\n",
    "    Alarm(alarm_set_time)\n",
    "\n",
    "window = Tk()\n",
    "window.title(\"Alarm Clock\")\n",
    "window.geometry(\"400x160\")\n",
    "window.config(bg=\"#922B21\")\n",
    "window.resizable(width=False,height=False)\n",
    "\n",
    "time_format=Label(window, text= \"Remember to set time in 24 hour format!\", fg=\"white\",bg=\"#922B21\",font=(\"Arial\",15)).place(x=20,y=120)\n",
    "addTime = Label(window,text = \"Hour     Min     Sec\",font=60,fg=\"white\",bg=\"black\").place(x = 210)\n",
    "setYourAlarm = Label(window,text = \"Set Time for Alarm: \",fg=\"white\",bg=\"#922B21\",relief = \"solid\",font=(\"Helevetica\",15,\"bold\")).place(x=10, y=40)\n",
    "\n",
    "hour = StringVar()\n",
    "min = StringVar()\n",
    "sec = StringVar()\n",
    "\n",
    "hourTime= Entry(window,textvariable = hour,bg = \"#48C9B0\",width = 4,font=(20)).place(x=210,y=40)\n",
    "minTime= Entry(window,textvariable = min,bg = \"#48C9B0\",width = 4,font=(20)).place(x=270,y=40)\n",
    "secTime = Entry(window,textvariable = sec,bg = \"#48C9B0\",width = 4,font=(20)).place(x=330,y=40)\n",
    "\n",
    "submit = Button(window,text = \"Set Your Alarm\",fg=\"Black\",bg=\"#D4AC0D\",width = 15,command = get_alarm_time,font=(20)).place(x =100,y=80)\n",
    "\n",
    "window.mainloop()"
   ]
  },
  {
   "cell_type": "code",
   "execution_count": null,
   "metadata": {},
   "outputs": [],
   "source": []
  }
 ],
 "metadata": {
  "kernelspec": {
   "display_name": "Python 3",
   "language": "python",
   "name": "python3"
  },
  "language_info": {
   "codemirror_mode": {
    "name": "ipython",
    "version": 3
   },
   "file_extension": ".py",
   "mimetype": "text/x-python",
   "name": "python",
   "nbconvert_exporter": "python",
   "pygments_lexer": "ipython3",
   "version": "3.8.5"
  }
 },
 "nbformat": 4,
 "nbformat_minor": 4
}
